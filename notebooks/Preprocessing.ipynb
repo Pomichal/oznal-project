{
 "cells": [
  {
   "cell_type": "code",
   "execution_count": 306,
   "metadata": {},
   "outputs": [
    {
     "name": "stdout",
     "output_type": "stream",
     "text": [
      "The autoreload extension is already loaded. To reload it, use:\n",
      "  %reload_ext autoreload\n"
     ]
    }
   ],
   "source": [
    "import pandas as pd\n",
    "import matplotlib.pyplot as plt\n",
    "import seaborn as sns\n",
    "import numpy as np\n",
    "from IPython.display import display\n",
    "from sklearn.pipeline import Pipeline\n",
    "import category_encoders as ce\n",
    "\n",
    "import sys\n",
    "sys.path.insert(1, '../')\n",
    "\n",
    "from src import preprocessing as pp\n",
    "from src import analysis\n",
    "\n",
    "# Enable module reloading\n",
    "%load_ext autoreload\n",
    "%autoreload 2\n",
    "\n",
    "pd.set_option('display.max_columns', None)\n",
    "\n",
    "plt.rcParams['figure.figsize'] = (10, 6)\n",
    "%config InlineBackend.figure_format='retina'\n",
    "plt.rcParams.update({'font.size': 15})"
   ]
  },
  {
   "cell_type": "code",
   "execution_count": 261,
   "metadata": {},
   "outputs": [
    {
     "data": {
      "text/plain": [
       "src.preprocessing.transform_column.ExportSimilarBooksRating"
      ]
     },
     "execution_count": 261,
     "metadata": {},
     "output_type": "execute_result"
    }
   ],
   "source": [
    "pp.Re"
   ]
  },
  {
   "cell_type": "code",
   "execution_count": 3,
   "metadata": {},
   "outputs": [],
   "source": [
    "from sklearn.base import TransformerMixin\n",
    "import json\n",
    "from sklearn.model_selection import train_test_split\n"
   ]
  },
  {
   "cell_type": "markdown",
   "metadata": {},
   "source": [
    "# Data preprocessing"
   ]
  },
  {
   "cell_type": "markdown",
   "metadata": {},
   "source": [
    "In this notebook, we are going to preprocess our data, so we can use them during training."
   ]
  },
  {
   "cell_type": "markdown",
   "metadata": {},
   "source": [
    "## Load datasets"
   ]
  },
  {
   "cell_type": "code",
   "execution_count": 93,
   "metadata": {},
   "outputs": [],
   "source": [
    "books = pd.read_csv('../data/books.csv')\n",
    "reviews = pd.read_csv('../data/reviews.csv')\n",
    "# intr = pd.read_csv('../data/interactions.csv')\n",
    "authors = pd.read_csv('../data/authors.csv')"
   ]
  },
  {
   "cell_type": "markdown",
   "metadata": {},
   "source": [
    "## Merge data"
   ]
  },
  {
   "cell_type": "code",
   "execution_count": 12,
   "metadata": {},
   "outputs": [],
   "source": [
    "data = pd.merge(books, reviews , on='book_id')"
   ]
  },
  {
   "cell_type": "code",
   "execution_count": 13,
   "metadata": {},
   "outputs": [
    {
     "data": {
      "text/html": [
       "<div>\n",
       "<style scoped>\n",
       "    .dataframe tbody tr th:only-of-type {\n",
       "        vertical-align: middle;\n",
       "    }\n",
       "\n",
       "    .dataframe tbody tr th {\n",
       "        vertical-align: top;\n",
       "    }\n",
       "\n",
       "    .dataframe thead th {\n",
       "        text-align: right;\n",
       "    }\n",
       "</style>\n",
       "<table border=\"1\" class=\"dataframe\">\n",
       "  <thead>\n",
       "    <tr style=\"text-align: right;\">\n",
       "      <th></th>\n",
       "      <th>isbn</th>\n",
       "      <th>text_reviews_count</th>\n",
       "      <th>series</th>\n",
       "      <th>country_code</th>\n",
       "      <th>language_code</th>\n",
       "      <th>popular_shelves</th>\n",
       "      <th>asin</th>\n",
       "      <th>is_ebook</th>\n",
       "      <th>average_rating</th>\n",
       "      <th>kindle_asin</th>\n",
       "      <th>similar_books</th>\n",
       "      <th>description</th>\n",
       "      <th>format</th>\n",
       "      <th>link</th>\n",
       "      <th>authors</th>\n",
       "      <th>publisher</th>\n",
       "      <th>num_pages</th>\n",
       "      <th>publication_day</th>\n",
       "      <th>isbn13</th>\n",
       "      <th>publication_month</th>\n",
       "      <th>edition_information</th>\n",
       "      <th>publication_year</th>\n",
       "      <th>url</th>\n",
       "      <th>image_url</th>\n",
       "      <th>book_id</th>\n",
       "      <th>ratings_count</th>\n",
       "      <th>work_id</th>\n",
       "      <th>title</th>\n",
       "      <th>title_without_series</th>\n",
       "      <th>user_id</th>\n",
       "      <th>review_id</th>\n",
       "      <th>rating</th>\n",
       "      <th>review_text</th>\n",
       "      <th>date_added</th>\n",
       "      <th>date_updated</th>\n",
       "      <th>read_at</th>\n",
       "      <th>started_at</th>\n",
       "      <th>n_votes</th>\n",
       "      <th>n_comments</th>\n",
       "    </tr>\n",
       "  </thead>\n",
       "  <tbody>\n",
       "    <tr>\n",
       "      <th>0</th>\n",
       "      <td>NaN</td>\n",
       "      <td>1</td>\n",
       "      <td>['147734']</td>\n",
       "      <td>US</td>\n",
       "      <td>NaN</td>\n",
       "      <td>[{'count': '1057', 'name': 'to-read'}, {'count...</td>\n",
       "      <td>B0056A00P4</td>\n",
       "      <td>True</td>\n",
       "      <td>4.04</td>\n",
       "      <td>B0056A00P4</td>\n",
       "      <td>['519546', '1295074', '21407416']</td>\n",
       "      <td>This is the final tale in the bestselling auth...</td>\n",
       "      <td>NaN</td>\n",
       "      <td>https://www.goodreads.com/book/show/12182387-t...</td>\n",
       "      <td>[{'author_id': '50873', 'role': ''}, {'author_...</td>\n",
       "      <td>NaN</td>\n",
       "      <td>NaN</td>\n",
       "      <td>NaN</td>\n",
       "      <td>NaN</td>\n",
       "      <td>NaN</td>\n",
       "      <td>NaN</td>\n",
       "      <td>NaN</td>\n",
       "      <td>https://www.goodreads.com/book/show/12182387-t...</td>\n",
       "      <td>https://s.gr-assets.com/assets/nophoto/book/11...</td>\n",
       "      <td>12182387</td>\n",
       "      <td>4</td>\n",
       "      <td>285263</td>\n",
       "      <td>The Passion (Dark Visions, #3)</td>\n",
       "      <td>The Passion (Dark Visions, #3)</td>\n",
       "      <td>8a6085f339853bb493a8341f0d7e3bdf</td>\n",
       "      <td>fc61f4a89afd084140b9ea2090e552e2</td>\n",
       "      <td>5</td>\n",
       "      <td>Nachdem Gabriel und Lydia verschwunden sind un...</td>\n",
       "      <td>Fri Sep 09 12:32:42 -0700 2011</td>\n",
       "      <td>Wed Oct 26 11:11:47 -0700 2011</td>\n",
       "      <td>Tue Oct 25 00:00:00 -0700 2011</td>\n",
       "      <td>Sun Oct 23 00:00:00 -0700 2011</td>\n",
       "      <td>0</td>\n",
       "      <td>0</td>\n",
       "    </tr>\n",
       "    <tr>\n",
       "      <th>1</th>\n",
       "      <td>NaN</td>\n",
       "      <td>2</td>\n",
       "      <td>['425995']</td>\n",
       "      <td>US</td>\n",
       "      <td>NaN</td>\n",
       "      <td>[{'count': '1010', 'name': 'to-read'}, {'count...</td>\n",
       "      <td>B006KLYIAG</td>\n",
       "      <td>True</td>\n",
       "      <td>3.80</td>\n",
       "      <td>B006KLYIAG</td>\n",
       "      <td>['13400912', '13327517', '18107102', '15797097...</td>\n",
       "      <td>Life should be simple for Cassie.\\nFor the sma...</td>\n",
       "      <td>NaN</td>\n",
       "      <td>https://www.goodreads.com/book/show/20135365-h...</td>\n",
       "      <td>[{'author_id': '5395324', 'role': ''}]</td>\n",
       "      <td>NaN</td>\n",
       "      <td>NaN</td>\n",
       "      <td>NaN</td>\n",
       "      <td>NaN</td>\n",
       "      <td>NaN</td>\n",
       "      <td>NaN</td>\n",
       "      <td>NaN</td>\n",
       "      <td>https://www.goodreads.com/book/show/20135365-h...</td>\n",
       "      <td>https://s.gr-assets.com/assets/nophoto/book/11...</td>\n",
       "      <td>20135365</td>\n",
       "      <td>5</td>\n",
       "      <td>18450480</td>\n",
       "      <td>Hope's Daughter</td>\n",
       "      <td>Hope's Daughter</td>\n",
       "      <td>c7cafc5c262441aaa9fc8c816dcd20d5</td>\n",
       "      <td>9f5ee0e6211043932bcb46793222c2f6</td>\n",
       "      <td>4</td>\n",
       "      <td>I received this book from the author in exchan...</td>\n",
       "      <td>Wed Apr 04 11:09:28 -0700 2012</td>\n",
       "      <td>Thu Mar 20 11:44:09 -0700 2014</td>\n",
       "      <td>Thu Mar 20 11:44:09 -0700 2014</td>\n",
       "      <td>Wed Mar 19 00:00:00 -0700 2014</td>\n",
       "      <td>2</td>\n",
       "      <td>0</td>\n",
       "    </tr>\n",
       "    <tr>\n",
       "      <th>2</th>\n",
       "      <td>0698143760</td>\n",
       "      <td>17</td>\n",
       "      <td>['493993']</td>\n",
       "      <td>US</td>\n",
       "      <td>NaN</td>\n",
       "      <td>[{'count': '1799', 'name': 'fantasy'}, {'count...</td>\n",
       "      <td>NaN</td>\n",
       "      <td>True</td>\n",
       "      <td>3.80</td>\n",
       "      <td>NaN</td>\n",
       "      <td>['15728807', '17182499', '15673520', '16081758...</td>\n",
       "      <td>Wanted by no one.\\nHunted by everyone.\\nSixtee...</td>\n",
       "      <td>ebook</td>\n",
       "      <td>https://www.goodreads.com/book/show/21401181-h...</td>\n",
       "      <td>[{'author_id': '7314532', 'role': ''}]</td>\n",
       "      <td>Viking Children's</td>\n",
       "      <td>416.0</td>\n",
       "      <td>4.0</td>\n",
       "      <td>9780698143760</td>\n",
       "      <td>3.0</td>\n",
       "      <td>NaN</td>\n",
       "      <td>2014.0</td>\n",
       "      <td>https://www.goodreads.com/book/show/21401181-h...</td>\n",
       "      <td>https://images.gr-assets.com/books/1394747643m...</td>\n",
       "      <td>21401181</td>\n",
       "      <td>33</td>\n",
       "      <td>24802827</td>\n",
       "      <td>Half Bad (Half Life, #1)</td>\n",
       "      <td>Half Bad (Half Life, #1)</td>\n",
       "      <td>88d99966e16ad22b3d824758e41bdc31</td>\n",
       "      <td>d1c5a076f2433511b239dd4745d88f99</td>\n",
       "      <td>4</td>\n",
       "      <td>Dark story about a young soon to be witch boy....</td>\n",
       "      <td>Fri Mar 24 04:36:25 -0700 2017</td>\n",
       "      <td>Mon Mar 27 13:28:45 -0700 2017</td>\n",
       "      <td>Mon Mar 27 13:28:45 -0700 2017</td>\n",
       "      <td>Fri Mar 24 04:36:26 -0700 2017</td>\n",
       "      <td>0</td>\n",
       "      <td>0</td>\n",
       "    </tr>\n",
       "  </tbody>\n",
       "</table>\n",
       "</div>"
      ],
      "text/plain": [
       "         isbn  text_reviews_count      series country_code language_code  \\\n",
       "0         NaN                   1  ['147734']           US           NaN   \n",
       "1         NaN                   2  ['425995']           US           NaN   \n",
       "2  0698143760                  17  ['493993']           US           NaN   \n",
       "\n",
       "                                     popular_shelves        asin  is_ebook  \\\n",
       "0  [{'count': '1057', 'name': 'to-read'}, {'count...  B0056A00P4      True   \n",
       "1  [{'count': '1010', 'name': 'to-read'}, {'count...  B006KLYIAG      True   \n",
       "2  [{'count': '1799', 'name': 'fantasy'}, {'count...         NaN      True   \n",
       "\n",
       "   average_rating kindle_asin  \\\n",
       "0            4.04  B0056A00P4   \n",
       "1            3.80  B006KLYIAG   \n",
       "2            3.80         NaN   \n",
       "\n",
       "                                       similar_books  \\\n",
       "0                  ['519546', '1295074', '21407416']   \n",
       "1  ['13400912', '13327517', '18107102', '15797097...   \n",
       "2  ['15728807', '17182499', '15673520', '16081758...   \n",
       "\n",
       "                                         description format  \\\n",
       "0  This is the final tale in the bestselling auth...    NaN   \n",
       "1  Life should be simple for Cassie.\\nFor the sma...    NaN   \n",
       "2  Wanted by no one.\\nHunted by everyone.\\nSixtee...  ebook   \n",
       "\n",
       "                                                link  \\\n",
       "0  https://www.goodreads.com/book/show/12182387-t...   \n",
       "1  https://www.goodreads.com/book/show/20135365-h...   \n",
       "2  https://www.goodreads.com/book/show/21401181-h...   \n",
       "\n",
       "                                             authors          publisher  \\\n",
       "0  [{'author_id': '50873', 'role': ''}, {'author_...                NaN   \n",
       "1             [{'author_id': '5395324', 'role': ''}]                NaN   \n",
       "2             [{'author_id': '7314532', 'role': ''}]  Viking Children's   \n",
       "\n",
       "   num_pages  publication_day         isbn13  publication_month  \\\n",
       "0        NaN              NaN            NaN                NaN   \n",
       "1        NaN              NaN            NaN                NaN   \n",
       "2      416.0              4.0  9780698143760                3.0   \n",
       "\n",
       "  edition_information  publication_year  \\\n",
       "0                 NaN               NaN   \n",
       "1                 NaN               NaN   \n",
       "2                 NaN            2014.0   \n",
       "\n",
       "                                                 url  \\\n",
       "0  https://www.goodreads.com/book/show/12182387-t...   \n",
       "1  https://www.goodreads.com/book/show/20135365-h...   \n",
       "2  https://www.goodreads.com/book/show/21401181-h...   \n",
       "\n",
       "                                           image_url   book_id  ratings_count  \\\n",
       "0  https://s.gr-assets.com/assets/nophoto/book/11...  12182387              4   \n",
       "1  https://s.gr-assets.com/assets/nophoto/book/11...  20135365              5   \n",
       "2  https://images.gr-assets.com/books/1394747643m...  21401181             33   \n",
       "\n",
       "    work_id                           title            title_without_series  \\\n",
       "0    285263  The Passion (Dark Visions, #3)  The Passion (Dark Visions, #3)   \n",
       "1  18450480                 Hope's Daughter                 Hope's Daughter   \n",
       "2  24802827        Half Bad (Half Life, #1)        Half Bad (Half Life, #1)   \n",
       "\n",
       "                            user_id                         review_id  rating  \\\n",
       "0  8a6085f339853bb493a8341f0d7e3bdf  fc61f4a89afd084140b9ea2090e552e2       5   \n",
       "1  c7cafc5c262441aaa9fc8c816dcd20d5  9f5ee0e6211043932bcb46793222c2f6       4   \n",
       "2  88d99966e16ad22b3d824758e41bdc31  d1c5a076f2433511b239dd4745d88f99       4   \n",
       "\n",
       "                                         review_text  \\\n",
       "0  Nachdem Gabriel und Lydia verschwunden sind un...   \n",
       "1  I received this book from the author in exchan...   \n",
       "2  Dark story about a young soon to be witch boy....   \n",
       "\n",
       "                       date_added                    date_updated  \\\n",
       "0  Fri Sep 09 12:32:42 -0700 2011  Wed Oct 26 11:11:47 -0700 2011   \n",
       "1  Wed Apr 04 11:09:28 -0700 2012  Thu Mar 20 11:44:09 -0700 2014   \n",
       "2  Fri Mar 24 04:36:25 -0700 2017  Mon Mar 27 13:28:45 -0700 2017   \n",
       "\n",
       "                          read_at                      started_at  n_votes  \\\n",
       "0  Tue Oct 25 00:00:00 -0700 2011  Sun Oct 23 00:00:00 -0700 2011        0   \n",
       "1  Thu Mar 20 11:44:09 -0700 2014  Wed Mar 19 00:00:00 -0700 2014        2   \n",
       "2  Mon Mar 27 13:28:45 -0700 2017  Fri Mar 24 04:36:26 -0700 2017        0   \n",
       "\n",
       "   n_comments  \n",
       "0           0  \n",
       "1           0  \n",
       "2           0  "
      ]
     },
     "execution_count": 13,
     "metadata": {},
     "output_type": "execute_result"
    }
   ],
   "source": [
    "data.head(3)"
   ]
  },
  {
   "cell_type": "markdown",
   "metadata": {},
   "source": [
    "## Train/Test split"
   ]
  },
  {
   "cell_type": "code",
   "execution_count": 14,
   "metadata": {},
   "outputs": [],
   "source": [
    "drop_cols = ['rating']\n",
    "\n",
    "X = data.drop(drop_cols, axis=1)"
   ]
  },
  {
   "cell_type": "code",
   "execution_count": 15,
   "metadata": {},
   "outputs": [],
   "source": [
    "y = data['rating']"
   ]
  },
  {
   "cell_type": "code",
   "execution_count": 16,
   "metadata": {},
   "outputs": [],
   "source": [
    "X_train, X_test, y_train, y_test = train_test_split(X, y, test_size=0.33, random_state=42)"
   ]
  },
  {
   "cell_type": "markdown",
   "metadata": {},
   "source": [
    "## Create preprocessing pipeline"
   ]
  },
  {
   "cell_type": "markdown",
   "metadata": {},
   "source": [
    "### books\n",
    "In this section, we will try to preprocess data from book dataset."
   ]
  },
  {
   "cell_type": "markdown",
   "metadata": {},
   "source": [
    "Problems needed to be solved by preprocessing are:\n",
    "- drop columns that does not contain any useful information for our task (these are also columns that contain most of the missing values)\n",
    "- replace authors columns with the average rating of authors\n",
    "- export shelves (by default 'favorites', 'currently-reading', 'to-read', or any other) with number of votes\n",
    "- normalize and scale the numeric atributes"
   ]
  },
  {
   "cell_type": "markdown",
   "metadata": {},
   "source": [
    "### Reviews"
   ]
  },
  {
   "cell_type": "markdown",
   "metadata": {},
   "source": [
    "In this section, we will try to preprocess data from reviews dataset."
   ]
  },
  {
   "cell_type": "markdown",
   "metadata": {},
   "source": [
    "Problems needed to be solved by preprocessing are:\n",
    "- drop columns, that does not contain any usefull information\n",
    "- since we found out during analysis that longest reviews contain lots of useless data, we will set trashold for max length of review (in number of words)\n",
    "- get rid of reviews that are not in english\n",
    "- remove urls from reviews\n",
    "- remove other special characters\n",
    "- normalize and scale numeric atributes"
   ]
  },
  {
   "cell_type": "code",
   "execution_count": 21,
   "metadata": {},
   "outputs": [
    {
     "data": {
      "text/plain": [
       "Index(['isbn', 'text_reviews_count', 'series', 'country_code', 'language_code',\n",
       "       'popular_shelves', 'asin', 'is_ebook', 'average_rating', 'kindle_asin',\n",
       "       'similar_books', 'description', 'format', 'link', 'authors',\n",
       "       'publisher', 'num_pages', 'publication_day', 'isbn13',\n",
       "       'publication_month', 'edition_information', 'publication_year', 'url',\n",
       "       'image_url', 'book_id', 'ratings_count', 'work_id', 'title',\n",
       "       'title_without_series', 'user_id', 'review_id', 'review_text',\n",
       "       'date_added', 'date_updated', 'read_at', 'started_at', 'n_votes',\n",
       "       'n_comments'],\n",
       "      dtype='object')"
      ]
     },
     "execution_count": 21,
     "metadata": {},
     "output_type": "execute_result"
    }
   ],
   "source": [
    "X_train.columns"
   ]
  },
  {
   "cell_type": "code",
   "execution_count": 253,
   "metadata": {},
   "outputs": [
    {
     "data": {
      "text/plain": [
       "(1601233, 38)"
      ]
     },
     "execution_count": 253,
     "metadata": {},
     "output_type": "execute_result"
    }
   ],
   "source": [
    "X_train.shape"
   ]
  },
  {
   "cell_type": "code",
   "execution_count": 282,
   "metadata": {},
   "outputs": [
    {
     "data": {
      "text/plain": [
       "3.79"
      ]
     },
     "execution_count": 282,
     "metadata": {},
     "output_type": "execute_result"
    }
   ],
   "source": [
    "books.average_rating.quantile(0.4)"
   ]
  },
  {
   "cell_type": "code",
   "execution_count": 303,
   "metadata": {
    "scrolled": true
   },
   "outputs": [
    {
     "ename": "AttributeError",
     "evalue": "module 'src.preprocessing' has no attribute 'ReplaceOutliersWithPercentile'",
     "output_type": "error",
     "traceback": [
      "\u001b[0;31m---------------------------------------------------------------------------\u001b[0m",
      "\u001b[0;31mAttributeError\u001b[0m                            Traceback (most recent call last)",
      "\u001b[0;32m<ipython-input-303-7dd5345caabe>\u001b[0m in \u001b[0;36m<module>\u001b[0;34m\u001b[0m\n\u001b[1;32m     27\u001b[0m     \u001b[0;34m(\u001b[0m\u001b[0;34m'DropUnusedCols1'\u001b[0m\u001b[0;34m,\u001b[0m \u001b[0mpp\u001b[0m\u001b[0;34m.\u001b[0m\u001b[0mDropColumns\u001b[0m\u001b[0;34m(\u001b[0m\u001b[0mdrop_cols1\u001b[0m\u001b[0;34m)\u001b[0m\u001b[0;34m)\u001b[0m\u001b[0;34m,\u001b[0m\u001b[0;34m\u001b[0m\u001b[0;34m\u001b[0m\u001b[0m\n\u001b[1;32m     28\u001b[0m     \u001b[0;34m(\u001b[0m\u001b[0;34m'SelectTopNPercentileOfBooks'\u001b[0m\u001b[0;34m,\u001b[0m \u001b[0mpp\u001b[0m\u001b[0;34m.\u001b[0m\u001b[0mSelectBooksWithNPercentile\u001b[0m\u001b[0;34m(\u001b[0m\u001b[0;34m'text_reviews_count'\u001b[0m\u001b[0;34m,\u001b[0m \u001b[0;36m0.9\u001b[0m\u001b[0;34m)\u001b[0m\u001b[0;34m)\u001b[0m\u001b[0;34m,\u001b[0m\u001b[0;34m\u001b[0m\u001b[0;34m\u001b[0m\u001b[0m\n\u001b[0;32m---> 29\u001b[0;31m     \u001b[0;34m(\u001b[0m\u001b[0;34m'ReplaceOutliersWithPercentile'\u001b[0m\u001b[0;34m,\u001b[0m \u001b[0mpp\u001b[0m\u001b[0;34m.\u001b[0m\u001b[0mReplaceOutliersWithPercentile\u001b[0m\u001b[0;34m(\u001b[0m\u001b[0mreplace_outliers_cols\u001b[0m\u001b[0;34m,\u001b[0m \u001b[0;36m0.9\u001b[0m\u001b[0;34m,\u001b[0m \u001b[0;36m0.1\u001b[0m\u001b[0;34m)\u001b[0m\u001b[0;34m)\u001b[0m\u001b[0;34m,\u001b[0m\u001b[0;34m\u001b[0m\u001b[0;34m\u001b[0m\u001b[0m\n\u001b[0m\u001b[1;32m     30\u001b[0m \u001b[0;31m#     ('ExportAuthorsAverageRating', pp.ExportAuthorsAverageRating('authors', 'authors_average_rating', authors)),\u001b[0m\u001b[0;34m\u001b[0m\u001b[0;34m\u001b[0m\u001b[0;34m\u001b[0m\u001b[0m\n\u001b[1;32m     31\u001b[0m \u001b[0;31m#     ('ExportSimilarBooksAverageRating', pp.ExportSimilarBooksRating(\u001b[0m\u001b[0;34m\u001b[0m\u001b[0;34m\u001b[0m\u001b[0;34m\u001b[0m\u001b[0m\n",
      "\u001b[0;31mAttributeError\u001b[0m: module 'src.preprocessing' has no attribute 'ReplaceOutliersWithPercentile'"
     ]
    }
   ],
   "source": [
    "drop_cols1 = ['isbn', 'series', 'country_code', 'language_code',\n",
    "              'asin', 'kindle_asin',\n",
    "              'description', \n",
    "              'format',\n",
    "              'link',\n",
    "              'publisher',\n",
    "              'num_pages',\n",
    "              'publication_day', 'isbn13', 'publication_month',\n",
    "              'edition_information',\n",
    "              'publication_year', 'url', 'image_url',\n",
    "              'title',\n",
    "              'title_without_series',\n",
    "              'date_added', 'date_updated', 'read_at', 'started_at',\n",
    "              'n_votes',\n",
    "              'n_comments'\n",
    "             ]\n",
    "\n",
    "drop_cols2 = ['popular_shelves', 'authors', 'similar_books']\n",
    "\n",
    "replace_outliers_cols = ['text_reviews_count']\n",
    "\n",
    "tags = ['favorites', 'currently-reading', 'to-read']\n",
    "\n",
    "encoder = ce.OneHotEncoder()\n",
    "\n",
    "ppl = Pipeline([\n",
    "    ('DropUnusedCols1', pp.DropColumns(drop_cols1)),\n",
    "    ('SelectTopNPercentileOfBooks', pp.SelectBooksWithNPercentile('text_reviews_count', 0.9)),\n",
    "    ('ReplaceOutliersWithPercentile', pp.ReplaceOutliersWithPercentile(replace_outliers_cols, 0.9, 0.1)),\n",
    "#     ('ExportAuthorsAverageRating', pp.ExportAuthorsAverageRating('authors', 'authors_average_rating', authors)),\n",
    "#     ('ExportSimilarBooksAverageRating', pp.ExportSimilarBooksRating(\n",
    "#         books[['book_id','average_rating']], 'similar_books', 'sim_books_average_rating')),\n",
    "#     ('ExtraxtPopularShelves',pp.ExportBookShelves('popular_shelves', tags)),\n",
    "#     ('EmptyValuesFilter', pp.EmptyValuesFilter(['review_text'])),\n",
    "#     ('TextPreprocessor', pp.TextPreprocessor('review_text')),\n",
    "#     ('ReviewLengthFilter', pp.ReviewLengthFilter('review_text', 0, 2000)),\n",
    "#     ('ReviewsLanguageFilter', pp.ReviewsLanguageFilter('review_text', 'en')),\n",
    "    ('DropUnusedCols2', pp.DropColumns(drop_cols2)),\n",
    "#     ('EncodeCategories', pp.EncodeCategories(encoder))\n",
    "])\n",
    "\n",
    "model = ppl.fit(X_train.iloc[:5000])"
   ]
  },
  {
   "cell_type": "code",
   "execution_count": 300,
   "metadata": {},
   "outputs": [
    {
     "name": "stdout",
     "output_type": "stream",
     "text": [
      "(transform) Drop columns: ['isbn', 'series', 'country_code', 'language_code', 'asin', 'kindle_asin', 'description', 'format', 'link', 'publisher', 'num_pages', 'publication_day', 'isbn13', 'publication_month', 'edition_information', 'publication_year', 'url', 'image_url', 'title', 'title_without_series', 'date_added', 'date_updated', 'read_at', 'started_at', 'n_votes', 'n_comments']\n",
      "(transform) Select books with: text_reviews_count >= 22363.0\n",
      "(fit) Replace outliers for:  ['text_reviews_count'] with percentiles: ( 0.1 0.9 )\n",
      "(transform) Drop columns: ['popular_shelves', 'authors', 'similar_books']\n"
     ]
    }
   ],
   "source": [
    "pX_train = ppl.transform(X_train.iloc[:5000])"
   ]
  },
  {
   "cell_type": "code",
   "execution_count": 295,
   "metadata": {},
   "outputs": [
    {
     "data": {
      "text/html": [
       "<div>\n",
       "<style scoped>\n",
       "    .dataframe tbody tr th:only-of-type {\n",
       "        vertical-align: middle;\n",
       "    }\n",
       "\n",
       "    .dataframe tbody tr th {\n",
       "        vertical-align: top;\n",
       "    }\n",
       "\n",
       "    .dataframe thead th {\n",
       "        text-align: right;\n",
       "    }\n",
       "</style>\n",
       "<table border=\"1\" class=\"dataframe\">\n",
       "  <thead>\n",
       "    <tr style=\"text-align: right;\">\n",
       "      <th></th>\n",
       "      <th>text_reviews_count</th>\n",
       "      <th>is_ebook</th>\n",
       "      <th>average_rating</th>\n",
       "      <th>book_id</th>\n",
       "      <th>ratings_count</th>\n",
       "      <th>work_id</th>\n",
       "      <th>user_id</th>\n",
       "      <th>review_id</th>\n",
       "      <th>review_text</th>\n",
       "    </tr>\n",
       "  </thead>\n",
       "  <tbody>\n",
       "    <tr>\n",
       "      <th>1703631</th>\n",
       "      <td>40116.0</td>\n",
       "      <td>False</td>\n",
       "      <td>4.21</td>\n",
       "      <td>22628</td>\n",
       "      <td>906322</td>\n",
       "      <td>2236198</td>\n",
       "      <td>ef7adbc97c4a7280882df0f888f1ab92</td>\n",
       "      <td>3c4257add627a71bf658df27348a4866</td>\n",
       "      <td>If there was a list of banned books, I think t...</td>\n",
       "    </tr>\n",
       "    <tr>\n",
       "      <th>1700061</th>\n",
       "      <td>32909.0</td>\n",
       "      <td>False</td>\n",
       "      <td>3.69</td>\n",
       "      <td>428263</td>\n",
       "      <td>1146155</td>\n",
       "      <td>2675454</td>\n",
       "      <td>a7958ca78024f0c9a30e5df0bed69560</td>\n",
       "      <td>d5a3b09f72e11ee7c2692738261c9214</td>\n",
       "      <td>My favourite of the series! Now that all the m...</td>\n",
       "    </tr>\n",
       "    <tr>\n",
       "      <th>2313973</th>\n",
       "      <td>68482.0</td>\n",
       "      <td>False</td>\n",
       "      <td>4.23</td>\n",
       "      <td>13335037</td>\n",
       "      <td>1962813</td>\n",
       "      <td>13155899</td>\n",
       "      <td>9e49b762b9c7b6aa8430e9a12ef7fd59</td>\n",
       "      <td>73001ec28d5d5fde69709a6924b7a1f5</td>\n",
       "      <td>I thought this book was decent but some things...</td>\n",
       "    </tr>\n",
       "    <tr>\n",
       "      <th>612566</th>\n",
       "      <td>31536.0</td>\n",
       "      <td>False</td>\n",
       "      <td>4.43</td>\n",
       "      <td>11387515</td>\n",
       "      <td>255461</td>\n",
       "      <td>16319487</td>\n",
       "      <td>9babe654bdebdcd89f4044e4202c8260</td>\n",
       "      <td>5b4cb7933029d4313b3648f521a07a76</td>\n",
       "      <td>I don't think words can describe the experienc...</td>\n",
       "    </tr>\n",
       "    <tr>\n",
       "      <th>616703</th>\n",
       "      <td>31536.0</td>\n",
       "      <td>False</td>\n",
       "      <td>4.43</td>\n",
       "      <td>11387515</td>\n",
       "      <td>255461</td>\n",
       "      <td>16319487</td>\n",
       "      <td>17011978371273cb19718587a0c81933</td>\n",
       "      <td>968ec59fc0778d42108c3c0c6e1a4289</td>\n",
       "      <td>I finsished this book a long time ago. I like ...</td>\n",
       "    </tr>\n",
       "  </tbody>\n",
       "</table>\n",
       "</div>"
      ],
      "text/plain": [
       "         text_reviews_count  is_ebook  average_rating   book_id  \\\n",
       "1703631             40116.0     False            4.21     22628   \n",
       "1700061             32909.0     False            3.69    428263   \n",
       "2313973             68482.0     False            4.23  13335037   \n",
       "612566              31536.0     False            4.43  11387515   \n",
       "616703              31536.0     False            4.43  11387515   \n",
       "\n",
       "         ratings_count   work_id                           user_id  \\\n",
       "1703631         906322   2236198  ef7adbc97c4a7280882df0f888f1ab92   \n",
       "1700061        1146155   2675454  a7958ca78024f0c9a30e5df0bed69560   \n",
       "2313973        1962813  13155899  9e49b762b9c7b6aa8430e9a12ef7fd59   \n",
       "612566          255461  16319487  9babe654bdebdcd89f4044e4202c8260   \n",
       "616703          255461  16319487  17011978371273cb19718587a0c81933   \n",
       "\n",
       "                                review_id  \\\n",
       "1703631  3c4257add627a71bf658df27348a4866   \n",
       "1700061  d5a3b09f72e11ee7c2692738261c9214   \n",
       "2313973  73001ec28d5d5fde69709a6924b7a1f5   \n",
       "612566   5b4cb7933029d4313b3648f521a07a76   \n",
       "616703   968ec59fc0778d42108c3c0c6e1a4289   \n",
       "\n",
       "                                               review_text  \n",
       "1703631  If there was a list of banned books, I think t...  \n",
       "1700061  My favourite of the series! Now that all the m...  \n",
       "2313973  I thought this book was decent but some things...  \n",
       "612566   I don't think words can describe the experienc...  \n",
       "616703   I finsished this book a long time ago. I like ...  "
      ]
     },
     "execution_count": 295,
     "metadata": {},
     "output_type": "execute_result"
    }
   ],
   "source": [
    "pX_train.head()"
   ]
  },
  {
   "cell_type": "code",
   "execution_count": 10,
   "metadata": {},
   "outputs": [
    {
     "name": "stdout",
     "output_type": "stream",
     "text": [
      "(fit) Drop columns: ['date_added', 'date_updated', 'read_at', 'started_at']\n",
      "(transform) Drop columns: ['date_added', 'date_updated', 'read_at', 'started_at']\n",
      "(fit) Empty values filter\n",
      "(transform) Empty values filter\n",
      "(fit) Text preprocessing\n",
      "(transform) Text preprocessing\n",
      "(fit) Review length filter\n",
      "(transform) Review length filter\n",
      "(fit) Reviews language filter\n"
     ]
    }
   ],
   "source": [
    "drop_cols1 = ['date_added', 'date_updated', 'read_at', 'started_at']\n",
    "\n",
    "reviews_ppl = Pipeline([\n",
    "    ('DropUnusedCols1', pp.DropColumns(drop_cols1)),\n",
    "    ('EmptyValuesFilter', pp.EmptyValuesFilter(['review_text'])),\n",
    "    ('TextPreprocessor', pp.TextPreprocessor('review_text')),\n",
    "    ('ReviewLengthFilter', pp.ReviewLengthFilter('review_text', 0, 2000)),\n",
    "    ('ReviewsLanguageFilter', pp.ReviewsLanguageFilter('review_text', 'en'))\n",
    "])\n",
    "\n",
    "model = reviews_ppl.fit(reviews)"
   ]
  }
 ],
 "metadata": {
  "kernelspec": {
   "display_name": "Python 3",
   "language": "python",
   "name": "python3"
  },
  "language_info": {
   "codemirror_mode": {
    "name": "ipython",
    "version": 3
   },
   "file_extension": ".py",
   "mimetype": "text/x-python",
   "name": "python",
   "nbconvert_exporter": "python",
   "pygments_lexer": "ipython3",
   "version": "3.7.5"
  }
 },
 "nbformat": 4,
 "nbformat_minor": 4
}
