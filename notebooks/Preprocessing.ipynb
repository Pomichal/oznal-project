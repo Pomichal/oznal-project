{
 "cells": [
  {
   "cell_type": "code",
   "execution_count": 6,
   "metadata": {},
   "outputs": [
    {
     "name": "stdout",
     "output_type": "stream",
     "text": [
      "The autoreload extension is already loaded. To reload it, use:\n",
      "  %reload_ext autoreload\n"
     ]
    }
   ],
   "source": [
    "import pandas as pd\n",
    "import matplotlib.pyplot as plt\n",
    "import seaborn as sns\n",
    "import numpy as np\n",
    "from IPython.display import display\n",
    "from sklearn.pipeline import Pipeline\n",
    "\n",
    "import sys\n",
    "sys.path.insert(1, '../')\n",
    "\n",
    "from src import preprocessing as pp\n",
    "from src import analysis\n",
    "\n",
    "# Enable module reloading\n",
    "%load_ext autoreload\n",
    "%autoreload 2\n",
    "\n",
    "pd.set_option('display.max_columns', None)\n",
    "\n",
    "plt.rcParams['figure.figsize'] = (10, 6)\n",
    "%config InlineBackend.figure_format='retina'\n",
    "plt.rcParams.update({'font.size': 15})"
   ]
  },
  {
   "cell_type": "code",
   "execution_count": 17,
   "metadata": {},
   "outputs": [],
   "source": [
    "from sklearn.base import TransformerMixin"
   ]
  },
  {
   "cell_type": "markdown",
   "metadata": {},
   "source": [
    "# Load datasets"
   ]
  },
  {
   "cell_type": "code",
   "execution_count": 2,
   "metadata": {},
   "outputs": [],
   "source": [
    "books = pd.read_csv('../data/books.csv')\n",
    "reviews = pd.read_csv('../data/reviews.csv')\n",
    "# intr = pd.read_csv('../data/interactions.csv')\n",
    "authors = pd.read_csv('../data/authors.csv')"
   ]
  },
  {
   "cell_type": "markdown",
   "metadata": {},
   "source": [
    "# Train - val - test split\n"
   ]
  },
  {
   "cell_type": "markdown",
   "metadata": {},
   "source": [
    "In the first step we will select only the column, which we will use in further preprocessing"
   ]
  },
  {
   "cell_type": "code",
   "execution_count": 67,
   "metadata": {},
   "outputs": [],
   "source": [
    "class DropColumns(TransformerMixin):\n",
    "    def __init__(self, cols):\n",
    "        self.cols = cols\n",
    "        \n",
    "    def fit(self, df, y=None):\n",
    "        print(\"Drop columns: \" + str(self.cols))\n",
    "        return self\n",
    "        \n",
    "    def transform(self, df):\n",
    "        return df.drop(self.cols, axis=1)"
   ]
  },
  {
   "cell_type": "markdown",
   "metadata": {},
   "source": [
    "In the next step we will choose only the upper 50% of books according to number of text reviews (it means books with at least 9 text reviews."
   ]
  },
  {
   "cell_type": "code",
   "execution_count": 15,
   "metadata": {},
   "outputs": [
    {
     "data": {
      "text/plain": [
       "9.0"
      ]
     },
     "execution_count": 15,
     "metadata": {},
     "output_type": "execute_result"
    }
   ],
   "source": [
    "books.text_reviews_count.quantile(.50)"
   ]
  },
  {
   "cell_type": "code",
   "execution_count": 10,
   "metadata": {},
   "outputs": [],
   "source": [
    "books50 = books[books.text_reviews_count >= 9]"
   ]
  },
  {
   "cell_type": "code",
   "execution_count": 12,
   "metadata": {},
   "outputs": [
    {
     "data": {
      "text/plain": [
       "(48681, 29)"
      ]
     },
     "execution_count": 12,
     "metadata": {},
     "output_type": "execute_result"
    }
   ],
   "source": [
    "books50.shape"
   ]
  },
  {
   "cell_type": "code",
   "execution_count": 69,
   "metadata": {},
   "outputs": [],
   "source": [
    "class SelectBooksWithNPercentile(TransformerMixin):\n",
    "    def __init__(self, col_name, lower_percentile):\n",
    "        self.col_name = col_name\n",
    "        self.percentile = lower_percentile\n",
    "        self.bound = 0\n",
    "        \n",
    "    def fit(self, df, y=None):\n",
    "        self.bound = df[self.col_name].quantile(self.percentile)\n",
    "        print(\"(fit) Select books with: \" + self.col_name + \" >= \" + str(self.bound))\n",
    "        return self\n",
    "        \n",
    "    def transform(self, df):\n",
    "        return df[df[self.col_name] >= self.bound]"
   ]
  },
  {
   "cell_type": "code",
   "execution_count": 70,
   "metadata": {},
   "outputs": [
    {
     "name": "stdout",
     "output_type": "stream",
     "text": [
      "Drop columns: ['isbn', 'asin', 'kindle_asin', 'isbn13']\n",
      "(fit) Select books with: text_reviews_count >= 9.0\n",
      "ExportBookShelves, tag_col: popular_shelves, tags:['favorites', 'currently-reading', 'to-read']\n"
     ]
    }
   ],
   "source": [
    "drop_cols = ['isbn', 'asin', 'kindle_asin', 'isbn13']\n",
    "tags = ['favorites', 'currently-reading', 'to-read']\n",
    "\n",
    "ppl = Pipeline([\n",
    "    ('DropUnusedCols', DropColumns(drop_cols)),\n",
    "    ('SelectTopNPercentileOfBooks', SelectBooksWithNPercentile('text_reviews_count', 0.5)),\n",
    "    ('ExtraxtPopularShelves',pp.ExportBookShelves('popular_shelves', tags)),\n",
    "])\n",
    "\n",
    "model = ppl.fit(books)"
   ]
  },
  {
   "cell_type": "code",
   "execution_count": 59,
   "metadata": {},
   "outputs": [],
   "source": [
    "train = ppl.transform(books)"
   ]
  },
  {
   "cell_type": "code",
   "execution_count": 60,
   "metadata": {},
   "outputs": [
    {
     "data": {
      "text/html": [
       "<div>\n",
       "<style scoped>\n",
       "    .dataframe tbody tr th:only-of-type {\n",
       "        vertical-align: middle;\n",
       "    }\n",
       "\n",
       "    .dataframe tbody tr th {\n",
       "        vertical-align: top;\n",
       "    }\n",
       "\n",
       "    .dataframe thead th {\n",
       "        text-align: right;\n",
       "    }\n",
       "</style>\n",
       "<table border=\"1\" class=\"dataframe\">\n",
       "  <thead>\n",
       "    <tr style=\"text-align: right;\">\n",
       "      <th></th>\n",
       "      <th>isbn</th>\n",
       "      <th>text_reviews_count</th>\n",
       "      <th>series</th>\n",
       "      <th>country_code</th>\n",
       "      <th>language_code</th>\n",
       "      <th>popular_shelves</th>\n",
       "      <th>asin</th>\n",
       "      <th>is_ebook</th>\n",
       "      <th>average_rating</th>\n",
       "      <th>kindle_asin</th>\n",
       "      <th>similar_books</th>\n",
       "      <th>description</th>\n",
       "      <th>format</th>\n",
       "      <th>link</th>\n",
       "      <th>authors</th>\n",
       "      <th>publisher</th>\n",
       "      <th>num_pages</th>\n",
       "      <th>publication_day</th>\n",
       "      <th>isbn13</th>\n",
       "      <th>publication_month</th>\n",
       "      <th>edition_information</th>\n",
       "      <th>publication_year</th>\n",
       "      <th>url</th>\n",
       "      <th>image_url</th>\n",
       "      <th>book_id</th>\n",
       "      <th>ratings_count</th>\n",
       "      <th>work_id</th>\n",
       "      <th>title</th>\n",
       "      <th>title_without_series</th>\n",
       "      <th>favorites</th>\n",
       "      <th>currently-reading</th>\n",
       "      <th>to-read</th>\n",
       "    </tr>\n",
       "  </thead>\n",
       "  <tbody>\n",
       "    <tr>\n",
       "      <th>2</th>\n",
       "      <td>0698143760</td>\n",
       "      <td>17</td>\n",
       "      <td>['493993']</td>\n",
       "      <td>US</td>\n",
       "      <td>NaN</td>\n",
       "      <td>[{'count': '1799', 'name': 'fantasy'}, {'count...</td>\n",
       "      <td>NaN</td>\n",
       "      <td>True</td>\n",
       "      <td>3.80</td>\n",
       "      <td>NaN</td>\n",
       "      <td>['15728807', '17182499', '15673520', '16081758...</td>\n",
       "      <td>Wanted by no one.\\nHunted by everyone.\\nSixtee...</td>\n",
       "      <td>ebook</td>\n",
       "      <td>https://www.goodreads.com/book/show/21401181-h...</td>\n",
       "      <td>[{'author_id': '7314532', 'role': ''}]</td>\n",
       "      <td>Viking Children's</td>\n",
       "      <td>416.0</td>\n",
       "      <td>4.0</td>\n",
       "      <td>9780698143760</td>\n",
       "      <td>3.0</td>\n",
       "      <td>NaN</td>\n",
       "      <td>2014.0</td>\n",
       "      <td>https://www.goodreads.com/book/show/21401181-h...</td>\n",
       "      <td>https://images.gr-assets.com/books/1394747643m...</td>\n",
       "      <td>21401181</td>\n",
       "      <td>33</td>\n",
       "      <td>24802827</td>\n",
       "      <td>Half Bad (Half Life, #1)</td>\n",
       "      <td>Half Bad (Half Life, #1)</td>\n",
       "      <td>686</td>\n",
       "      <td>0</td>\n",
       "      <td>309</td>\n",
       "    </tr>\n",
       "    <tr>\n",
       "      <th>3</th>\n",
       "      <td>NaN</td>\n",
       "      <td>9</td>\n",
       "      <td>['176160']</td>\n",
       "      <td>US</td>\n",
       "      <td>eng</td>\n",
       "      <td>[{'count': '7173', 'name': 'to-read'}, {'count...</td>\n",
       "      <td>B0042JSOQC</td>\n",
       "      <td>True</td>\n",
       "      <td>4.35</td>\n",
       "      <td>B004IYJDXY</td>\n",
       "      <td>['25861113', '7430195', '18765937', '6120544',...</td>\n",
       "      <td>It all comes down to this.\\nVlad's running out...</td>\n",
       "      <td>NaN</td>\n",
       "      <td>https://www.goodreads.com/book/show/10099492-t...</td>\n",
       "      <td>[{'author_id': '293603', 'role': ''}]</td>\n",
       "      <td>NaN</td>\n",
       "      <td>NaN</td>\n",
       "      <td>NaN</td>\n",
       "      <td>NaN</td>\n",
       "      <td>NaN</td>\n",
       "      <td>NaN</td>\n",
       "      <td>NaN</td>\n",
       "      <td>https://www.goodreads.com/book/show/10099492-t...</td>\n",
       "      <td>https://s.gr-assets.com/assets/nophoto/book/11...</td>\n",
       "      <td>10099492</td>\n",
       "      <td>152</td>\n",
       "      <td>10800440</td>\n",
       "      <td>Twelfth Grade Kills (The Chronicles of Vladimi...</td>\n",
       "      <td>Twelfth Grade Kills (The Chronicles of Vladimi...</td>\n",
       "      <td>186</td>\n",
       "      <td>195</td>\n",
       "      <td>7173</td>\n",
       "    </tr>\n",
       "    <tr>\n",
       "      <th>4</th>\n",
       "      <td>0990662616</td>\n",
       "      <td>428</td>\n",
       "      <td>[]</td>\n",
       "      <td>US</td>\n",
       "      <td>eng</td>\n",
       "      <td>[{'count': '9481', 'name': 'to-read'}, {'count...</td>\n",
       "      <td>NaN</td>\n",
       "      <td>False</td>\n",
       "      <td>3.71</td>\n",
       "      <td>B00MW0MTGE</td>\n",
       "      <td>['20499652', '17934493', '13518102', '16210411...</td>\n",
       "      <td>The future world is at peace.\\nElla Shepherd h...</td>\n",
       "      <td>Paperback</td>\n",
       "      <td>https://www.goodreads.com/book/show/22642971-t...</td>\n",
       "      <td>[{'author_id': '4018722', 'role': ''}]</td>\n",
       "      <td>Scripturient Books</td>\n",
       "      <td>351.0</td>\n",
       "      <td>6.0</td>\n",
       "      <td>9780990662617</td>\n",
       "      <td>10.0</td>\n",
       "      <td>Special Edition</td>\n",
       "      <td>2014.0</td>\n",
       "      <td>https://www.goodreads.com/book/show/22642971-t...</td>\n",
       "      <td>https://images.gr-assets.com/books/1406979059m...</td>\n",
       "      <td>22642971</td>\n",
       "      <td>1525</td>\n",
       "      <td>42144295</td>\n",
       "      <td>The Body Electric</td>\n",
       "      <td>The Body Electric</td>\n",
       "      <td>49</td>\n",
       "      <td>67</td>\n",
       "      <td>9481</td>\n",
       "    </tr>\n",
       "  </tbody>\n",
       "</table>\n",
       "</div>"
      ],
      "text/plain": [
       "         isbn  text_reviews_count      series country_code language_code  \\\n",
       "2  0698143760                  17  ['493993']           US           NaN   \n",
       "3         NaN                   9  ['176160']           US           eng   \n",
       "4  0990662616                 428          []           US           eng   \n",
       "\n",
       "                                     popular_shelves        asin  is_ebook  \\\n",
       "2  [{'count': '1799', 'name': 'fantasy'}, {'count...         NaN      True   \n",
       "3  [{'count': '7173', 'name': 'to-read'}, {'count...  B0042JSOQC      True   \n",
       "4  [{'count': '9481', 'name': 'to-read'}, {'count...         NaN     False   \n",
       "\n",
       "   average_rating kindle_asin  \\\n",
       "2            3.80         NaN   \n",
       "3            4.35  B004IYJDXY   \n",
       "4            3.71  B00MW0MTGE   \n",
       "\n",
       "                                       similar_books  \\\n",
       "2  ['15728807', '17182499', '15673520', '16081758...   \n",
       "3  ['25861113', '7430195', '18765937', '6120544',...   \n",
       "4  ['20499652', '17934493', '13518102', '16210411...   \n",
       "\n",
       "                                         description     format  \\\n",
       "2  Wanted by no one.\\nHunted by everyone.\\nSixtee...      ebook   \n",
       "3  It all comes down to this.\\nVlad's running out...        NaN   \n",
       "4  The future world is at peace.\\nElla Shepherd h...  Paperback   \n",
       "\n",
       "                                                link  \\\n",
       "2  https://www.goodreads.com/book/show/21401181-h...   \n",
       "3  https://www.goodreads.com/book/show/10099492-t...   \n",
       "4  https://www.goodreads.com/book/show/22642971-t...   \n",
       "\n",
       "                                  authors           publisher  num_pages  \\\n",
       "2  [{'author_id': '7314532', 'role': ''}]   Viking Children's      416.0   \n",
       "3   [{'author_id': '293603', 'role': ''}]                 NaN        NaN   \n",
       "4  [{'author_id': '4018722', 'role': ''}]  Scripturient Books      351.0   \n",
       "\n",
       "   publication_day         isbn13  publication_month edition_information  \\\n",
       "2              4.0  9780698143760                3.0                 NaN   \n",
       "3              NaN            NaN                NaN                 NaN   \n",
       "4              6.0  9780990662617               10.0     Special Edition   \n",
       "\n",
       "   publication_year                                                url  \\\n",
       "2            2014.0  https://www.goodreads.com/book/show/21401181-h...   \n",
       "3               NaN  https://www.goodreads.com/book/show/10099492-t...   \n",
       "4            2014.0  https://www.goodreads.com/book/show/22642971-t...   \n",
       "\n",
       "                                           image_url   book_id  ratings_count  \\\n",
       "2  https://images.gr-assets.com/books/1394747643m...  21401181             33   \n",
       "3  https://s.gr-assets.com/assets/nophoto/book/11...  10099492            152   \n",
       "4  https://images.gr-assets.com/books/1406979059m...  22642971           1525   \n",
       "\n",
       "    work_id                                              title  \\\n",
       "2  24802827                           Half Bad (Half Life, #1)   \n",
       "3  10800440  Twelfth Grade Kills (The Chronicles of Vladimi...   \n",
       "4  42144295                                  The Body Electric   \n",
       "\n",
       "                                title_without_series  favorites  \\\n",
       "2                           Half Bad (Half Life, #1)        686   \n",
       "3  Twelfth Grade Kills (The Chronicles of Vladimi...        186   \n",
       "4                                  The Body Electric         49   \n",
       "\n",
       "   currently-reading  to-read  \n",
       "2                  0      309  \n",
       "3                195     7173  \n",
       "4                 67     9481  "
      ]
     },
     "execution_count": 60,
     "metadata": {},
     "output_type": "execute_result"
    }
   ],
   "source": [
    "train.head(3)"
   ]
  },
  {
   "cell_type": "code",
   "execution_count": 65,
   "metadata": {},
   "outputs": [
    {
     "ename": "KeyError",
     "evalue": "\"['asd'] not found in axis\"",
     "output_type": "error",
     "traceback": [
      "\u001b[0;31m---------------------------------------------------------------------------\u001b[0m",
      "\u001b[0;31mKeyError\u001b[0m                                  Traceback (most recent call last)",
      "\u001b[0;32m<ipython-input-65-78e55f8e20ea>\u001b[0m in \u001b[0;36m<module>\u001b[0;34m\u001b[0m\n\u001b[0;32m----> 1\u001b[0;31m \u001b[0mtrain\u001b[0m\u001b[0;34m.\u001b[0m\u001b[0mdrop\u001b[0m\u001b[0;34m(\u001b[0m\u001b[0;34m[\u001b[0m\u001b[0;34m'isbn'\u001b[0m\u001b[0;34m,\u001b[0m \u001b[0;34m'asin'\u001b[0m\u001b[0;34m,\u001b[0m \u001b[0;34m'asd'\u001b[0m\u001b[0;34m]\u001b[0m\u001b[0;34m,\u001b[0m \u001b[0maxis\u001b[0m\u001b[0;34m=\u001b[0m\u001b[0;36m1\u001b[0m\u001b[0;34m)\u001b[0m\u001b[0;34m\u001b[0m\u001b[0;34m\u001b[0m\u001b[0m\n\u001b[0m",
      "\u001b[0;32m~/Documents/FIIT/8-semester/OZNAL/oznal-project/.venv/lib/python3.7/site-packages/pandas/core/frame.py\u001b[0m in \u001b[0;36mdrop\u001b[0;34m(self, labels, axis, index, columns, level, inplace, errors)\u001b[0m\n\u001b[1;32m   3995\u001b[0m             \u001b[0mlevel\u001b[0m\u001b[0;34m=\u001b[0m\u001b[0mlevel\u001b[0m\u001b[0;34m,\u001b[0m\u001b[0;34m\u001b[0m\u001b[0;34m\u001b[0m\u001b[0m\n\u001b[1;32m   3996\u001b[0m             \u001b[0minplace\u001b[0m\u001b[0;34m=\u001b[0m\u001b[0minplace\u001b[0m\u001b[0;34m,\u001b[0m\u001b[0;34m\u001b[0m\u001b[0;34m\u001b[0m\u001b[0m\n\u001b[0;32m-> 3997\u001b[0;31m             \u001b[0merrors\u001b[0m\u001b[0;34m=\u001b[0m\u001b[0merrors\u001b[0m\u001b[0;34m,\u001b[0m\u001b[0;34m\u001b[0m\u001b[0;34m\u001b[0m\u001b[0m\n\u001b[0m\u001b[1;32m   3998\u001b[0m         )\n\u001b[1;32m   3999\u001b[0m \u001b[0;34m\u001b[0m\u001b[0m\n",
      "\u001b[0;32m~/Documents/FIIT/8-semester/OZNAL/oznal-project/.venv/lib/python3.7/site-packages/pandas/core/generic.py\u001b[0m in \u001b[0;36mdrop\u001b[0;34m(self, labels, axis, index, columns, level, inplace, errors)\u001b[0m\n\u001b[1;32m   3934\u001b[0m         \u001b[0;32mfor\u001b[0m \u001b[0maxis\u001b[0m\u001b[0;34m,\u001b[0m \u001b[0mlabels\u001b[0m \u001b[0;32min\u001b[0m \u001b[0maxes\u001b[0m\u001b[0;34m.\u001b[0m\u001b[0mitems\u001b[0m\u001b[0;34m(\u001b[0m\u001b[0;34m)\u001b[0m\u001b[0;34m:\u001b[0m\u001b[0;34m\u001b[0m\u001b[0;34m\u001b[0m\u001b[0m\n\u001b[1;32m   3935\u001b[0m             \u001b[0;32mif\u001b[0m \u001b[0mlabels\u001b[0m \u001b[0;32mis\u001b[0m \u001b[0;32mnot\u001b[0m \u001b[0;32mNone\u001b[0m\u001b[0;34m:\u001b[0m\u001b[0;34m\u001b[0m\u001b[0;34m\u001b[0m\u001b[0m\n\u001b[0;32m-> 3936\u001b[0;31m                 \u001b[0mobj\u001b[0m \u001b[0;34m=\u001b[0m \u001b[0mobj\u001b[0m\u001b[0;34m.\u001b[0m\u001b[0m_drop_axis\u001b[0m\u001b[0;34m(\u001b[0m\u001b[0mlabels\u001b[0m\u001b[0;34m,\u001b[0m \u001b[0maxis\u001b[0m\u001b[0;34m,\u001b[0m \u001b[0mlevel\u001b[0m\u001b[0;34m=\u001b[0m\u001b[0mlevel\u001b[0m\u001b[0;34m,\u001b[0m \u001b[0merrors\u001b[0m\u001b[0;34m=\u001b[0m\u001b[0merrors\u001b[0m\u001b[0;34m)\u001b[0m\u001b[0;34m\u001b[0m\u001b[0;34m\u001b[0m\u001b[0m\n\u001b[0m\u001b[1;32m   3937\u001b[0m \u001b[0;34m\u001b[0m\u001b[0m\n\u001b[1;32m   3938\u001b[0m         \u001b[0;32mif\u001b[0m \u001b[0minplace\u001b[0m\u001b[0;34m:\u001b[0m\u001b[0;34m\u001b[0m\u001b[0;34m\u001b[0m\u001b[0m\n",
      "\u001b[0;32m~/Documents/FIIT/8-semester/OZNAL/oznal-project/.venv/lib/python3.7/site-packages/pandas/core/generic.py\u001b[0m in \u001b[0;36m_drop_axis\u001b[0;34m(self, labels, axis, level, errors)\u001b[0m\n\u001b[1;32m   3968\u001b[0m                 \u001b[0mnew_axis\u001b[0m \u001b[0;34m=\u001b[0m \u001b[0maxis\u001b[0m\u001b[0;34m.\u001b[0m\u001b[0mdrop\u001b[0m\u001b[0;34m(\u001b[0m\u001b[0mlabels\u001b[0m\u001b[0;34m,\u001b[0m \u001b[0mlevel\u001b[0m\u001b[0;34m=\u001b[0m\u001b[0mlevel\u001b[0m\u001b[0;34m,\u001b[0m \u001b[0merrors\u001b[0m\u001b[0;34m=\u001b[0m\u001b[0merrors\u001b[0m\u001b[0;34m)\u001b[0m\u001b[0;34m\u001b[0m\u001b[0;34m\u001b[0m\u001b[0m\n\u001b[1;32m   3969\u001b[0m             \u001b[0;32melse\u001b[0m\u001b[0;34m:\u001b[0m\u001b[0;34m\u001b[0m\u001b[0;34m\u001b[0m\u001b[0m\n\u001b[0;32m-> 3970\u001b[0;31m                 \u001b[0mnew_axis\u001b[0m \u001b[0;34m=\u001b[0m \u001b[0maxis\u001b[0m\u001b[0;34m.\u001b[0m\u001b[0mdrop\u001b[0m\u001b[0;34m(\u001b[0m\u001b[0mlabels\u001b[0m\u001b[0;34m,\u001b[0m \u001b[0merrors\u001b[0m\u001b[0;34m=\u001b[0m\u001b[0merrors\u001b[0m\u001b[0;34m)\u001b[0m\u001b[0;34m\u001b[0m\u001b[0;34m\u001b[0m\u001b[0m\n\u001b[0m\u001b[1;32m   3971\u001b[0m             \u001b[0mresult\u001b[0m \u001b[0;34m=\u001b[0m \u001b[0mself\u001b[0m\u001b[0;34m.\u001b[0m\u001b[0mreindex\u001b[0m\u001b[0;34m(\u001b[0m\u001b[0;34m**\u001b[0m\u001b[0;34m{\u001b[0m\u001b[0maxis_name\u001b[0m\u001b[0;34m:\u001b[0m \u001b[0mnew_axis\u001b[0m\u001b[0;34m}\u001b[0m\u001b[0;34m)\u001b[0m\u001b[0;34m\u001b[0m\u001b[0;34m\u001b[0m\u001b[0m\n\u001b[1;32m   3972\u001b[0m \u001b[0;34m\u001b[0m\u001b[0m\n",
      "\u001b[0;32m~/Documents/FIIT/8-semester/OZNAL/oznal-project/.venv/lib/python3.7/site-packages/pandas/core/indexes/base.py\u001b[0m in \u001b[0;36mdrop\u001b[0;34m(self, labels, errors)\u001b[0m\n\u001b[1;32m   5016\u001b[0m         \u001b[0;32mif\u001b[0m \u001b[0mmask\u001b[0m\u001b[0;34m.\u001b[0m\u001b[0many\u001b[0m\u001b[0;34m(\u001b[0m\u001b[0;34m)\u001b[0m\u001b[0;34m:\u001b[0m\u001b[0;34m\u001b[0m\u001b[0;34m\u001b[0m\u001b[0m\n\u001b[1;32m   5017\u001b[0m             \u001b[0;32mif\u001b[0m \u001b[0merrors\u001b[0m \u001b[0;34m!=\u001b[0m \u001b[0;34m\"ignore\"\u001b[0m\u001b[0;34m:\u001b[0m\u001b[0;34m\u001b[0m\u001b[0;34m\u001b[0m\u001b[0m\n\u001b[0;32m-> 5018\u001b[0;31m                 \u001b[0;32mraise\u001b[0m \u001b[0mKeyError\u001b[0m\u001b[0;34m(\u001b[0m\u001b[0;34mf\"{labels[mask]} not found in axis\"\u001b[0m\u001b[0;34m)\u001b[0m\u001b[0;34m\u001b[0m\u001b[0;34m\u001b[0m\u001b[0m\n\u001b[0m\u001b[1;32m   5019\u001b[0m             \u001b[0mindexer\u001b[0m \u001b[0;34m=\u001b[0m \u001b[0mindexer\u001b[0m\u001b[0;34m[\u001b[0m\u001b[0;34m~\u001b[0m\u001b[0mmask\u001b[0m\u001b[0;34m]\u001b[0m\u001b[0;34m\u001b[0m\u001b[0;34m\u001b[0m\u001b[0m\n\u001b[1;32m   5020\u001b[0m         \u001b[0;32mreturn\u001b[0m \u001b[0mself\u001b[0m\u001b[0;34m.\u001b[0m\u001b[0mdelete\u001b[0m\u001b[0;34m(\u001b[0m\u001b[0mindexer\u001b[0m\u001b[0;34m)\u001b[0m\u001b[0;34m\u001b[0m\u001b[0;34m\u001b[0m\u001b[0m\n",
      "\u001b[0;31mKeyError\u001b[0m: \"['asd'] not found in axis\""
     ]
    }
   ],
   "source": [
    "train.drop(['isbn', 'asin'], axis=1)"
   ]
  }
 ],
 "metadata": {
  "kernelspec": {
   "display_name": ".venv",
   "language": "python",
   "name": ".venv"
  },
  "language_info": {
   "codemirror_mode": {
    "name": "ipython",
    "version": 3
   },
   "file_extension": ".py",
   "mimetype": "text/x-python",
   "name": "python",
   "nbconvert_exporter": "python",
   "pygments_lexer": "ipython3",
   "version": "3.7.5"
  }
 },
 "nbformat": 4,
 "nbformat_minor": 4
}
