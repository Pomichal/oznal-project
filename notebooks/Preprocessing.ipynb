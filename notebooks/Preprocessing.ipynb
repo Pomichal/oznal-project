{
 "cells": [
  {
   "cell_type": "code",
   "execution_count": 1,
   "metadata": {},
   "outputs": [],
   "source": [
    "import pandas as pd\n",
    "import matplotlib.pyplot as plt\n",
    "import seaborn as sns\n",
    "import numpy as np\n",
    "from IPython.display import display\n",
    "from sklearn.pipeline import Pipeline\n",
    "import category_encoders as ce\n",
    "\n",
    "import sys\n",
    "sys.path.insert(1, '../')\n",
    "\n",
    "from src import preprocessing as pp\n",
    "from src import analysis\n",
    "\n",
    "# Enable module reloading\n",
    "%load_ext autoreload\n",
    "%autoreload 2\n",
    "\n",
    "pd.set_option('display.max_columns', None)\n",
    "\n",
    "plt.rcParams['figure.figsize'] = (10, 6)\n",
    "%config InlineBackend.figure_format='retina'\n",
    "plt.rcParams.update({'font.size': 15})"
   ]
  },
  {
   "cell_type": "code",
   "execution_count": 2,
   "metadata": {},
   "outputs": [],
   "source": [
    "from sklearn.base import TransformerMixin\n",
    "import json\n",
    "from sklearn.model_selection import train_test_split\n",
    "from sklearn.preprocessing import MinMaxScaler"
   ]
  },
  {
   "cell_type": "markdown",
   "metadata": {},
   "source": [
    "## Load datasets"
   ]
  },
  {
   "cell_type": "code",
   "execution_count": 23,
   "metadata": {},
   "outputs": [],
   "source": [
    "books = pd.read_csv('../data/books.csv')\n",
    "reviews = pd.read_csv('../data/reviews.csv')\n",
    "# intr = pd.read_csv('../data/interactions.csv')\n",
    "authors = pd.read_csv('../data/authors.csv')"
   ]
  },
  {
   "cell_type": "markdown",
   "metadata": {},
   "source": [
    "# Create subsets of data"
   ]
  },
  {
   "cell_type": "code",
   "execution_count": 37,
   "metadata": {},
   "outputs": [],
   "source": [
    "top_n = 1000\n",
    "min_review_count = 10"
   ]
  },
  {
   "cell_type": "code",
   "execution_count": 38,
   "metadata": {},
   "outputs": [
    {
     "data": {
      "text/plain": [
       "Index(['user_id', 'book_id', 'review_id', 'rating', 'review_text',\n",
       "       'date_added', 'date_updated', 'read_at', 'started_at', 'n_votes',\n",
       "       'n_comments'],\n",
       "      dtype='object')"
      ]
     },
     "execution_count": 38,
     "metadata": {},
     "output_type": "execute_result"
    }
   ],
   "source": [
    "reviews.columns"
   ]
  },
  {
   "cell_type": "code",
   "execution_count": 60,
   "metadata": {},
   "outputs": [],
   "source": [
    "top_books = reviews[(reviews['rating'] > 0) & (~pd.isnull(reviews['review_text']))]['book_id'].value_counts().sort_values(ascending=False)"
   ]
  },
  {
   "cell_type": "code",
   "execution_count": 80,
   "metadata": {},
   "outputs": [],
   "source": [
    "books['text_reviews_count'] = [top_books[i] if i in top_books.index else 0 for i in books['book_id']]"
   ]
  },
  {
   "cell_type": "code",
   "execution_count": 107,
   "metadata": {},
   "outputs": [],
   "source": [
    "top_books = books[(books['language_code'] == 'eng') & \n",
    "                   (~pd.isnull(books['description']))].sort_values(by='text_reviews_count',\n",
    "                                                                   ascending=False)['book_id'][:top_n]"
   ]
  },
  {
   "cell_type": "code",
   "execution_count": 112,
   "metadata": {},
   "outputs": [],
   "source": [
    "top_book_reviews = reviews[reviews.book_id.isin(top_books)]"
   ]
  },
  {
   "cell_type": "code",
   "execution_count": 113,
   "metadata": {},
   "outputs": [],
   "source": [
    "users = top_book_reviews.loc[:,'user_id'].value_counts().sort_values(ascending=False)\n",
    "\n",
    "top_users = users[users >= min_review_count].index"
   ]
  },
  {
   "cell_type": "code",
   "execution_count": 114,
   "metadata": {},
   "outputs": [
    {
     "data": {
      "text/plain": [
       "26340"
      ]
     },
     "execution_count": 114,
     "metadata": {},
     "output_type": "execute_result"
    }
   ],
   "source": [
    "len(top_users)"
   ]
  },
  {
   "cell_type": "code",
   "execution_count": 115,
   "metadata": {},
   "outputs": [],
   "source": [
    "top_reviews = reviews[reviews.user_id.isin(top_users) & reviews.book_id.isin(top_books)]"
   ]
  },
  {
   "cell_type": "code",
   "execution_count": 116,
   "metadata": {},
   "outputs": [
    {
     "data": {
      "text/plain": [
       "(702030, 11)"
      ]
     },
     "execution_count": 116,
     "metadata": {},
     "output_type": "execute_result"
    }
   ],
   "source": [
    "top_reviews.shape"
   ]
  },
  {
   "cell_type": "markdown",
   "metadata": {},
   "source": [
    "# Train test split"
   ]
  },
  {
   "cell_type": "code",
   "execution_count": 117,
   "metadata": {},
   "outputs": [],
   "source": [
    "data = top_reviews\n",
    "\n",
    "train, test = train_test_split(data, test_size=0.01, random_state=42)\n",
    "\n",
    "val, test = train_test_split(test, test_size=0.1, random_state=42)"
   ]
  },
  {
   "cell_type": "code",
   "execution_count": 118,
   "metadata": {},
   "outputs": [
    {
     "data": {
      "text/plain": [
       "(695009, 6318, 703)"
      ]
     },
     "execution_count": 118,
     "metadata": {},
     "output_type": "execute_result"
    }
   ],
   "source": [
    "len(train), len(val), len(test)"
   ]
  },
  {
   "cell_type": "markdown",
   "metadata": {},
   "source": [
    "# Data preprocessing"
   ]
  },
  {
   "cell_type": "markdown",
   "metadata": {},
   "source": [
    "In this notebook, we are going to preprocess our data, so we can use them during training."
   ]
  },
  {
   "cell_type": "code",
   "execution_count": 226,
   "metadata": {},
   "outputs": [],
   "source": [
    "import pandas as pd\n",
    "import json\n",
    "from sklearn.base import TransformerMixin\n",
    "from sklearn.feature_extraction.text import TfidfVectorizer\n",
    "from sklearn.preprocessing import MinMaxScaler\n",
    "from sklearn.metrics import euclidean_distances\n",
    "\n",
    "class ExportBookData(TransformerMixin):\n",
    "\n",
    "    def __init__(self, mean_cols, books_df, authors_df, book_id_col='book_id',\n",
    "                 dist_func=euclidean_distances, n_most_similar=5, mode='avg'):\n",
    "        self.mean_cols = mean_cols\n",
    "        self.books_df = books_df.copy()\n",
    "        self.authors_df = authors_df.copy()\n",
    "        self.book_id_col = book_id_col\n",
    "        self.dist_func = dist_func\n",
    "        self.n_most_similar = n_most_similar\n",
    "        self.mode = mode\n",
    "        self.users_df = pd.DataFrame()\n",
    "\n",
    "    def fit(self, df, y=None):\n",
    "        \n",
    "        \n",
    "\n",
    "        print('(fit) ExportBookData, mean_cols:', self.mean_cols,\n",
    "              'book_id_col:', self.book_id_col, 'dist_func:', self.dist_func,\n",
    "              'n_most_similar:', self.n_most_similar, 'mode:', self.mode)\n",
    "        \n",
    "        count = df[self.book_id_col].value_counts()\n",
    "        self.books_df = self.books_df[self.books_df[self.book_id_col].isin(count.index)]\n",
    "        self.books_df['text_reviews_count'] = count.values\n",
    "        self.books_df = self.books_df.merge(df[[self.book_id_col] + self.mean_cols]\n",
    "                                            .groupby(self.book_id_col).mean(), left_on='book_id',\n",
    "                                 right_on='book_id')\n",
    "\n",
    "        self.books_df[\"authors_names\"] = [self.ExportAuthorNames(i) for i in self.books_df[\"authors\"]]\n",
    "        self.books_df[\"shelves_names\"] = [self.ExportBookShelves(i) for i in self.books_df[\"popular_shelves\"]]\n",
    "        \n",
    "        self.books_df['corpus'] = (pd.Series(self.books_df[['authors_names', 'description', 'shelves_names']].fillna('')\n",
    "                .values.tolist()\n",
    "                ).str.join(' '))\n",
    "        \n",
    "        tf = TfidfVectorizer(analyzer='word',ngram_range=(1, 2),min_df=0, max_df=0.2, stop_words='english')\n",
    "        tfidf_matrix = tf.fit_transform(self.books_df['corpus'])\n",
    "\n",
    "        self.similarity = pd.DataFrame(data=self.dist_func(tfidf_matrix),\n",
    "                                  columns=count.index, index=count.index)\n",
    "        \n",
    "        self.books_df = self.books_df.set_index(\"book_id\")\n",
    "        \n",
    "        \n",
    "        self.books_df = self.books_df.join(self.books_df.apply(self.similar, axis=1),\n",
    "                                   rsuffix=\"_sim_\" + self.mode)\n",
    "\n",
    "        self.books_df = self.books_df.drop(['isbn', 'series', 'country_code', 'language_code',\n",
    "                                  'popular_shelves', 'asin', 'is_ebook', 'average_rating',\n",
    "                                  'kindle_asin', 'similar_books', 'description', 'format',\n",
    "                                  'link', 'authors', 'publisher', 'num_pages', 'publication_day', 'isbn13',\n",
    "                                  'publication_month', 'edition_information', 'publication_year', 'url',\n",
    "                                  'image_url', 'ratings_count', 'work_id', 'title',\n",
    "                                  'title_without_series', 'authors_names', 'shelves_names',\n",
    "                                  'corpus'], axis=1)\n",
    "        \n",
    "        self.users_df = pd.DataFrame(index = df['user_id'].unique(), columns=self.books_df.index)\n",
    "        \n",
    "        for index, review in df.iterrows():\n",
    "            self.users_df.loc[review['user_id'], review['book_id']] = review['rating']\n",
    "\n",
    "        return self\n",
    "\n",
    "    def transform(self, df):\n",
    "        print('(transform) ExportBookData, mean_cols:', self.mean_cols,\n",
    "              'book_id_col:', self.book_id_col, 'dist_func:', self.dist_func,\n",
    "              'n_most_similar:', self.n_most_similar, 'mode:', self.mode)\n",
    "        book_data = df.apply(lambda x: self.books_df.loc[x[self.book_id_col], :],\n",
    "                                axis=1)\n",
    "        user_data = pd.DataFrame(df.apply(self.get_nearest_ratings, axis=1, args=(df, 3)),\n",
    "                                columns=['user_rating_avg'])\n",
    "        data = book_data.join(user_data, rsuffix=\"_user\")\n",
    "\n",
    "        return df.join(data, rsuffix=\"_book_avg\")\n",
    "\n",
    "    \n",
    "    def get_nearest_ratings(self, x, reviews_df, top_n=3):\n",
    "        rated_books = reviews_df[reviews_df['user_id'] == x['user_id']]['book_id']\n",
    "        book_indices = self.similarity.loc[x['book_id'], rated_books].nsmallest(top_n + 1)[1:].index\n",
    "        return self.users_df.loc[x['user_id'], book_indices].mean()\n",
    "    \n",
    "    def ExportAuthorNames(self, x):\n",
    "        response = \"\"\n",
    "        for author in json.loads(x.replace('\"','~').replace(\"'\",'\"').replace(\"~\",\"'\")):\n",
    "            response += \" \" + self.authors_df[self.authors_df[\"author_id\"] == int(author[\"author_id\"])][\"name\"].values[0]\n",
    "        return response\n",
    "    \n",
    "    def ExportBookShelves(self,x):\n",
    "        response = \"\"\n",
    "        for item in json.loads(x.replace(\"'\",'\"')):\n",
    "            response += \" \" + item['name']\n",
    "        return response\n",
    "\n",
    "    def similar(self, x):\n",
    "            index = x.name\n",
    "            similar_books = self.similarity[index].nsmallest(self.n_most_similar + 1)[1:].index\n",
    "            if self.mode == 'avg':\n",
    "                return self.books_df[['text_reviews_count'] + self.mean_cols].loc[similar_books,:].mean()\n",
    "            if self.mode == 'all':\n",
    "                data = [r[col] for _, r in self\n",
    "                        .books_df[['text_reviews_count'] + self.mean_cols].loc[similar_books, :].iterrows()\n",
    "                        for col in ['text_reviews_count'] + self.mean_cols]\n",
    "                cols = ['sim_' + str(i) + '_' + col for i in range(self.n_most_similar)\n",
    "                        for col in ['text_reviews_count'] + self.mean_cols]\n",
    "                response = pd.DataFrame(columns=cols)\n",
    "                response.loc[0] = data\n",
    "                return pd.Series(data, index=cols)\n",
    "            raise ValueError('Invalid option for \"mode\" (valid options are \"avg or \"all')\n",
    "    \n"
   ]
  },
  {
   "cell_type": "code",
   "execution_count": 229,
   "metadata": {
    "scrolled": false
   },
   "outputs": [
    {
     "name": "stdout",
     "output_type": "stream",
     "text": [
      "(fit) ExportBookData, mean_cols: ['rating'] book_id_col: book_id dist_func: <function cosine_similarity at 0x7f794d660940> n_most_similar: 5 mode: avg\n"
     ]
    }
   ],
   "source": [
    "from sklearn.metrics.pairwise import cosine_similarity\n",
    "\n",
    "mean_cols = ['rating']\n",
    "\n",
    "scaler = MinMaxScaler()\n",
    "scale_cols = ['row_count']\n",
    "\n",
    "drop_cols2 = ['user_id', 'book_id', 'review_id', 'review_text', 'date_added', 'date_updated', 'read_at',\n",
    "             'started_at', 'n_votes', 'n_comments']\n",
    "\n",
    "ppl = Pipeline([\n",
    "    (\"ExportBookData\", pp.ExportBookData(mean_cols, books, authors, mode='avg', dist_func=cosine_similarity)),\n",
    "])\n",
    "\n",
    "model = ppl.fit(train[:1000])"
   ]
  },
  {
   "cell_type": "code",
   "execution_count": 230,
   "metadata": {
    "scrolled": false
   },
   "outputs": [
    {
     "name": "stdout",
     "output_type": "stream",
     "text": [
      "(transform) ExportBookData, mean_cols: ['rating'] book_id_col: book_id dist_func: <function cosine_similarity at 0x7f794d660940> n_most_similar: 5 mode: avg\n"
     ]
    },
    {
     "data": {
      "text/html": [
       "<div>\n",
       "<style scoped>\n",
       "    .dataframe tbody tr th:only-of-type {\n",
       "        vertical-align: middle;\n",
       "    }\n",
       "\n",
       "    .dataframe tbody tr th {\n",
       "        vertical-align: top;\n",
       "    }\n",
       "\n",
       "    .dataframe thead th {\n",
       "        text-align: right;\n",
       "    }\n",
       "</style>\n",
       "<table border=\"1\" class=\"dataframe\">\n",
       "  <thead>\n",
       "    <tr style=\"text-align: right;\">\n",
       "      <th></th>\n",
       "      <th>user_id</th>\n",
       "      <th>book_id</th>\n",
       "      <th>review_id</th>\n",
       "      <th>rating</th>\n",
       "      <th>review_text</th>\n",
       "      <th>date_added</th>\n",
       "      <th>date_updated</th>\n",
       "      <th>read_at</th>\n",
       "      <th>started_at</th>\n",
       "      <th>n_votes</th>\n",
       "      <th>n_comments</th>\n",
       "      <th>text_reviews_count</th>\n",
       "      <th>rating_book_avg</th>\n",
       "      <th>text_reviews_count_sim_avg</th>\n",
       "      <th>rating_sim_avg</th>\n",
       "      <th>user_rating_avg</th>\n",
       "    </tr>\n",
       "  </thead>\n",
       "  <tbody>\n",
       "    <tr>\n",
       "      <th>1365608</th>\n",
       "      <td>93ece7f66f649a9f4ad7f66ce76cdc50</td>\n",
       "      <td>12842134</td>\n",
       "      <td>90ee79c9b1ddb5969a6c6b9a45f82b87</td>\n",
       "      <td>3</td>\n",
       "      <td>3.5 stars \\n I understand the story of both si...</td>\n",
       "      <td>Sun Sep 27 11:07:50 -0700 2015</td>\n",
       "      <td>Sun Oct 04 21:27:46 -0700 2015</td>\n",
       "      <td>Sun Oct 04 00:00:00 -0700 2015</td>\n",
       "      <td>Sun Sep 27 00:00:00 -0700 2015</td>\n",
       "      <td>0</td>\n",
       "      <td>0</td>\n",
       "      <td>1.0</td>\n",
       "      <td>3.000000</td>\n",
       "      <td>2.8</td>\n",
       "      <td>2.500000</td>\n",
       "      <td>NaN</td>\n",
       "    </tr>\n",
       "    <tr>\n",
       "      <th>199796</th>\n",
       "      <td>cd137940c501de2fbf6adae69db21b7d</td>\n",
       "      <td>20560137</td>\n",
       "      <td>4d5a9ecaef5310428f603fc3880172da</td>\n",
       "      <td>5</td>\n",
       "      <td>** spoiler alert ** \\n I loved this book, not ...</td>\n",
       "      <td>Tue Jun 02 07:42:22 -0700 2015</td>\n",
       "      <td>Sat Aug 22 09:04:01 -0700 2015</td>\n",
       "      <td>Sat Aug 22 09:04:01 -0700 2015</td>\n",
       "      <td>Wed Aug 19 00:00:00 -0700 2015</td>\n",
       "      <td>0</td>\n",
       "      <td>0</td>\n",
       "      <td>1.0</td>\n",
       "      <td>4.500000</td>\n",
       "      <td>1.6</td>\n",
       "      <td>4.400000</td>\n",
       "      <td>NaN</td>\n",
       "    </tr>\n",
       "    <tr>\n",
       "      <th>889228</th>\n",
       "      <td>acb8ecdba78de4a2b212d2f7da2729d4</td>\n",
       "      <td>24766</td>\n",
       "      <td>b115f6afd008cf9303f7e8b35ca974a7</td>\n",
       "      <td>4</td>\n",
       "      <td>I've read quite a few of Westerfeld's books an...</td>\n",
       "      <td>Tue Jul 01 08:09:43 -0700 2008</td>\n",
       "      <td>Thu Jul 10 15:25:30 -0700 2008</td>\n",
       "      <td>Wed Jul 02 00:00:00 -0700 2008</td>\n",
       "      <td>NaN</td>\n",
       "      <td>0</td>\n",
       "      <td>0</td>\n",
       "      <td>1.0</td>\n",
       "      <td>4.000000</td>\n",
       "      <td>2.0</td>\n",
       "      <td>3.400000</td>\n",
       "      <td>NaN</td>\n",
       "    </tr>\n",
       "    <tr>\n",
       "      <th>1476272</th>\n",
       "      <td>642ecf8e10ef82917c266b2812738543</td>\n",
       "      <td>7710333</td>\n",
       "      <td>66989b42d721d21a879aa12b0ba3937a</td>\n",
       "      <td>5</td>\n",
       "      <td>I have not read such a good trilogy as this on...</td>\n",
       "      <td>Wed Feb 09 22:39:10 -0800 2011</td>\n",
       "      <td>Wed Mar 02 02:32:39 -0800 2011</td>\n",
       "      <td>Wed Mar 02 00:00:00 -0800 2011</td>\n",
       "      <td>Sun Feb 27 00:00:00 -0800 2011</td>\n",
       "      <td>0</td>\n",
       "      <td>0</td>\n",
       "      <td>1.0</td>\n",
       "      <td>5.000000</td>\n",
       "      <td>1.8</td>\n",
       "      <td>4.425000</td>\n",
       "      <td>NaN</td>\n",
       "    </tr>\n",
       "    <tr>\n",
       "      <th>1895446</th>\n",
       "      <td>81cc4204cd1b9e5080a2e77efc4c9581</td>\n",
       "      <td>17675462</td>\n",
       "      <td>ffcd83d3a8b415b1ff2add50570781ca</td>\n",
       "      <td>3</td>\n",
       "      <td>3.5 stars</td>\n",
       "      <td>Sun Jan 26 16:14:32 -0800 2014</td>\n",
       "      <td>Fri Apr 10 14:20:33 -0700 2015</td>\n",
       "      <td>Thu Apr 09 00:00:00 -0700 2015</td>\n",
       "      <td>Sun Apr 05 00:00:00 -0700 2015</td>\n",
       "      <td>0</td>\n",
       "      <td>0</td>\n",
       "      <td>1.0</td>\n",
       "      <td>3.500000</td>\n",
       "      <td>2.4</td>\n",
       "      <td>4.100000</td>\n",
       "      <td>NaN</td>\n",
       "    </tr>\n",
       "    <tr>\n",
       "      <th>...</th>\n",
       "      <td>...</td>\n",
       "      <td>...</td>\n",
       "      <td>...</td>\n",
       "      <td>...</td>\n",
       "      <td>...</td>\n",
       "      <td>...</td>\n",
       "      <td>...</td>\n",
       "      <td>...</td>\n",
       "      <td>...</td>\n",
       "      <td>...</td>\n",
       "      <td>...</td>\n",
       "      <td>...</td>\n",
       "      <td>...</td>\n",
       "      <td>...</td>\n",
       "      <td>...</td>\n",
       "      <td>...</td>\n",
       "    </tr>\n",
       "    <tr>\n",
       "      <th>736611</th>\n",
       "      <td>da30e0a47f3d7b8e5a8e7ef78cf92592</td>\n",
       "      <td>17378527</td>\n",
       "      <td>8cec82b40928c830d7581052785bc9ea</td>\n",
       "      <td>4</td>\n",
       "      <td>I very much enjoyed this series and its myriad...</td>\n",
       "      <td>Wed Jun 22 07:21:15 -0700 2016</td>\n",
       "      <td>Wed Jun 22 07:21:55 -0700 2016</td>\n",
       "      <td>Wed Jun 22 07:21:55 -0700 2016</td>\n",
       "      <td>Wed Jun 22 00:00:00 -0700 2016</td>\n",
       "      <td>0</td>\n",
       "      <td>0</td>\n",
       "      <td>3.0</td>\n",
       "      <td>4.125000</td>\n",
       "      <td>2.8</td>\n",
       "      <td>3.400000</td>\n",
       "      <td>NaN</td>\n",
       "    </tr>\n",
       "    <tr>\n",
       "      <th>2020274</th>\n",
       "      <td>d209ec5fc6178f24c88afc15261adb59</td>\n",
       "      <td>16131489</td>\n",
       "      <td>36b592657d8e5aa20db171d67afbacc3</td>\n",
       "      <td>4</td>\n",
       "      <td>This book was painful to read! I had to take b...</td>\n",
       "      <td>Fri May 20 04:49:43 -0700 2016</td>\n",
       "      <td>Sun May 28 12:58:35 -0700 2017</td>\n",
       "      <td>Sun May 28 14:34:48 -0700 2017</td>\n",
       "      <td>Wed May 24 00:00:00 -0700 2017</td>\n",
       "      <td>9</td>\n",
       "      <td>4</td>\n",
       "      <td>3.0</td>\n",
       "      <td>3.200000</td>\n",
       "      <td>2.4</td>\n",
       "      <td>3.500000</td>\n",
       "      <td>NaN</td>\n",
       "    </tr>\n",
       "    <tr>\n",
       "      <th>799310</th>\n",
       "      <td>667b94d4c7e0b014bb6ab3636999e712</td>\n",
       "      <td>12425532</td>\n",
       "      <td>3b2ec3588b8d68f542cd8591bd5f0fd5</td>\n",
       "      <td>1</td>\n",
       "      <td>Originally posted here. \\n I really, really wo...</td>\n",
       "      <td>Fri Mar 02 11:01:38 -0800 2012</td>\n",
       "      <td>Mon Nov 26 10:01:33 -0800 2012</td>\n",
       "      <td>Sun May 27 00:00:00 -0700 2012</td>\n",
       "      <td>Thu May 24 00:00:00 -0700 2012</td>\n",
       "      <td>19</td>\n",
       "      <td>9</td>\n",
       "      <td>1.0</td>\n",
       "      <td>3.000000</td>\n",
       "      <td>2.6</td>\n",
       "      <td>4.200000</td>\n",
       "      <td>NaN</td>\n",
       "    </tr>\n",
       "    <tr>\n",
       "      <th>44197</th>\n",
       "      <td>880dc69f3de6d55a0623d61dedd49868</td>\n",
       "      <td>12971616</td>\n",
       "      <td>91446276406b83e569540e611c6fdd07</td>\n",
       "      <td>4</td>\n",
       "      <td>a little bit confusing with the fonts</td>\n",
       "      <td>Tue Jul 03 19:48:01 -0700 2012</td>\n",
       "      <td>Sat Jul 06 17:34:06 -0700 2013</td>\n",
       "      <td>Tue Sep 11 00:00:00 -0700 2012</td>\n",
       "      <td>Tue Sep 11 00:00:00 -0700 2012</td>\n",
       "      <td>0</td>\n",
       "      <td>0</td>\n",
       "      <td>2.0</td>\n",
       "      <td>4.333333</td>\n",
       "      <td>2.0</td>\n",
       "      <td>4.466667</td>\n",
       "      <td>NaN</td>\n",
       "    </tr>\n",
       "    <tr>\n",
       "      <th>1755233</th>\n",
       "      <td>cc74d272f6414c7388ebe37ba75fd43e</td>\n",
       "      <td>256683</td>\n",
       "      <td>548cc8b30175e63426d2c0322328cdef</td>\n",
       "      <td>4</td>\n",
       "      <td>I watched the movie/tv series before I read th...</td>\n",
       "      <td>Tue Dec 27 17:22:22 -0800 2016</td>\n",
       "      <td>Fri Dec 30 17:21:06 -0800 2016</td>\n",
       "      <td>Sat Dec 31 17:21:06 -0800 2016</td>\n",
       "      <td>Tue Dec 27 00:00:00 -0800 2016</td>\n",
       "      <td>0</td>\n",
       "      <td>0</td>\n",
       "      <td>1.0</td>\n",
       "      <td>4.000000</td>\n",
       "      <td>2.2</td>\n",
       "      <td>3.833333</td>\n",
       "      <td>NaN</td>\n",
       "    </tr>\n",
       "  </tbody>\n",
       "</table>\n",
       "<p>1000 rows × 16 columns</p>\n",
       "</div>"
      ],
      "text/plain": [
       "                                  user_id   book_id  \\\n",
       "1365608  93ece7f66f649a9f4ad7f66ce76cdc50  12842134   \n",
       "199796   cd137940c501de2fbf6adae69db21b7d  20560137   \n",
       "889228   acb8ecdba78de4a2b212d2f7da2729d4     24766   \n",
       "1476272  642ecf8e10ef82917c266b2812738543   7710333   \n",
       "1895446  81cc4204cd1b9e5080a2e77efc4c9581  17675462   \n",
       "...                                   ...       ...   \n",
       "736611   da30e0a47f3d7b8e5a8e7ef78cf92592  17378527   \n",
       "2020274  d209ec5fc6178f24c88afc15261adb59  16131489   \n",
       "799310   667b94d4c7e0b014bb6ab3636999e712  12425532   \n",
       "44197    880dc69f3de6d55a0623d61dedd49868  12971616   \n",
       "1755233  cc74d272f6414c7388ebe37ba75fd43e    256683   \n",
       "\n",
       "                                review_id  rating  \\\n",
       "1365608  90ee79c9b1ddb5969a6c6b9a45f82b87       3   \n",
       "199796   4d5a9ecaef5310428f603fc3880172da       5   \n",
       "889228   b115f6afd008cf9303f7e8b35ca974a7       4   \n",
       "1476272  66989b42d721d21a879aa12b0ba3937a       5   \n",
       "1895446  ffcd83d3a8b415b1ff2add50570781ca       3   \n",
       "...                                   ...     ...   \n",
       "736611   8cec82b40928c830d7581052785bc9ea       4   \n",
       "2020274  36b592657d8e5aa20db171d67afbacc3       4   \n",
       "799310   3b2ec3588b8d68f542cd8591bd5f0fd5       1   \n",
       "44197    91446276406b83e569540e611c6fdd07       4   \n",
       "1755233  548cc8b30175e63426d2c0322328cdef       4   \n",
       "\n",
       "                                               review_text  \\\n",
       "1365608  3.5 stars \\n I understand the story of both si...   \n",
       "199796   ** spoiler alert ** \\n I loved this book, not ...   \n",
       "889228   I've read quite a few of Westerfeld's books an...   \n",
       "1476272  I have not read such a good trilogy as this on...   \n",
       "1895446                                          3.5 stars   \n",
       "...                                                    ...   \n",
       "736611   I very much enjoyed this series and its myriad...   \n",
       "2020274  This book was painful to read! I had to take b...   \n",
       "799310   Originally posted here. \\n I really, really wo...   \n",
       "44197                a little bit confusing with the fonts   \n",
       "1755233  I watched the movie/tv series before I read th...   \n",
       "\n",
       "                             date_added                    date_updated  \\\n",
       "1365608  Sun Sep 27 11:07:50 -0700 2015  Sun Oct 04 21:27:46 -0700 2015   \n",
       "199796   Tue Jun 02 07:42:22 -0700 2015  Sat Aug 22 09:04:01 -0700 2015   \n",
       "889228   Tue Jul 01 08:09:43 -0700 2008  Thu Jul 10 15:25:30 -0700 2008   \n",
       "1476272  Wed Feb 09 22:39:10 -0800 2011  Wed Mar 02 02:32:39 -0800 2011   \n",
       "1895446  Sun Jan 26 16:14:32 -0800 2014  Fri Apr 10 14:20:33 -0700 2015   \n",
       "...                                 ...                             ...   \n",
       "736611   Wed Jun 22 07:21:15 -0700 2016  Wed Jun 22 07:21:55 -0700 2016   \n",
       "2020274  Fri May 20 04:49:43 -0700 2016  Sun May 28 12:58:35 -0700 2017   \n",
       "799310   Fri Mar 02 11:01:38 -0800 2012  Mon Nov 26 10:01:33 -0800 2012   \n",
       "44197    Tue Jul 03 19:48:01 -0700 2012  Sat Jul 06 17:34:06 -0700 2013   \n",
       "1755233  Tue Dec 27 17:22:22 -0800 2016  Fri Dec 30 17:21:06 -0800 2016   \n",
       "\n",
       "                                read_at                      started_at  \\\n",
       "1365608  Sun Oct 04 00:00:00 -0700 2015  Sun Sep 27 00:00:00 -0700 2015   \n",
       "199796   Sat Aug 22 09:04:01 -0700 2015  Wed Aug 19 00:00:00 -0700 2015   \n",
       "889228   Wed Jul 02 00:00:00 -0700 2008                             NaN   \n",
       "1476272  Wed Mar 02 00:00:00 -0800 2011  Sun Feb 27 00:00:00 -0800 2011   \n",
       "1895446  Thu Apr 09 00:00:00 -0700 2015  Sun Apr 05 00:00:00 -0700 2015   \n",
       "...                                 ...                             ...   \n",
       "736611   Wed Jun 22 07:21:55 -0700 2016  Wed Jun 22 00:00:00 -0700 2016   \n",
       "2020274  Sun May 28 14:34:48 -0700 2017  Wed May 24 00:00:00 -0700 2017   \n",
       "799310   Sun May 27 00:00:00 -0700 2012  Thu May 24 00:00:00 -0700 2012   \n",
       "44197    Tue Sep 11 00:00:00 -0700 2012  Tue Sep 11 00:00:00 -0700 2012   \n",
       "1755233  Sat Dec 31 17:21:06 -0800 2016  Tue Dec 27 00:00:00 -0800 2016   \n",
       "\n",
       "         n_votes  n_comments  text_reviews_count  rating_book_avg  \\\n",
       "1365608        0           0                 1.0         3.000000   \n",
       "199796         0           0                 1.0         4.500000   \n",
       "889228         0           0                 1.0         4.000000   \n",
       "1476272        0           0                 1.0         5.000000   \n",
       "1895446        0           0                 1.0         3.500000   \n",
       "...          ...         ...                 ...              ...   \n",
       "736611         0           0                 3.0         4.125000   \n",
       "2020274        9           4                 3.0         3.200000   \n",
       "799310        19           9                 1.0         3.000000   \n",
       "44197          0           0                 2.0         4.333333   \n",
       "1755233        0           0                 1.0         4.000000   \n",
       "\n",
       "         text_reviews_count_sim_avg  rating_sim_avg  user_rating_avg  \n",
       "1365608                         2.8        2.500000              NaN  \n",
       "199796                          1.6        4.400000              NaN  \n",
       "889228                          2.0        3.400000              NaN  \n",
       "1476272                         1.8        4.425000              NaN  \n",
       "1895446                         2.4        4.100000              NaN  \n",
       "...                             ...             ...              ...  \n",
       "736611                          2.8        3.400000              NaN  \n",
       "2020274                         2.4        3.500000              NaN  \n",
       "799310                          2.6        4.200000              NaN  \n",
       "44197                           2.0        4.466667              NaN  \n",
       "1755233                         2.2        3.833333              NaN  \n",
       "\n",
       "[1000 rows x 16 columns]"
      ]
     },
     "execution_count": 230,
     "metadata": {},
     "output_type": "execute_result"
    }
   ],
   "source": [
    "ppl.transform(train.head(1000))"
   ]
  },
  {
   "cell_type": "code",
   "execution_count": 9,
   "metadata": {},
   "outputs": [
    {
     "ename": "ModuleNotFoundError",
     "evalue": "No module named 'vaderSentiment'",
     "output_type": "error",
     "traceback": [
      "\u001b[0;31m---------------------------------------------------------------------------\u001b[0m",
      "\u001b[0;31mModuleNotFoundError\u001b[0m                       Traceback (most recent call last)",
      "\u001b[0;32m<ipython-input-9-41f99c6bc4f0>\u001b[0m in \u001b[0;36m<module>\u001b[0;34m\u001b[0m\n\u001b[0;32m----> 1\u001b[0;31m \u001b[0;32mfrom\u001b[0m \u001b[0mvaderSentiment\u001b[0m\u001b[0;34m.\u001b[0m\u001b[0mvaderSentiment\u001b[0m \u001b[0;32mimport\u001b[0m \u001b[0mSentimentIntensityAnalyzer\u001b[0m\u001b[0;34m\u001b[0m\u001b[0;34m\u001b[0m\u001b[0m\n\u001b[0m\u001b[1;32m      2\u001b[0m \u001b[0;32mfrom\u001b[0m \u001b[0mnltk\u001b[0m \u001b[0;32mimport\u001b[0m \u001b[0mtokenize\u001b[0m\u001b[0;34m\u001b[0m\u001b[0;34m\u001b[0m\u001b[0m\n\u001b[1;32m      3\u001b[0m \u001b[0manalyser\u001b[0m \u001b[0;34m=\u001b[0m \u001b[0mSentimentIntensityAnalyzer\u001b[0m\u001b[0;34m(\u001b[0m\u001b[0;34m)\u001b[0m\u001b[0;34m\u001b[0m\u001b[0;34m\u001b[0m\u001b[0m\n",
      "\u001b[0;31mModuleNotFoundError\u001b[0m: No module named 'vaderSentiment'"
     ]
    }
   ],
   "source": [
    "from vaderSentiment.vaderSentiment import SentimentIntensityAnalyzer\n",
    "from nltk import tokenize\n",
    "analyser = SentimentIntensityAnalyzer()"
   ]
  },
  {
   "cell_type": "code",
   "execution_count": 48,
   "metadata": {},
   "outputs": [],
   "source": [
    "def get_sentiment(text):\n",
    "    sentences = []\n",
    "    sentences_list = tokenize.sent_tokenize(text)\n",
    "    sentences.extend(sentences_list)\n",
    "    count = (len(sentences))\n",
    "    sent = 0.0\n",
    "    for sentence in sentences:\n",
    "        scores = analyser.polarity_scores(sentence)\n",
    "        sent += scores['compound']\n",
    "    average = round((sent/count), 4) \n",
    "    if average >= 0.05 : \n",
    "        return 'positive' \n",
    "  \n",
    "    elif average <= - 0.05 : \n",
    "        return 'negative'\n",
    "  \n",
    "    else : \n",
    "        return 'neutral'"
   ]
  },
  {
   "cell_type": "code",
   "execution_count": 49,
   "metadata": {},
   "outputs": [],
   "source": [
    "reviews['review_sentiment'] = reviews['review_text'].apply(lambda x: get_sentiment(x))"
   ]
  },
  {
   "cell_type": "code",
   "execution_count": 50,
   "metadata": {},
   "outputs": [
    {
     "data": {
      "text/plain": [
       "0      neutral\n",
       "1     positive\n",
       "2     positive\n",
       "3      neutral\n",
       "4     positive\n",
       "        ...   \n",
       "95    positive\n",
       "96    positive\n",
       "97    positive\n",
       "98    positive\n",
       "99    positive\n",
       "Name: review_sentiment, Length: 100, dtype: object"
      ]
     },
     "execution_count": 50,
     "metadata": {},
     "output_type": "execute_result"
    }
   ],
   "source": [
    "reviews['review_sentiment']"
   ]
  },
  {
   "cell_type": "code",
   "execution_count": 51,
   "metadata": {},
   "outputs": [
    {
     "data": {
      "image/png": "[encoded data removed]",
      "text/plain": [
       "<Figure size 432x288 with 1 Axes>"
      ]
     },
     "metadata": {
      "image/png": {
       "height": 247,
       "width": 258
      }
     },
     "output_type": "display_data"
    }
   ],
   "source": [
    "reviews['review_sentiment'].value_counts().plot(kind='pie', title='Distribution of sentiment types');"
   ]
  },
  {
   "cell_type": "code",
   "execution_count": 71,
   "metadata": {},
   "outputs": [],
   "source": [
    "def get_most_frequent_sentiment(book_id):\n",
    "    book_reviews = reviews[reviews['book_id'] == book_id]\n",
    "    most_frequent_snt = book_reviews['review_sentiment'].value_counts()[:1].index.tolist()\n",
    "    \n",
    "    return most_frequent_snt"
   ]
  },
  {
   "cell_type": "code",
   "execution_count": 72,
   "metadata": {},
   "outputs": [],
   "source": [
    "books['most_frequent_sentiment'] = books['book_id'].apply(lambda x: get_most_frequent_sentiment(x))"
   ]
  },
  {
   "cell_type": "code",
   "execution_count": 73,
   "metadata": {},
   "outputs": [
    {
     "data": {
      "text/plain": [
       "0        []\n",
       "1        []\n",
       "2        []\n",
       "3        []\n",
       "4        []\n",
       "         ..\n",
       "93393    []\n",
       "93394    []\n",
       "93395    []\n",
       "93396    []\n",
       "93397    []\n",
       "Name: most_frequent_sentiment, Length: 93398, dtype: object"
      ]
     },
     "execution_count": 73,
     "metadata": {},
     "output_type": "execute_result"
    }
   ],
   "source": [
    "books['most_frequent_sentiment']"
   ]
  },
  {
   "cell_type": "code",
   "execution_count": 10,
   "metadata": {},
   "outputs": [],
   "source": [
    "from sklearn.metrics.pairwise import linear_kernel\n",
    "from nltk.corpus import stopwords\n",
    "from sklearn.feature_extraction.text import TfidfVectorizer\n",
    "\n",
    "books = books[books['description'].notna()].head(3)\n",
    "tf = TfidfVectorizer(analyzer='word',ngram_range=(1, 2),min_df=0, stop_words='english')\n",
    "tfidf_matrix = tf.fit_transform(books.description)\n",
    "cosine_sim = linear_kernel(tfidf_matrix, tfidf_matrix)"
   ]
  },
  {
   "cell_type": "code",
   "execution_count": 7,
   "metadata": {},
   "outputs": [
    {
     "data": {
      "text/plain": [
       "<3x340 sparse matrix of type '<class 'numpy.float64'>'\n",
       "\twith 345 stored elements in Compressed Sparse Row format>"
      ]
     },
     "execution_count": 7,
     "metadata": {},
     "output_type": "execute_result"
    }
   ],
   "source": [
    "tfidf_matrix"
   ]
  },
  {
   "cell_type": "code",
   "execution_count": 14,
   "metadata": {},
   "outputs": [],
   "source": [
    "asdf = pd.DataFrame(data=linear_kernel(tfidf_matrix, tfidf_matrix), index=books['book_id'], columns=books['book_id'])"
   ]
  },
  {
   "cell_type": "code",
   "execution_count": 15,
   "metadata": {},
   "outputs": [
    {
     "data": {
      "text/html": [
       "<div>\n",
       "<style scoped>\n",
       "    .dataframe tbody tr th:only-of-type {\n",
       "        vertical-align: middle;\n",
       "    }\n",
       "\n",
       "    .dataframe tbody tr th {\n",
       "        vertical-align: top;\n",
       "    }\n",
       "\n",
       "    .dataframe thead th {\n",
       "        text-align: right;\n",
       "    }\n",
       "</style>\n",
       "<table border=\"1\" class=\"dataframe\">\n",
       "  <thead>\n",
       "    <tr style=\"text-align: right;\">\n",
       "      <th>book_id</th>\n",
       "      <th>12182387</th>\n",
       "      <th>20135365</th>\n",
       "      <th>21401181</th>\n",
       "    </tr>\n",
       "    <tr>\n",
       "      <th>book_id</th>\n",
       "      <th></th>\n",
       "      <th></th>\n",
       "      <th></th>\n",
       "    </tr>\n",
       "  </thead>\n",
       "  <tbody>\n",
       "    <tr>\n",
       "      <th>12182387</th>\n",
       "      <td>1.000000</td>\n",
       "      <td>0.005524</td>\n",
       "      <td>0.007715</td>\n",
       "    </tr>\n",
       "    <tr>\n",
       "      <th>20135365</th>\n",
       "      <td>0.005524</td>\n",
       "      <td>1.000000</td>\n",
       "      <td>0.012426</td>\n",
       "    </tr>\n",
       "    <tr>\n",
       "      <th>21401181</th>\n",
       "      <td>0.007715</td>\n",
       "      <td>0.012426</td>\n",
       "      <td>1.000000</td>\n",
       "    </tr>\n",
       "  </tbody>\n",
       "</table>\n",
       "</div>"
      ],
      "text/plain": [
       "book_id   12182387  20135365  21401181\n",
       "book_id                               \n",
       "12182387  1.000000  0.005524  0.007715\n",
       "20135365  0.005524  1.000000  0.012426\n",
       "21401181  0.007715  0.012426  1.000000"
      ]
     },
     "execution_count": 15,
     "metadata": {},
     "output_type": "execute_result"
    }
   ],
   "source": [
    "asdf"
   ]
  },
  {
   "cell_type": "code",
   "execution_count": 127,
   "metadata": {},
   "outputs": [
    {
     "data": {
      "text/plain": [
       "array([[1.        , 0.00790151, 0.00742666, ..., 0.01053375, 0.        ,\n",
       "        0.01552667],\n",
       "       [0.00790151, 1.        , 0.01454851, ..., 0.01088032, 0.        ,\n",
       "        0.01477365],\n",
       "       [0.00742666, 0.01454851, 1.        , ..., 0.01179341, 0.        ,\n",
       "        0.01342067],\n",
       "       ...,\n",
       "       [0.01053375, 0.01088032, 0.01179341, ..., 1.        , 0.        ,\n",
       "        0.03283576],\n",
       "       [0.        , 0.        , 0.        , ..., 0.        , 1.        ,\n",
       "        0.        ],\n",
       "       [0.01552667, 0.01477365, 0.01342067, ..., 0.03283576, 0.        ,\n",
       "        1.        ]])"
      ]
     },
     "execution_count": 127,
     "metadata": {},
     "output_type": "execute_result"
    }
   ],
   "source": [
    "cosine_sim"
   ]
  },
  {
   "cell_type": "code",
   "execution_count": 128,
   "metadata": {},
   "outputs": [],
   "source": [
    "# https://www.kaggle.com/bshirude2/goodreads-content-based-book-recommendation\n",
    "indices = pd.Series(books.index, index=books['book_id'])\n",
    "\n",
    "# Get similar books based on the cosine similarity score of book descriptions\n",
    "def description_recommendations(book_id):\n",
    "    idx = indices[book_id]\n",
    "    sim_scores = list(enumerate(cosine_sim[idx]))\n",
    "    sim_scores = sorted(sim_scores, key=lambda x: x[1], reverse=True)\n",
    "    sim_scores = sim_scores[1:6]\n",
    "    \n",
    "    return [i[0] for i in sim_scores]"
   ]
  },
  {
   "cell_type": "code",
   "execution_count": 129,
   "metadata": {},
   "outputs": [
    {
     "data": {
      "text/plain": [
       "[10, 22, 52, 13, 37]"
      ]
     },
     "execution_count": 129,
     "metadata": {},
     "output_type": "execute_result"
    }
   ],
   "source": [
    "description_recommendations(22642971)\n"
   ]
  },
  {
   "cell_type": "code",
   "execution_count": 212,
   "metadata": {},
   "outputs": [],
   "source": [
    "from sklearn.feature_extraction.text import CountVectorizer\n",
    "\n",
    "def get_top_n_words(corpus, n=None):\n",
    "    vec = CountVectorizer(stop_words = 'english', analyzer='word').fit(corpus)\n",
    "    bag_of_words = vec.transform(corpus)\n",
    "    sum_words = bag_of_words.sum(axis=0) \n",
    "    words_freq = [(word, sum_words[0, idx]) for word, idx in vec.vocabulary_.items()]\n",
    "    words_freq =sorted(words_freq, key = lambda x: x[1], reverse=True)\n",
    "    print(vec.get_feature_names())\n",
    "    return words_freq[:n]"
   ]
  },
  {
   "cell_type": "code",
   "execution_count": 196,
   "metadata": {},
   "outputs": [],
   "source": [
    "def get_top_words_per_book(book_id):\n",
    "    book_reviews = reviews[reviews['book_id'] == book_id]\n",
    "    book_reviews = book_reviews[book_reviews['review_text'].notna()]\n",
    "    if book_reviews.empty:\n",
    "        return []\n",
    "    common_words = get_top_n_words(book_reviews['review_text'], 20)\n",
    "    \n",
    "    return common_words"
   ]
  },
  {
   "cell_type": "code",
   "execution_count": 204,
   "metadata": {},
   "outputs": [],
   "source": [
    "books['top_words'] = books['book_id'].apply(lambda x: get_top_words_per_book(x))"
   ]
  },
  {
   "cell_type": "markdown",
   "metadata": {},
   "source": [
    "## Merge data"
   ]
  },
  {
   "cell_type": "code",
   "execution_count": 4,
   "metadata": {},
   "outputs": [],
   "source": [
    "data = pd.merge(books, reviews , on='book_id')"
   ]
  },
  {
   "cell_type": "code",
   "execution_count": 5,
   "metadata": {},
   "outputs": [
    {
     "data": {
      "text/html": [
       "<div>\n",
       "<style scoped>\n",
       "    .dataframe tbody tr th:only-of-type {\n",
       "        vertical-align: middle;\n",
       "    }\n",
       "\n",
       "    .dataframe tbody tr th {\n",
       "        vertical-align: top;\n",
       "    }\n",
       "\n",
       "    .dataframe thead th {\n",
       "        text-align: right;\n",
       "    }\n",
       "</style>\n",
       "<table border=\"1\" class=\"dataframe\">\n",
       "  <thead>\n",
       "    <tr style=\"text-align: right;\">\n",
       "      <th></th>\n",
       "      <th>isbn</th>\n",
       "      <th>text_reviews_count</th>\n",
       "      <th>series</th>\n",
       "      <th>country_code</th>\n",
       "      <th>language_code</th>\n",
       "      <th>popular_shelves</th>\n",
       "      <th>asin</th>\n",
       "      <th>is_ebook</th>\n",
       "      <th>average_rating</th>\n",
       "      <th>kindle_asin</th>\n",
       "      <th>similar_books</th>\n",
       "      <th>description</th>\n",
       "      <th>format</th>\n",
       "      <th>link</th>\n",
       "      <th>authors</th>\n",
       "      <th>publisher</th>\n",
       "      <th>num_pages</th>\n",
       "      <th>publication_day</th>\n",
       "      <th>isbn13</th>\n",
       "      <th>publication_month</th>\n",
       "      <th>edition_information</th>\n",
       "      <th>publication_year</th>\n",
       "      <th>url</th>\n",
       "      <th>image_url</th>\n",
       "      <th>book_id</th>\n",
       "      <th>ratings_count</th>\n",
       "      <th>work_id</th>\n",
       "      <th>title</th>\n",
       "      <th>title_without_series</th>\n",
       "      <th>user_id</th>\n",
       "      <th>review_id</th>\n",
       "      <th>rating</th>\n",
       "      <th>review_text</th>\n",
       "      <th>date_added</th>\n",
       "      <th>date_updated</th>\n",
       "      <th>read_at</th>\n",
       "      <th>started_at</th>\n",
       "      <th>n_votes</th>\n",
       "      <th>n_comments</th>\n",
       "    </tr>\n",
       "  </thead>\n",
       "  <tbody>\n",
       "    <tr>\n",
       "      <th>0</th>\n",
       "      <td>NaN</td>\n",
       "      <td>1</td>\n",
       "      <td>['147734']</td>\n",
       "      <td>US</td>\n",
       "      <td>NaN</td>\n",
       "      <td>[{'count': '1057', 'name': 'to-read'}, {'count...</td>\n",
       "      <td>B0056A00P4</td>\n",
       "      <td>True</td>\n",
       "      <td>4.04</td>\n",
       "      <td>B0056A00P4</td>\n",
       "      <td>['519546', '1295074', '21407416']</td>\n",
       "      <td>This is the final tale in the bestselling auth...</td>\n",
       "      <td>NaN</td>\n",
       "      <td>https://www.goodreads.com/book/show/12182387-t...</td>\n",
       "      <td>[{'author_id': '50873', 'role': ''}, {'author_...</td>\n",
       "      <td>NaN</td>\n",
       "      <td>NaN</td>\n",
       "      <td>NaN</td>\n",
       "      <td>NaN</td>\n",
       "      <td>NaN</td>\n",
       "      <td>NaN</td>\n",
       "      <td>NaN</td>\n",
       "      <td>https://www.goodreads.com/book/show/12182387-t...</td>\n",
       "      <td>https://s.gr-assets.com/assets/nophoto/book/11...</td>\n",
       "      <td>12182387</td>\n",
       "      <td>4</td>\n",
       "      <td>285263</td>\n",
       "      <td>The Passion (Dark Visions, #3)</td>\n",
       "      <td>The Passion (Dark Visions, #3)</td>\n",
       "      <td>8a6085f339853bb493a8341f0d7e3bdf</td>\n",
       "      <td>fc61f4a89afd084140b9ea2090e552e2</td>\n",
       "      <td>5</td>\n",
       "      <td>Nachdem Gabriel und Lydia verschwunden sind un...</td>\n",
       "      <td>Fri Sep 09 12:32:42 -0700 2011</td>\n",
       "      <td>Wed Oct 26 11:11:47 -0700 2011</td>\n",
       "      <td>Tue Oct 25 00:00:00 -0700 2011</td>\n",
       "      <td>Sun Oct 23 00:00:00 -0700 2011</td>\n",
       "      <td>0</td>\n",
       "      <td>0</td>\n",
       "    </tr>\n",
       "    <tr>\n",
       "      <th>1</th>\n",
       "      <td>NaN</td>\n",
       "      <td>2</td>\n",
       "      <td>['425995']</td>\n",
       "      <td>US</td>\n",
       "      <td>NaN</td>\n",
       "      <td>[{'count': '1010', 'name': 'to-read'}, {'count...</td>\n",
       "      <td>B006KLYIAG</td>\n",
       "      <td>True</td>\n",
       "      <td>3.80</td>\n",
       "      <td>B006KLYIAG</td>\n",
       "      <td>['13400912', '13327517', '18107102', '15797097...</td>\n",
       "      <td>Life should be simple for Cassie.\\nFor the sma...</td>\n",
       "      <td>NaN</td>\n",
       "      <td>https://www.goodreads.com/book/show/20135365-h...</td>\n",
       "      <td>[{'author_id': '5395324', 'role': ''}]</td>\n",
       "      <td>NaN</td>\n",
       "      <td>NaN</td>\n",
       "      <td>NaN</td>\n",
       "      <td>NaN</td>\n",
       "      <td>NaN</td>\n",
       "      <td>NaN</td>\n",
       "      <td>NaN</td>\n",
       "      <td>https://www.goodreads.com/book/show/20135365-h...</td>\n",
       "      <td>https://s.gr-assets.com/assets/nophoto/book/11...</td>\n",
       "      <td>20135365</td>\n",
       "      <td>5</td>\n",
       "      <td>18450480</td>\n",
       "      <td>Hope's Daughter</td>\n",
       "      <td>Hope's Daughter</td>\n",
       "      <td>c7cafc5c262441aaa9fc8c816dcd20d5</td>\n",
       "      <td>9f5ee0e6211043932bcb46793222c2f6</td>\n",
       "      <td>4</td>\n",
       "      <td>I received this book from the author in exchan...</td>\n",
       "      <td>Wed Apr 04 11:09:28 -0700 2012</td>\n",
       "      <td>Thu Mar 20 11:44:09 -0700 2014</td>\n",
       "      <td>Thu Mar 20 11:44:09 -0700 2014</td>\n",
       "      <td>Wed Mar 19 00:00:00 -0700 2014</td>\n",
       "      <td>2</td>\n",
       "      <td>0</td>\n",
       "    </tr>\n",
       "    <tr>\n",
       "      <th>2</th>\n",
       "      <td>0698143760</td>\n",
       "      <td>17</td>\n",
       "      <td>['493993']</td>\n",
       "      <td>US</td>\n",
       "      <td>NaN</td>\n",
       "      <td>[{'count': '1799', 'name': 'fantasy'}, {'count...</td>\n",
       "      <td>NaN</td>\n",
       "      <td>True</td>\n",
       "      <td>3.80</td>\n",
       "      <td>NaN</td>\n",
       "      <td>['15728807', '17182499', '15673520', '16081758...</td>\n",
       "      <td>Wanted by no one.\\nHunted by everyone.\\nSixtee...</td>\n",
       "      <td>ebook</td>\n",
       "      <td>https://www.goodreads.com/book/show/21401181-h...</td>\n",
       "      <td>[{'author_id': '7314532', 'role': ''}]</td>\n",
       "      <td>Viking Children's</td>\n",
       "      <td>416.0</td>\n",
       "      <td>4.0</td>\n",
       "      <td>9780698143760</td>\n",
       "      <td>3.0</td>\n",
       "      <td>NaN</td>\n",
       "      <td>2014.0</td>\n",
       "      <td>https://www.goodreads.com/book/show/21401181-h...</td>\n",
       "      <td>https://images.gr-assets.com/books/1394747643m...</td>\n",
       "      <td>21401181</td>\n",
       "      <td>33</td>\n",
       "      <td>24802827</td>\n",
       "      <td>Half Bad (Half Life, #1)</td>\n",
       "      <td>Half Bad (Half Life, #1)</td>\n",
       "      <td>88d99966e16ad22b3d824758e41bdc31</td>\n",
       "      <td>d1c5a076f2433511b239dd4745d88f99</td>\n",
       "      <td>4</td>\n",
       "      <td>Dark story about a young soon to be witch boy....</td>\n",
       "      <td>Fri Mar 24 04:36:25 -0700 2017</td>\n",
       "      <td>Mon Mar 27 13:28:45 -0700 2017</td>\n",
       "      <td>Mon Mar 27 13:28:45 -0700 2017</td>\n",
       "      <td>Fri Mar 24 04:36:26 -0700 2017</td>\n",
       "      <td>0</td>\n",
       "      <td>0</td>\n",
       "    </tr>\n",
       "  </tbody>\n",
       "</table>\n",
       "</div>"
      ],
      "text/plain": [
       "         isbn  text_reviews_count      series country_code language_code  \\\n",
       "0         NaN                   1  ['147734']           US           NaN   \n",
       "1         NaN                   2  ['425995']           US           NaN   \n",
       "2  0698143760                  17  ['493993']           US           NaN   \n",
       "\n",
       "                                     popular_shelves        asin  is_ebook  \\\n",
       "0  [{'count': '1057', 'name': 'to-read'}, {'count...  B0056A00P4      True   \n",
       "1  [{'count': '1010', 'name': 'to-read'}, {'count...  B006KLYIAG      True   \n",
       "2  [{'count': '1799', 'name': 'fantasy'}, {'count...         NaN      True   \n",
       "\n",
       "   average_rating kindle_asin  \\\n",
       "0            4.04  B0056A00P4   \n",
       "1            3.80  B006KLYIAG   \n",
       "2            3.80         NaN   \n",
       "\n",
       "                                       similar_books  \\\n",
       "0                  ['519546', '1295074', '21407416']   \n",
       "1  ['13400912', '13327517', '18107102', '15797097...   \n",
       "2  ['15728807', '17182499', '15673520', '16081758...   \n",
       "\n",
       "                                         description format  \\\n",
       "0  This is the final tale in the bestselling auth...    NaN   \n",
       "1  Life should be simple for Cassie.\\nFor the sma...    NaN   \n",
       "2  Wanted by no one.\\nHunted by everyone.\\nSixtee...  ebook   \n",
       "\n",
       "                                                link  \\\n",
       "0  https://www.goodreads.com/book/show/12182387-t...   \n",
       "1  https://www.goodreads.com/book/show/20135365-h...   \n",
       "2  https://www.goodreads.com/book/show/21401181-h...   \n",
       "\n",
       "                                             authors          publisher  \\\n",
       "0  [{'author_id': '50873', 'role': ''}, {'author_...                NaN   \n",
       "1             [{'author_id': '5395324', 'role': ''}]                NaN   \n",
       "2             [{'author_id': '7314532', 'role': ''}]  Viking Children's   \n",
       "\n",
       "   num_pages  publication_day         isbn13  publication_month  \\\n",
       "0        NaN              NaN            NaN                NaN   \n",
       "1        NaN              NaN            NaN                NaN   \n",
       "2      416.0              4.0  9780698143760                3.0   \n",
       "\n",
       "  edition_information  publication_year  \\\n",
       "0                 NaN               NaN   \n",
       "1                 NaN               NaN   \n",
       "2                 NaN            2014.0   \n",
       "\n",
       "                                                 url  \\\n",
       "0  https://www.goodreads.com/book/show/12182387-t...   \n",
       "1  https://www.goodreads.com/book/show/20135365-h...   \n",
       "2  https://www.goodreads.com/book/show/21401181-h...   \n",
       "\n",
       "                                           image_url   book_id  ratings_count  \\\n",
       "0  https://s.gr-assets.com/assets/nophoto/book/11...  12182387              4   \n",
       "1  https://s.gr-assets.com/assets/nophoto/book/11...  20135365              5   \n",
       "2  https://images.gr-assets.com/books/1394747643m...  21401181             33   \n",
       "\n",
       "    work_id                           title            title_without_series  \\\n",
       "0    285263  The Passion (Dark Visions, #3)  The Passion (Dark Visions, #3)   \n",
       "1  18450480                 Hope's Daughter                 Hope's Daughter   \n",
       "2  24802827        Half Bad (Half Life, #1)        Half Bad (Half Life, #1)   \n",
       "\n",
       "                            user_id                         review_id  rating  \\\n",
       "0  8a6085f339853bb493a8341f0d7e3bdf  fc61f4a89afd084140b9ea2090e552e2       5   \n",
       "1  c7cafc5c262441aaa9fc8c816dcd20d5  9f5ee0e6211043932bcb46793222c2f6       4   \n",
       "2  88d99966e16ad22b3d824758e41bdc31  d1c5a076f2433511b239dd4745d88f99       4   \n",
       "\n",
       "                                         review_text  \\\n",
       "0  Nachdem Gabriel und Lydia verschwunden sind un...   \n",
       "1  I received this book from the author in exchan...   \n",
       "2  Dark story about a young soon to be witch boy....   \n",
       "\n",
       "                       date_added                    date_updated  \\\n",
       "0  Fri Sep 09 12:32:42 -0700 2011  Wed Oct 26 11:11:47 -0700 2011   \n",
       "1  Wed Apr 04 11:09:28 -0700 2012  Thu Mar 20 11:44:09 -0700 2014   \n",
       "2  Fri Mar 24 04:36:25 -0700 2017  Mon Mar 27 13:28:45 -0700 2017   \n",
       "\n",
       "                          read_at                      started_at  n_votes  \\\n",
       "0  Tue Oct 25 00:00:00 -0700 2011  Sun Oct 23 00:00:00 -0700 2011        0   \n",
       "1  Thu Mar 20 11:44:09 -0700 2014  Wed Mar 19 00:00:00 -0700 2014        2   \n",
       "2  Mon Mar 27 13:28:45 -0700 2017  Fri Mar 24 04:36:26 -0700 2017        0   \n",
       "\n",
       "   n_comments  \n",
       "0           0  \n",
       "1           0  \n",
       "2           0  "
      ]
     },
     "execution_count": 5,
     "metadata": {},
     "output_type": "execute_result"
    }
   ],
   "source": [
    "data.head(3)"
   ]
  },
  {
   "cell_type": "markdown",
   "metadata": {},
   "source": [
    "## Train/Test split"
   ]
  },
  {
   "cell_type": "code",
   "execution_count": 6,
   "metadata": {},
   "outputs": [],
   "source": [
    "drop_cols = ['rating']\n",
    "\n",
    "X = data.drop(drop_cols, axis=1)"
   ]
  },
  {
   "cell_type": "code",
   "execution_count": 7,
   "metadata": {},
   "outputs": [],
   "source": [
    "y = data['rating']"
   ]
  },
  {
   "cell_type": "code",
   "execution_count": 8,
   "metadata": {},
   "outputs": [],
   "source": [
    "X_train, X_test, y_train, y_test = train_test_split(X, y, test_size=0.20, random_state=42)"
   ]
  },
  {
   "cell_type": "markdown",
   "metadata": {},
   "source": [
    "## Create preprocessing pipeline"
   ]
  },
  {
   "cell_type": "markdown",
   "metadata": {},
   "source": [
    "### books\n",
    "In this section, we will try to preprocess data from book dataset."
   ]
  },
  {
   "cell_type": "markdown",
   "metadata": {},
   "source": [
    "Problems needed to be solved by preprocessing are:\n",
    "- drop columns that does not contain any useful information for our task (these are also columns that contain most of the missing values)\n",
    "- replace authors columns with the average rating of authors\n",
    "- export shelves (by default 'favorites', 'currently-reading', 'to-read', or any other) with number of votes\n",
    "- normalize and scale the numeric atributes"
   ]
  },
  {
   "cell_type": "markdown",
   "metadata": {},
   "source": [
    "### Reviews"
   ]
  },
  {
   "cell_type": "markdown",
   "metadata": {},
   "source": [
    "In this section, we will try to preprocess data from reviews dataset."
   ]
  },
  {
   "cell_type": "markdown",
   "metadata": {},
   "source": [
    "Problems needed to be solved by preprocessing are:\n",
    "- drop columns, that does not contain any usefull information\n",
    "- since we found out during analysis that longest reviews contain lots of useless data, we will set trashold for max length of review (in number of words)\n",
    "- get rid of reviews that are not in english\n",
    "- remove urls from reviews\n",
    "- remove other special characters\n",
    "- normalize and scale numeric atributes"
   ]
  },
  {
   "cell_type": "code",
   "execution_count": 5,
   "metadata": {},
   "outputs": [],
   "source": [
    "from vaderSentiment.vaderSentiment import SentimentIntensityAnalyzer\n",
    "\n",
    "analyser = SentimentIntensityAnalyzer()"
   ]
  },
  {
   "cell_type": "code",
   "execution_count": 6,
   "metadata": {},
   "outputs": [],
   "source": [
    "def print_sentiment_scores(sentence):\n",
    "    snt = analyser.polarity_scores(sentence)\n",
    "    print(\"{:-<40} {}\".format(sentence, str(snt)))"
   ]
  },
  {
   "cell_type": "code",
   "execution_count": 11,
   "metadata": {},
   "outputs": [
    {
     "name": "stdout",
     "output_type": "stream",
     "text": [
      "What it it? Is it bad? :()-------------- {'neg': 0.391, 'neu': 0.609, 'pos': 0.0, 'compound': -0.594}\n"
     ]
    }
   ],
   "source": [
    "\n",
    "print_sentiment_scores(\"What it it? Is it bad? :()\")"
   ]
  },
  {
   "cell_type": "code",
   "execution_count": 9,
   "metadata": {},
   "outputs": [
    {
     "data": {
      "text/plain": [
       "Index(['isbn', 'text_reviews_count', 'series', 'country_code', 'language_code',\n",
       "       'popular_shelves', 'asin', 'is_ebook', 'average_rating', 'kindle_asin',\n",
       "       'similar_books', 'description', 'format', 'link', 'authors',\n",
       "       'publisher', 'num_pages', 'publication_day', 'isbn13',\n",
       "       'publication_month', 'edition_information', 'publication_year', 'url',\n",
       "       'image_url', 'book_id', 'ratings_count', 'work_id', 'title',\n",
       "       'title_without_series', 'user_id', 'review_id', 'review_text',\n",
       "       'date_added', 'date_updated', 'read_at', 'started_at', 'n_votes',\n",
       "       'n_comments'],\n",
       "      dtype='object')"
      ]
     },
     "execution_count": 9,
     "metadata": {},
     "output_type": "execute_result"
    }
   ],
   "source": [
    "X_train.columns"
   ]
  },
  {
   "cell_type": "code",
   "execution_count": 10,
   "metadata": {},
   "outputs": [
    {
     "data": {
      "text/plain": [
       "(1911920, 38)"
      ]
     },
     "execution_count": 10,
     "metadata": {},
     "output_type": "execute_result"
    }
   ],
   "source": [
    "X_train.shape"
   ]
  },
  {
   "cell_type": "markdown",
   "metadata": {},
   "source": [
    "### Test preprocessing methods\n",
    "\n",
    "In this section we will test different method of data preprocessing and analyze the effectivity of approaches"
   ]
  },
  {
   "cell_type": "code",
   "execution_count": 11,
   "metadata": {},
   "outputs": [],
   "source": [
    "def test_preprocessing(df, columns, pipelines, ppl0=None, titles=['1','2','3','4','5'], \n",
    "                       kind='box', bins=50):\n",
    "    dfs = []\n",
    "    if ppl0 != None:\n",
    "        dfs.append(ppl0.fit(df).transform(df))\n",
    "    else:\n",
    "        dfs = [df]\n",
    "    for ppl in pipelines:\n",
    "        dfs.append(ppl.fit(df).transform(df))\n",
    "        \n",
    "    fig, axs = plt.subplots(len(columns),len(pipelines) + 1 ,squeeze = False, \n",
    "                            figsize = (4 * (len(pipelines) + 1), len(columns) * 4))\n",
    "    \n",
    "    for row,col in enumerate(columns):\n",
    "        for column,df_x in enumerate(dfs):\n",
    "            ax = axs[row][column] \n",
    "            ax.set_title(titles[column])\n",
    "            if(kind == 'hist'):\n",
    "                df_x[col].plot(kind=kind, ax=ax, legend=True, bins=bins)\n",
    "            elif(kind == 'bar'):\n",
    "                df_x[col].value_counts().plot(kind=kind, ax=ax, legend=True)\n",
    "            else:\n",
    "                df_x[col].plot(kind=kind, ax=ax, legend=True)"
   ]
  },
  {
   "cell_type": "code",
   "execution_count": 12,
   "metadata": {
    "scrolled": false
   },
   "outputs": [
    {
     "name": "stdout",
     "output_type": "stream",
     "text": [
      "(fit) ZScoreNormalization\n",
      "(transform) ZScoreNormalization\n",
      "(fit) Scale cols: ['text_reviews_count', 'average_rating', 'num_pages', 'ratings_count']\n",
      "(transform) ZScoreNormalization\n",
      "(transform) Scale cols: ['text_reviews_count', 'average_rating', 'num_pages', 'ratings_count']\n",
      "(fit) LogNormalization\n",
      "(transform) LogNormalization\n",
      "(fit) Scale cols: ['text_reviews_count', 'average_rating', 'num_pages', 'ratings_count']\n",
      "(transform) LogNormalization\n",
      "(transform) Scale cols: ['text_reviews_count', 'average_rating', 'num_pages', 'ratings_count']\n",
      "(fit) LogNormalization\n"
     ]
    },
    {
     "name": "stderr",
     "output_type": "stream",
     "text": [
      "/home/vajk/Documents/FIIT/8-semester/OZNAL/oznal-project/.venv/lib/python3.7/site-packages/scipy/stats/morestats.py:1044: RuntimeWarning: invalid value encountered in less_equal\n",
      "  if any(x <= 0):\n"
     ]
    },
    {
     "name": "stdout",
     "output_type": "stream",
     "text": [
      "(transform) LogNormalization\n",
      "(fit) Scale cols: ['text_reviews_count', 'average_rating', 'num_pages', 'ratings_count']\n",
      "(transform) LogNormalization\n"
     ]
    },
    {
     "name": "stderr",
     "output_type": "stream",
     "text": [
      "/home/vajk/Documents/FIIT/8-semester/OZNAL/oznal-project/.venv/lib/python3.7/site-packages/scipy/stats/morestats.py:1044: RuntimeWarning: invalid value encountered in less_equal\n",
      "  if any(x <= 0):\n"
     ]
    },
    {
     "name": "stdout",
     "output_type": "stream",
     "text": [
      "(transform) Scale cols: ['text_reviews_count', 'average_rating', 'num_pages', 'ratings_count']\n"
     ]
    },
    {
     "name": "stderr",
     "output_type": "stream",
     "text": [
      "/home/vajk/Documents/FIIT/8-semester/OZNAL/oznal-project/.venv/lib/python3.7/site-packages/pandas/plotting/_matplotlib/tools.py:298: MatplotlibDeprecationWarning: \n",
      "The rowNum attribute was deprecated in Matplotlib 3.2 and will be removed two minor releases later. Use ax.get_subplotspec().rowspan.start instead.\n",
      "  layout[ax.rowNum, ax.colNum] = ax.get_visible()\n",
      "/home/vajk/Documents/FIIT/8-semester/OZNAL/oznal-project/.venv/lib/python3.7/site-packages/pandas/plotting/_matplotlib/tools.py:298: MatplotlibDeprecationWarning: \n",
      "The colNum attribute was deprecated in Matplotlib 3.2 and will be removed two minor releases later. Use ax.get_subplotspec().colspan.start instead.\n",
      "  layout[ax.rowNum, ax.colNum] = ax.get_visible()\n",
      "/home/vajk/Documents/FIIT/8-semester/OZNAL/oznal-project/.venv/lib/python3.7/site-packages/pandas/plotting/_matplotlib/tools.py:304: MatplotlibDeprecationWarning: \n",
      "The rowNum attribute was deprecated in Matplotlib 3.2 and will be removed two minor releases later. Use ax.get_subplotspec().rowspan.start instead.\n",
      "  if not layout[ax.rowNum + 1, ax.colNum]:\n",
      "/home/vajk/Documents/FIIT/8-semester/OZNAL/oznal-project/.venv/lib/python3.7/site-packages/pandas/plotting/_matplotlib/tools.py:304: MatplotlibDeprecationWarning: \n",
      "The colNum attribute was deprecated in Matplotlib 3.2 and will be removed two minor releases later. Use ax.get_subplotspec().colspan.start instead.\n",
      "  if not layout[ax.rowNum + 1, ax.colNum]:\n"
     ]
    },
    {
     "data": {
      "image/png": "[encoded data removed]",
      "text/plain": [
       "<Figure size 1152x1152 with 16 Axes>"
      ]
     },
     "metadata": {
      "image/png": {
       "height": 942,
       "width": 993
      },
      "needs_background": "light"
     },
     "output_type": "display_data"
    }
   ],
   "source": [
    "numeric_cols = [\n",
    "                'text_reviews_count',\n",
    "                'average_rating',\n",
    "                'num_pages',\n",
    "                'ratings_count'\n",
    "               ]\n",
    "\n",
    "scaler = MinMaxScaler(feature_range=(0,1))\n",
    "\n",
    "def drop_zero(df, col_name):\n",
    "    return [i != 0 for i in df[col_name]] \n",
    "\n",
    "ppl1 = Pipeline([\n",
    "     ('DropZeros', pp.DropValues(numeric_cols, drop_zero)),\n",
    "     ('ZScore', pp.ZScoreNormalization(numeric_cols)),\n",
    "     ('Scale', pp.Scale(numeric_cols, scaler)),\n",
    "])\n",
    "ppl2 = Pipeline([\n",
    "# #      ('Scale', pp.Scale(numeric_cols, MinMaxScaler())),\n",
    "     ('DropZeros', pp.DropValues(numeric_cols, drop_zero)),\n",
    "     ('Ln', pp.LogNormalization(numeric_cols)),\n",
    "     ('Scale', pp.Scale(numeric_cols, scaler)),\n",
    "])\n",
    "ppl3 = Pipeline([\n",
    "     ('DropZeros', pp.DropValues(numeric_cols, drop_zero)),\n",
    "     ('Boxcox', pp.BoxCoxNormalization(numeric_cols)),\n",
    "     ('Scale', pp.Scale(numeric_cols, scaler)),\n",
    "])\n",
    "\n",
    "titles = ['original', 'z-score', 'log', 'boxcox']\n",
    "\n",
    "\n",
    "test_preprocessing(X_train, numeric_cols, [ppl1, ppl2, ppl3], titles=titles, kind='hist')"
   ]
  },
  {
   "cell_type": "markdown",
   "metadata": {},
   "source": [
    "For skewed distributions work log and boxcox distribution pretty fine. We will use these approaches during the preprocessing"
   ]
  },
  {
   "cell_type": "markdown",
   "metadata": {},
   "source": [
    "## Final pipeline"
   ]
  },
  {
   "cell_type": "markdown",
   "metadata": {},
   "source": [
    "parameters setup:"
   ]
  },
  {
   "cell_type": "code",
   "execution_count": 32,
   "metadata": {},
   "outputs": [],
   "source": [
    "drop_cols1 = ['isbn', 'series', 'country_code', 'language_code',\n",
    "              'asin', 'kindle_asin',\n",
    "              'description', \n",
    "              'format',\n",
    "              'link',\n",
    "              'is_ebook',\n",
    "              'publisher',\n",
    "              'num_pages',\n",
    "              'publication_day', 'isbn13', 'publication_month',\n",
    "              'edition_information',\n",
    "              'publication_year', 'url', 'image_url',\n",
    "              'title',\n",
    "              'title_without_series',\n",
    "              'date_added', 'date_updated', 'read_at', 'started_at',\n",
    "              'n_votes',\n",
    "              'n_comments'\n",
    "             ]\n",
    "\n",
    "replace_outliers_cols = ['text_reviews_count']\n",
    "\n",
    "tags = ['favorites', 'currently-reading', 'to-read']\n",
    "\n",
    "log_norm_cols = []\n",
    "boxcox_norm_cols = ['text_reviews_count', 'ratings_count']\n",
    "\n",
    "scale_cols = log_norm_cols + boxcox_norm_cols\n",
    "\n",
    "encoder = ce.OneHotEncoder()\n",
    "\n",
    "drop_cols2 = ['popular_shelves', 'authors', 'similar_books', \n",
    "              'work_id', 'user_id', 'book_id', 'review_id', 'review_text']\n",
    "\n",
    "scaler = MinMaxScaler(feature_range=(0,1))\n",
    "\n",
    "def drop_zero(df, col_name):\n",
    "    return [i != 0 for i in df[col_name]] \n"
   ]
  },
  {
   "cell_type": "markdown",
   "metadata": {},
   "source": [
    "Final pipeline:"
   ]
  },
  {
   "cell_type": "code",
   "execution_count": 57,
   "metadata": {},
   "outputs": [],
   "source": [
    "train_size = 500000"
   ]
  },
  {
   "cell_type": "code",
   "execution_count": 58,
   "metadata": {
    "scrolled": false
   },
   "outputs": [
    {
     "name": "stdout",
     "output_type": "stream",
     "text": [
      "(fit) Drop columns: ['isbn', 'series', 'country_code', 'language_code', 'asin', 'kindle_asin', 'description', 'format', 'link', 'is_ebook', 'publisher', 'num_pages', 'publication_day', 'isbn13', 'publication_month', 'edition_information', 'publication_year', 'url', 'image_url', 'title', 'title_without_series', 'date_added', 'date_updated', 'read_at', 'started_at', 'n_votes', 'n_comments']\n",
      "(transform) Drop columns: ['isbn', 'series', 'country_code', 'language_code', 'asin', 'kindle_asin', 'description', 'format', 'link', 'is_ebook', 'publisher', 'num_pages', 'publication_day', 'isbn13', 'publication_month', 'edition_information', 'publication_year', 'url', 'image_url', 'title', 'title_without_series', 'date_added', 'date_updated', 'read_at', 'started_at', 'n_votes', 'n_comments']\n",
      "(fit) Select books with: text_reviews_count >= 7876.0\n",
      "(transform) Select books with: text_reviews_count >= 7876.0\n",
      "(fit) LogNormalization\n",
      "(transform) LogNormalization\n",
      "(fit) Scale cols: ['text_reviews_count', 'ratings_count']\n",
      "(transform) Scale cols: ['text_reviews_count', 'ratings_count']\n",
      "(fit) Export authors average rating\n",
      "(transform) Export authors average rating\n"
     ]
    },
    {
     "name": "stderr",
     "output_type": "stream",
     "text": [
      "/home/vajk/Documents/FIIT/8-semester/OZNAL/oznal-project/.venv/lib/python3.7/site-packages/pandas/core/indexing.py:844: SettingWithCopyWarning: \n",
      "A value is trying to be set on a copy of a slice from a DataFrame.\n",
      "Try using .loc[row_indexer,col_indexer] = value instead\n",
      "\n",
      "See the caveats in the documentation: https://pandas.pydata.org/pandas-docs/stable/user_guide/indexing.html#returning-a-view-versus-a-copy\n",
      "  self.obj[key] = _infer_fill_value(value)\n",
      "/home/vajk/Documents/FIIT/8-semester/OZNAL/oznal-project/.venv/lib/python3.7/site-packages/pandas/core/indexing.py:965: SettingWithCopyWarning: \n",
      "A value is trying to be set on a copy of a slice from a DataFrame.\n",
      "Try using .loc[row_indexer,col_indexer] = value instead\n",
      "\n",
      "See the caveats in the documentation: https://pandas.pydata.org/pandas-docs/stable/user_guide/indexing.html#returning-a-view-versus-a-copy\n",
      "  self.obj[item] = s\n"
     ]
    },
    {
     "name": "stdout",
     "output_type": "stream",
     "text": [
      "(fit) ExportBookShelves, tag_col: popular_shelves, tags:['favorites', 'currently-reading', 'to-read']\n",
      "(transform) ExportBookShelves, tag_col: popular_shelves, tags:['favorites', 'currently-reading', 'to-read']\n",
      "(fit) Empty values filter\n",
      "(transform) Empty values filter\n",
      "(fit) Text preprocessing\n",
      "(transform) Text preprocessing\n",
      "(fit) Review length filter\n",
      "(transform) Review length filter\n",
      "(fit) Reviews language filter\n",
      "(transform) Reviews language filter\n",
      "(fit) Drop columns: ['popular_shelves', 'authors', 'similar_books', 'work_id', 'user_id', 'book_id', 'review_id', 'review_text']\n"
     ]
    }
   ],
   "source": [
    "ppl = Pipeline([\n",
    "    ('DropUnusedCols1', pp.DropColumns(drop_cols1)),\n",
    "    ('SelectTopNPercentileOfBooks', pp.SelectBooksWithNPercentile('text_reviews_count', 0.75)),\n",
    "#     ('DropOutliers', pp.DropOutliers(replace_outliers_cols)),\n",
    "    ('DropZeros', pp.DropValues(scale_cols, drop_zero)),\n",
    "#     ('Ln', pp.LogNormalization(log_norm_cols)),\n",
    "    ('Boxcox', pp.BoxCoxNormalization(boxcox_norm_cols)),\n",
    "    ('Scale', pp.Scale(scale_cols, scaler)),\n",
    "    ('ExportAuthorsAverageRating', pp.ExportAuthorsAverageRating('authors', 'authors_average_rating', authors)),\n",
    "#     ('ExportSimilarBooksAverageRating', pp.ExportSimilarBooksRating(\n",
    "#         books[['book_id','average_rating']], 'similar_books', 'sim_books_average_rating')),\n",
    "    ('ExtraxtPopularShelves', pp.ExportBookShelves('popular_shelves', tags)),\n",
    "    ('EmptyValuesFilter', pp.EmptyValuesFilter(['review_text'])),\n",
    "    ('TextPreprocessor', pp.TextPreprocessor('review_text')),\n",
    "    ('ReviewLengthFilter', pp.ReviewLengthFilter('review_text', 0, 2000)),\n",
    "    ('ReviewsLanguageFilter', pp.ReviewsLanguageFilter('review_text', 'en')),\n",
    "    ('DropUnusedCols2', pp.DropColumns(drop_cols2)),\n",
    "#     ('EncodeCategories', pp.EncodeCategories(encoder))\n",
    "])\n",
    "\n",
    "model = ppl.fit(X_train[:train_size])"
   ]
  },
  {
   "cell_type": "code",
   "execution_count": 59,
   "metadata": {
    "scrolled": false
   },
   "outputs": [
    {
     "name": "stdout",
     "output_type": "stream",
     "text": [
      "(transform) Drop columns: ['isbn', 'series', 'country_code', 'language_code', 'asin', 'kindle_asin', 'description', 'format', 'link', 'is_ebook', 'publisher', 'num_pages', 'publication_day', 'isbn13', 'publication_month', 'edition_information', 'publication_year', 'url', 'image_url', 'title', 'title_without_series', 'date_added', 'date_updated', 'read_at', 'started_at', 'n_votes', 'n_comments']\n",
      "(transform) Select books with: text_reviews_count >= 7876.0\n",
      "(transform) LogNormalization\n",
      "(transform) Scale cols: ['text_reviews_count', 'ratings_count']\n",
      "(transform) Export authors average rating\n"
     ]
    },
    {
     "name": "stderr",
     "output_type": "stream",
     "text": [
      "/home/vajk/Documents/FIIT/8-semester/OZNAL/oznal-project/.venv/lib/python3.7/site-packages/pandas/core/indexing.py:844: SettingWithCopyWarning: \n",
      "A value is trying to be set on a copy of a slice from a DataFrame.\n",
      "Try using .loc[row_indexer,col_indexer] = value instead\n",
      "\n",
      "See the caveats in the documentation: https://pandas.pydata.org/pandas-docs/stable/user_guide/indexing.html#returning-a-view-versus-a-copy\n",
      "  self.obj[key] = _infer_fill_value(value)\n",
      "/home/vajk/Documents/FIIT/8-semester/OZNAL/oznal-project/.venv/lib/python3.7/site-packages/pandas/core/indexing.py:965: SettingWithCopyWarning: \n",
      "A value is trying to be set on a copy of a slice from a DataFrame.\n",
      "Try using .loc[row_indexer,col_indexer] = value instead\n",
      "\n",
      "See the caveats in the documentation: https://pandas.pydata.org/pandas-docs/stable/user_guide/indexing.html#returning-a-view-versus-a-copy\n",
      "  self.obj[item] = s\n"
     ]
    },
    {
     "name": "stdout",
     "output_type": "stream",
     "text": [
      "(transform) ExportBookShelves, tag_col: popular_shelves, tags:['favorites', 'currently-reading', 'to-read']\n",
      "(transform) Empty values filter\n",
      "(transform) Text preprocessing\n",
      "(transform) Review length filter\n",
      "(transform) Reviews language filter\n",
      "(transform) Drop columns: ['popular_shelves', 'authors', 'similar_books', 'work_id', 'user_id', 'book_id', 'review_id', 'review_text']\n"
     ]
    }
   ],
   "source": [
    "pX_train = ppl.transform(X_train[:train_size])"
   ]
  },
  {
   "cell_type": "code",
   "execution_count": 60,
   "metadata": {},
   "outputs": [
    {
     "data": {
      "text/plain": [
       "text_reviews_count        0\n",
       "average_rating            0\n",
       "ratings_count             0\n",
       "authors_average_rating    0\n",
       "to-read                   0\n",
       "favorites                 0\n",
       "currently-reading         0\n",
       "dtype: int64"
      ]
     },
     "execution_count": 60,
     "metadata": {},
     "output_type": "execute_result"
    }
   ],
   "source": [
    "pX_train.head(3)"
   ]
  },
  {
   "cell_type": "code",
   "execution_count": 61,
   "metadata": {},
   "outputs": [
    {
     "data": {
      "text/plain": [
       "1988431    3\n",
       "197954     3\n",
       "1390658    5\n",
       "594587     5\n",
       "2249627    1\n",
       "          ..\n",
       "229904     5\n",
       "1953363    5\n",
       "1764247    5\n",
       "2336878    5\n",
       "717299     5\n",
       "Name: rating, Length: 114008, dtype: int64"
      ]
     },
     "execution_count": 61,
     "metadata": {},
     "output_type": "execute_result"
    }
   ],
   "source": [
    "y_train.loc[pX_train.index]"
   ]
  },
  {
   "cell_type": "code",
   "execution_count": 62,
   "metadata": {},
   "outputs": [
    {
     "name": "stdout",
     "output_type": "stream",
     "text": [
      "(transform) Drop columns: ['isbn', 'series', 'country_code', 'language_code', 'asin', 'kindle_asin', 'description', 'format', 'link', 'is_ebook', 'publisher', 'num_pages', 'publication_day', 'isbn13', 'publication_month', 'edition_information', 'publication_year', 'url', 'image_url', 'title', 'title_without_series', 'date_added', 'date_updated', 'read_at', 'started_at', 'n_votes', 'n_comments']\n",
      "(transform) Select books with: text_reviews_count >= 7876.0\n",
      "(transform) LogNormalization\n",
      "(transform) Scale cols: ['text_reviews_count', 'ratings_count']\n",
      "(transform) Export authors average rating\n"
     ]
    },
    {
     "name": "stderr",
     "output_type": "stream",
     "text": [
      "/home/vajk/Documents/FIIT/8-semester/OZNAL/oznal-project/.venv/lib/python3.7/site-packages/pandas/core/indexing.py:844: SettingWithCopyWarning: \n",
      "A value is trying to be set on a copy of a slice from a DataFrame.\n",
      "Try using .loc[row_indexer,col_indexer] = value instead\n",
      "\n",
      "See the caveats in the documentation: https://pandas.pydata.org/pandas-docs/stable/user_guide/indexing.html#returning-a-view-versus-a-copy\n",
      "  self.obj[key] = _infer_fill_value(value)\n",
      "/home/vajk/Documents/FIIT/8-semester/OZNAL/oznal-project/.venv/lib/python3.7/site-packages/pandas/core/indexing.py:965: SettingWithCopyWarning: \n",
      "A value is trying to be set on a copy of a slice from a DataFrame.\n",
      "Try using .loc[row_indexer,col_indexer] = value instead\n",
      "\n",
      "See the caveats in the documentation: https://pandas.pydata.org/pandas-docs/stable/user_guide/indexing.html#returning-a-view-versus-a-copy\n",
      "  self.obj[item] = s\n"
     ]
    },
    {
     "name": "stdout",
     "output_type": "stream",
     "text": [
      "(transform) ExportBookShelves, tag_col: popular_shelves, tags:['favorites', 'currently-reading', 'to-read']\n",
      "(transform) Empty values filter\n",
      "(transform) Text preprocessing\n",
      "(transform) Review length filter\n",
      "(transform) Reviews language filter\n",
      "(transform) Drop columns: ['popular_shelves', 'authors', 'similar_books', 'work_id', 'user_id', 'book_id', 'review_id', 'review_text']\n"
     ]
    }
   ],
   "source": [
    "pX_test = ppl.transform(X_test[:train_size])"
   ]
  },
  {
   "cell_type": "code",
   "execution_count": 63,
   "metadata": {},
   "outputs": [
    {
     "data": {
      "text/html": [
       "<div>\n",
       "<style scoped>\n",
       "    .dataframe tbody tr th:only-of-type {\n",
       "        vertical-align: middle;\n",
       "    }\n",
       "\n",
       "    .dataframe tbody tr th {\n",
       "        vertical-align: top;\n",
       "    }\n",
       "\n",
       "    .dataframe thead th {\n",
       "        text-align: right;\n",
       "    }\n",
       "</style>\n",
       "<table border=\"1\" class=\"dataframe\">\n",
       "  <thead>\n",
       "    <tr style=\"text-align: right;\">\n",
       "      <th></th>\n",
       "      <th>text_reviews_count</th>\n",
       "      <th>average_rating</th>\n",
       "      <th>ratings_count</th>\n",
       "      <th>authors_average_rating</th>\n",
       "      <th>to-read</th>\n",
       "      <th>favorites</th>\n",
       "      <th>currently-reading</th>\n",
       "    </tr>\n",
       "  </thead>\n",
       "  <tbody>\n",
       "    <tr>\n",
       "      <th>1805584</th>\n",
       "      <td>0.221934</td>\n",
       "      <td>4.29</td>\n",
       "      <td>0.383735</td>\n",
       "      <td>4.21</td>\n",
       "      <td>4521</td>\n",
       "      <td>2190</td>\n",
       "      <td>1854</td>\n",
       "    </tr>\n",
       "    <tr>\n",
       "      <th>832821</th>\n",
       "      <td>0.610924</td>\n",
       "      <td>3.68</td>\n",
       "      <td>0.646361</td>\n",
       "      <td>3.63</td>\n",
       "      <td>77159</td>\n",
       "      <td>3675</td>\n",
       "      <td>9273</td>\n",
       "    </tr>\n",
       "    <tr>\n",
       "      <th>1946889</th>\n",
       "      <td>0.694326</td>\n",
       "      <td>4.15</td>\n",
       "      <td>0.613442</td>\n",
       "      <td>4.24</td>\n",
       "      <td>494863</td>\n",
       "      <td>11952</td>\n",
       "      <td>583</td>\n",
       "    </tr>\n",
       "    <tr>\n",
       "      <th>917716</th>\n",
       "      <td>0.272336</td>\n",
       "      <td>4.60</td>\n",
       "      <td>0.291627</td>\n",
       "      <td>4.43</td>\n",
       "      <td>4602</td>\n",
       "      <td>6508</td>\n",
       "      <td>4544</td>\n",
       "    </tr>\n",
       "    <tr>\n",
       "      <th>2150372</th>\n",
       "      <td>0.060080</td>\n",
       "      <td>3.80</td>\n",
       "      <td>0.177476</td>\n",
       "      <td>4.06</td>\n",
       "      <td>954</td>\n",
       "      <td>27</td>\n",
       "      <td>32</td>\n",
       "    </tr>\n",
       "    <tr>\n",
       "      <th>...</th>\n",
       "      <td>...</td>\n",
       "      <td>...</td>\n",
       "      <td>...</td>\n",
       "      <td>...</td>\n",
       "      <td>...</td>\n",
       "      <td>...</td>\n",
       "      <td>...</td>\n",
       "    </tr>\n",
       "    <tr>\n",
       "      <th>2129300</th>\n",
       "      <td>0.475464</td>\n",
       "      <td>4.34</td>\n",
       "      <td>0.674608</td>\n",
       "      <td>4.27</td>\n",
       "      <td>5947</td>\n",
       "      <td>242</td>\n",
       "      <td>7490</td>\n",
       "    </tr>\n",
       "    <tr>\n",
       "      <th>1138561</th>\n",
       "      <td>0.740979</td>\n",
       "      <td>4.08</td>\n",
       "      <td>0.726061</td>\n",
       "      <td>4.10</td>\n",
       "      <td>3024</td>\n",
       "      <td>16084</td>\n",
       "      <td>711</td>\n",
       "    </tr>\n",
       "    <tr>\n",
       "      <th>572956</th>\n",
       "      <td>0.489958</td>\n",
       "      <td>4.30</td>\n",
       "      <td>0.445353</td>\n",
       "      <td>4.24</td>\n",
       "      <td>11481</td>\n",
       "      <td>739</td>\n",
       "      <td>560</td>\n",
       "    </tr>\n",
       "    <tr>\n",
       "      <th>2120949</th>\n",
       "      <td>0.034484</td>\n",
       "      <td>3.93</td>\n",
       "      <td>0.154145</td>\n",
       "      <td>4.21</td>\n",
       "      <td>7944</td>\n",
       "      <td>1435</td>\n",
       "      <td>1407</td>\n",
       "    </tr>\n",
       "    <tr>\n",
       "      <th>956700</th>\n",
       "      <td>0.745156</td>\n",
       "      <td>4.03</td>\n",
       "      <td>0.712491</td>\n",
       "      <td>3.94</td>\n",
       "      <td>388011</td>\n",
       "      <td>8045</td>\n",
       "      <td>20652</td>\n",
       "    </tr>\n",
       "  </tbody>\n",
       "</table>\n",
       "<p>109183 rows × 7 columns</p>\n",
       "</div>"
      ],
      "text/plain": [
       "         text_reviews_count  average_rating  ratings_count  \\\n",
       "1805584            0.221934            4.29       0.383735   \n",
       "832821             0.610924            3.68       0.646361   \n",
       "1946889            0.694326            4.15       0.613442   \n",
       "917716             0.272336            4.60       0.291627   \n",
       "2150372            0.060080            3.80       0.177476   \n",
       "...                     ...             ...            ...   \n",
       "2129300            0.475464            4.34       0.674608   \n",
       "1138561            0.740979            4.08       0.726061   \n",
       "572956             0.489958            4.30       0.445353   \n",
       "2120949            0.034484            3.93       0.154145   \n",
       "956700             0.745156            4.03       0.712491   \n",
       "\n",
       "         authors_average_rating  to-read  favorites  currently-reading  \n",
       "1805584                    4.21     4521       2190               1854  \n",
       "832821                     3.63    77159       3675               9273  \n",
       "1946889                    4.24   494863      11952                583  \n",
       "917716                     4.43     4602       6508               4544  \n",
       "2150372                    4.06      954         27                 32  \n",
       "...                         ...      ...        ...                ...  \n",
       "2129300                    4.27     5947        242               7490  \n",
       "1138561                    4.10     3024      16084                711  \n",
       "572956                     4.24    11481        739                560  \n",
       "2120949                    4.21     7944       1435               1407  \n",
       "956700                     3.94   388011       8045              20652  \n",
       "\n",
       "[109183 rows x 7 columns]"
      ]
     },
     "execution_count": 63,
     "metadata": {},
     "output_type": "execute_result"
    }
   ],
   "source": [
    "pX_test"
   ]
  },
  {
   "cell_type": "markdown",
   "metadata": {},
   "source": [
    "# Training"
   ]
  },
  {
   "cell_type": "markdown",
   "metadata": {},
   "source": [
    "### linear regression"
   ]
  },
  {
   "cell_type": "code",
   "execution_count": 81,
   "metadata": {},
   "outputs": [],
   "source": [
    "from sklearn.linear_model import LinearRegression\n",
    "from sklearn.preprocessing import PolynomialFeatures\n",
    "from sklearn.metrics import mean_squared_error, r2_score"
   ]
  },
  {
   "cell_type": "code",
   "execution_count": 65,
   "metadata": {},
   "outputs": [],
   "source": [
    "reg = LinearRegression().fit(pX_train, y_train[pX_train.index])"
   ]
  },
  {
   "cell_type": "code",
   "execution_count": 66,
   "metadata": {},
   "outputs": [
    {
     "data": {
      "text/plain": [
       "0.07328514312270196"
      ]
     },
     "execution_count": 66,
     "metadata": {},
     "output_type": "execute_result"
    }
   ],
   "source": [
    "reg.score(pX_train, y_train[pX_train.index])"
   ]
  },
  {
   "cell_type": "code",
   "execution_count": 67,
   "metadata": {},
   "outputs": [],
   "source": [
    "y_pred = reg.predict(pX_test)"
   ]
  },
  {
   "cell_type": "code",
   "execution_count": 68,
   "metadata": {},
   "outputs": [
    {
     "data": {
      "text/plain": [
       "1.3444578330830934"
      ]
     },
     "execution_count": 68,
     "metadata": {},
     "output_type": "execute_result"
    }
   ],
   "source": [
    "mean_squared_error(y_test[pX_test.index], y_pred)"
   ]
  },
  {
   "cell_type": "code",
   "execution_count": 82,
   "metadata": {},
   "outputs": [
    {
     "data": {
      "text/plain": [
       "0.060523533934783824"
      ]
     },
     "execution_count": 82,
     "metadata": {},
     "output_type": "execute_result"
    }
   ],
   "source": [
    "r2_score(y_test[pX_test.index], y_pred)"
   ]
  },
  {
   "cell_type": "markdown",
   "metadata": {},
   "source": [
    "### polynomial regresion"
   ]
  },
  {
   "cell_type": "code",
   "execution_count": 76,
   "metadata": {},
   "outputs": [],
   "source": [
    "polynomial_features= PolynomialFeatures(degree=3)\n",
    "x_poly = polynomial_features.fit_transform(pX_train)\n",
    "\n",
    "model = LinearRegression()\n",
    "model.fit(x_poly, y_train[pX_train.index])\n",
    "y_poly_pred = model.predict(x_poly)"
   ]
  },
  {
   "cell_type": "code",
   "execution_count": 77,
   "metadata": {},
   "outputs": [
    {
     "data": {
      "text/plain": [
       "1.3500714450670928"
      ]
     },
     "execution_count": 77,
     "metadata": {},
     "output_type": "execute_result"
    }
   ],
   "source": [
    "mean_squared_error(y_train[pX_train.index],y_poly_pred)"
   ]
  },
  {
   "cell_type": "code",
   "execution_count": 78,
   "metadata": {},
   "outputs": [],
   "source": [
    "x_t = polynomial_features.transform(pX_test)"
   ]
  },
  {
   "cell_type": "code",
   "execution_count": 79,
   "metadata": {},
   "outputs": [],
   "source": [
    "y_pred = model.predict(x_t)"
   ]
  },
  {
   "cell_type": "code",
   "execution_count": 80,
   "metadata": {},
   "outputs": [
    {
     "data": {
      "text/plain": [
       "1.3606385275000137"
      ]
     },
     "execution_count": 80,
     "metadata": {},
     "output_type": "execute_result"
    }
   ],
   "source": [
    "mean_squared_error(y_test[pX_test.index], y_pred)"
   ]
  },
  {
   "cell_type": "code",
   "execution_count": 83,
   "metadata": {},
   "outputs": [
    {
     "data": {
      "text/plain": [
       "0.060523533934783824"
      ]
     },
     "execution_count": 83,
     "metadata": {},
     "output_type": "execute_result"
    }
   ],
   "source": [
    "r2_score(y_test[pX_test.index], y_pred)"
   ]
  }
 ],
 "metadata": {
  "kernelspec": {
   "display_name": ".venv",
   "language": "python",
   "name": ".venv"
  },
  "language_info": {
   "codemirror_mode": {
    "name": "ipython",
    "version": 3
   },
   "file_extension": ".py",
   "mimetype": "text/x-python",
   "name": "python",
   "nbconvert_exporter": "python",
   "pygments_lexer": "ipython3",
   "version": "3.8.2"
  }
 },
 "nbformat": 4,
 "nbformat_minor": 4
}
