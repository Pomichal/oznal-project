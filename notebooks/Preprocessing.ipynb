{
 "cells": [
  {
   "cell_type": "code",
   "execution_count": 32,
   "metadata": {},
   "outputs": [
    {
     "name": "stdout",
     "output_type": "stream",
     "text": [
      "The autoreload extension is already loaded. To reload it, use:\n",
      "  %reload_ext autoreload\n"
     ]
    }
   ],
   "source": [
    "import pandas as pd\n",
    "import matplotlib.pyplot as plt\n",
    "import seaborn as sns\n",
    "import numpy as np\n",
    "from IPython.display import display\n",
    "from sklearn.pipeline import Pipeline\n",
    "\n",
    "import sys\n",
    "sys.path.insert(1, '../')\n",
    "\n",
    "from src import preprocessing as pp\n",
    "from src import analysis\n",
    "\n",
    "# Enable module reloading\n",
    "%load_ext autoreload\n",
    "%autoreload 2\n",
    "\n",
    "pd.set_option('display.max_columns', None)\n",
    "\n",
    "plt.rcParams['figure.figsize'] = (10, 6)\n",
    "%config InlineBackend.figure_format='retina'\n",
    "plt.rcParams.update({'font.size': 15})"
   ]
  },
  {
   "cell_type": "code",
   "execution_count": 3,
   "metadata": {},
   "outputs": [],
   "source": [
    "from sklearn.base import TransformerMixin\n",
    "import json\n",
    "import category_encoders as ce"
   ]
  },
  {
   "cell_type": "markdown",
   "metadata": {},
   "source": [
    "# Load datasets"
   ]
  },
  {
   "cell_type": "code",
   "execution_count": 4,
   "metadata": {},
   "outputs": [],
   "source": [
    "books = pd.read_csv('../data/books.csv')\n",
    "reviews = pd.read_csv('../data/reviews.csv')\n",
    "# intr = pd.read_csv('../data/interactions.csv')\n",
    "authors = pd.read_csv('../data/authors.csv')"
   ]
  },
  {
   "cell_type": "markdown",
   "metadata": {},
   "source": [
    "# Data preprocessing"
   ]
  },
  {
   "cell_type": "markdown",
   "metadata": {},
   "source": [
    "## books"
   ]
  },
  {
   "cell_type": "code",
   "execution_count": 6,
   "metadata": {},
   "outputs": [
    {
     "data": {
      "text/plain": [
       "Index(['isbn', 'text_reviews_count', 'series', 'country_code', 'language_code',\n",
       "       'popular_shelves', 'asin', 'is_ebook', 'average_rating', 'kindle_asin',\n",
       "       'similar_books', 'description', 'format', 'link', 'authors',\n",
       "       'publisher', 'num_pages', 'publication_day', 'isbn13',\n",
       "       'publication_month', 'edition_information', 'publication_year', 'url',\n",
       "       'image_url', 'book_id', 'ratings_count', 'work_id', 'title',\n",
       "       'title_without_series'],\n",
       "      dtype='object')"
      ]
     },
     "execution_count": 6,
     "metadata": {},
     "output_type": "execute_result"
    }
   ],
   "source": [
    "books.columns"
   ]
  },
  {
   "cell_type": "code",
   "execution_count": 33,
   "metadata": {},
   "outputs": [
    {
     "name": "stdout",
     "output_type": "stream",
     "text": [
      "(fit) Drop columns: ['isbn', 'series', 'country_code', 'language_code', 'asin', 'kindle_asin', 'similar_books', 'description', 'format', 'link', 'publisher', 'publication_day', 'isbn13', 'publication_month', 'edition_information', 'publication_year', 'url', 'image_url', 'ratings_count', 'work_id', 'title', 'title_without_series']\n",
      "(fit) Select books with: text_reviews_count >= 103.0\n",
      "(fit) Export authors average rating\n",
      "(fit) ExportBookShelves, tag_col: popular_shelves, tags:['favorites', 'currently-reading', 'to-read']\n",
      "(fit) Drop columns: ['popular_shelves', 'authors']\n",
      "(fit) Category encoder OneHotEncoder(cols=None, drop_invariant=False, handle_missing='value',\n",
      "              handle_unknown='value', return_df=True, use_cat_names=False,\n",
      "              verbose=0)\n"
     ]
    }
   ],
   "source": [
    "drop_cols1 = ['isbn', 'series', 'country_code', 'language_code',\n",
    "              'asin', 'kindle_asin',\n",
    "              'similar_books', 'description', 'format', 'link',\n",
    "              'publisher', 'publication_day', 'isbn13',\n",
    "              'publication_month', 'edition_information', 'publication_year', 'url',\n",
    "              'image_url', 'ratings_count', 'work_id', 'title',\n",
    "              'title_without_series']\n",
    "\n",
    "drop_cols2 = ['popular_shelves', 'authors']\n",
    "\n",
    "tags = ['favorites', 'currently-reading', 'to-read']\n",
    "\n",
    "encoder = ce.OneHotEncoder()\n",
    "\n",
    "ppl = Pipeline([\n",
    "    ('DropUnusedCols1', pp.DropColumns(drop_cols1)),\n",
    "    ('SelectTopNPercentileOfBooks', pp.SelectBooksWithNPercentile('text_reviews_count', 0.9)),\n",
    "    ('ExportAuthorsAverageRating', pp.ExportAuthorsAverageRating('authors', 'authors_average_rating', authors)),\n",
    "    ('ExtraxtPopularShelves',pp.ExportBookShelves('popular_shelves', tags)),\n",
    "    ('DropUnusedCols2', pp.DropColumns(drop_cols2)),\n",
    "    ('EncodeCategories', pp.EncodeCategories(encoder))\n",
    "])\n",
    "\n",
    "model = ppl.fit(books)"
   ]
  },
  {
   "cell_type": "code",
   "execution_count": 34,
   "metadata": {},
   "outputs": [],
   "source": [
    "train = ppl.transform(books)"
   ]
  },
  {
   "cell_type": "code",
   "execution_count": 35,
   "metadata": {},
   "outputs": [
    {
     "data": {
      "text/html": [
       "<div>\n",
       "<style scoped>\n",
       "    .dataframe tbody tr th:only-of-type {\n",
       "        vertical-align: middle;\n",
       "    }\n",
       "\n",
       "    .dataframe tbody tr th {\n",
       "        vertical-align: top;\n",
       "    }\n",
       "\n",
       "    .dataframe thead th {\n",
       "        text-align: right;\n",
       "    }\n",
       "</style>\n",
       "<table border=\"1\" class=\"dataframe\">\n",
       "  <thead>\n",
       "    <tr style=\"text-align: right;\">\n",
       "      <th></th>\n",
       "      <th>text_reviews_count</th>\n",
       "      <th>is_ebook</th>\n",
       "      <th>average_rating</th>\n",
       "      <th>num_pages</th>\n",
       "      <th>book_id</th>\n",
       "      <th>authors_average_rating</th>\n",
       "      <th>favorites</th>\n",
       "      <th>currently-reading</th>\n",
       "      <th>to-read</th>\n",
       "    </tr>\n",
       "  </thead>\n",
       "  <tbody>\n",
       "    <tr>\n",
       "      <th>4</th>\n",
       "      <td>428</td>\n",
       "      <td>False</td>\n",
       "      <td>3.71</td>\n",
       "      <td>351.0</td>\n",
       "      <td>22642971</td>\n",
       "      <td>3.89</td>\n",
       "      <td>49</td>\n",
       "      <td>67</td>\n",
       "      <td>9481</td>\n",
       "    </tr>\n",
       "    <tr>\n",
       "      <th>19</th>\n",
       "      <td>112</td>\n",
       "      <td>False</td>\n",
       "      <td>4.10</td>\n",
       "      <td>402.0</td>\n",
       "      <td>10806009</td>\n",
       "      <td>4.02</td>\n",
       "      <td>393</td>\n",
       "      <td>31</td>\n",
       "      <td>1639</td>\n",
       "    </tr>\n",
       "    <tr>\n",
       "      <th>26</th>\n",
       "      <td>276</td>\n",
       "      <td>False</td>\n",
       "      <td>3.86</td>\n",
       "      <td>237.0</td>\n",
       "      <td>9463563</td>\n",
       "      <td>3.86</td>\n",
       "      <td>53</td>\n",
       "      <td>65</td>\n",
       "      <td>13204</td>\n",
       "    </tr>\n",
       "  </tbody>\n",
       "</table>\n",
       "</div>"
      ],
      "text/plain": [
       "    text_reviews_count  is_ebook  average_rating  num_pages   book_id  \\\n",
       "4                  428     False            3.71      351.0  22642971   \n",
       "19                 112     False            4.10      402.0  10806009   \n",
       "26                 276     False            3.86      237.0   9463563   \n",
       "\n",
       "    authors_average_rating  favorites  currently-reading  to-read  \n",
       "4                     3.89         49                 67     9481  \n",
       "19                    4.02        393                 31     1639  \n",
       "26                    3.86         53                 65    13204  "
      ]
     },
     "execution_count": 35,
     "metadata": {},
     "output_type": "execute_result"
    }
   ],
   "source": [
    "train.head(3)"
   ]
  },
  {
   "cell_type": "markdown",
   "metadata": {},
   "source": [
    "## users"
   ]
  },
  {
   "cell_type": "code",
   "execution_count": 29,
   "metadata": {},
   "outputs": [],
   "source": [
    "# TBA"
   ]
  }
 ],
 "metadata": {
  "kernelspec": {
   "display_name": ".venv",
   "language": "python",
   "name": ".venv"
  },
  "language_info": {
   "codemirror_mode": {
    "name": "ipython",
    "version": 3
   },
   "file_extension": ".py",
   "mimetype": "text/x-python",
   "name": "python",
   "nbconvert_exporter": "python",
   "pygments_lexer": "ipython3",
   "version": "3.7.5"
  }
 },
 "nbformat": 4,
 "nbformat_minor": 4
}
