{
 "cells": [
  {
   "cell_type": "code",
   "execution_count": 27,
   "metadata": {},
   "outputs": [
    {
     "name": "stdout",
     "output_type": "stream",
     "text": [
      "The autoreload extension is already loaded. To reload it, use:\n",
      "  %reload_ext autoreload\n"
     ]
    }
   ],
   "source": [
    "import pandas as pd\n",
    "import matplotlib.pyplot as plt\n",
    "import seaborn as sns\n",
    "import numpy as np\n",
    "from IPython.display import display\n",
    "from sklearn.pipeline import Pipeline\n",
    "import category_encoders as ce\n",
    "\n",
    "import sys\n",
    "sys.path.insert(1, '../')\n",
    "\n",
    "from src import preprocessing as pp\n",
    "from src import analysis\n",
    "\n",
    "# Enable module reloading\n",
    "%load_ext autoreload\n",
    "%autoreload 2\n",
    "\n",
    "pd.set_option('display.max_columns', None)\n",
    "\n",
    "plt.rcParams['figure.figsize'] = (10, 6)\n",
    "%config InlineBackend.figure_format='retina'\n",
    "plt.rcParams.update({'font.size': 15})"
   ]
  },
  {
   "cell_type": "code",
   "execution_count": 24,
   "metadata": {},
   "outputs": [],
   "source": [
    "from sklearn.base import TransformerMixin\n",
    "import json\n",
    "from sklearn.model_selection import train_test_split\n"
   ]
  },
  {
   "cell_type": "markdown",
   "metadata": {},
   "source": [
    "# Load datasets"
   ]
  },
  {
   "cell_type": "code",
   "execution_count": 3,
   "metadata": {},
   "outputs": [],
   "source": [
    "books = pd.read_csv('../data/books.csv')\n",
    "reviews = pd.read_csv('../data/reviews.csv')\n",
    "# intr = pd.read_csv('../data/interactions.csv')\n",
    "authors = pd.read_csv('../data/authors.csv')"
   ]
  },
  {
   "cell_type": "markdown",
   "metadata": {},
   "source": [
    "# Data preprocessing"
   ]
  },
  {
   "cell_type": "markdown",
   "metadata": {},
   "source": [
    "## books"
   ]
  },
  {
   "cell_type": "code",
   "execution_count": 13,
   "metadata": {},
   "outputs": [
    {
     "data": {
      "text/plain": [
       "Index(['isbn', 'text_reviews_count', 'series', 'country_code', 'language_code',\n",
       "       'popular_shelves', 'asin', 'is_ebook', 'average_rating', 'kindle_asin',\n",
       "       'similar_books', 'description', 'format', 'link', 'authors',\n",
       "       'publisher', 'num_pages', 'publication_day', 'isbn13',\n",
       "       'publication_month', 'edition_information', 'publication_year', 'url',\n",
       "       'image_url', 'book_id', 'ratings_count', 'work_id', 'title',\n",
       "       'title_without_series'],\n",
       "      dtype='object')"
      ]
     },
     "execution_count": 13,
     "metadata": {},
     "output_type": "execute_result"
    }
   ],
   "source": [
    "books.columns"
   ]
  },
  {
   "cell_type": "code",
   "execution_count": 28,
   "metadata": {},
   "outputs": [
    {
     "name": "stdout",
     "output_type": "stream",
     "text": [
      "(fit) Drop columns: ['isbn', 'series', 'country_code', 'language_code', 'asin', 'kindle_asin', 'similar_books', 'description', 'format', 'link', 'publisher', 'publication_day', 'isbn13', 'publication_month', 'edition_information', 'publication_year', 'url', 'image_url', 'ratings_count', 'work_id', 'title', 'title_without_series']\n",
      "(transform) Drop columns: ['isbn', 'series', 'country_code', 'language_code', 'asin', 'kindle_asin', 'similar_books', 'description', 'format', 'link', 'publisher', 'publication_day', 'isbn13', 'publication_month', 'edition_information', 'publication_year', 'url', 'image_url', 'ratings_count', 'work_id', 'title', 'title_without_series']\n",
      "(fit) Select books with: text_reviews_count >= 103.0\n",
      "(transform) Select books with: text_reviews_count >= 103.0\n",
      "(fit) Export authors average rating\n",
      "transform) Export authors average rating\n",
      "(fit) ExportBookShelves, tag_col: popular_shelves, tags:['favorites', 'currently-reading', 'to-read']\n",
      "(transform) ExportBookShelves, tag_col: popular_shelves, tags:['favorites', 'currently-reading', 'to-read']\n",
      "(fit) Drop columns: ['popular_shelves', 'authors']\n",
      "(transform) Drop columns: ['popular_shelves', 'authors']\n",
      "(fit) Category encoder OneHotEncoder(cols=None, drop_invariant=False, handle_missing='value',\n",
      "              handle_unknown='value', return_df=True, use_cat_names=False,\n",
      "              verbose=0)\n"
     ]
    }
   ],
   "source": [
    "drop_cols1 = ['isbn', 'series', 'country_code', 'language_code',\n",
    "              'asin', 'kindle_asin',\n",
    "              'similar_books', 'description', 'format', 'link',\n",
    "              'publisher', 'publication_day', 'isbn13',\n",
    "              'publication_month', 'edition_information', 'publication_year', 'url',\n",
    "              'image_url', 'ratings_count', 'work_id', 'title',\n",
    "              'title_without_series']\n",
    "\n",
    "drop_cols2 = ['popular_shelves', 'authors']\n",
    "\n",
    "tags = ['favorites', 'currently-reading', 'to-read']\n",
    "\n",
    "encoder = ce.OneHotEncoder()\n",
    "\n",
    "books_ppl = Pipeline([\n",
    "    ('DropUnusedCols1', pp.DropColumns(drop_cols1)),\n",
    "    ('SelectTopNPercentileOfBooks', pp.SelectBooksWithNPercentile('text_reviews_count', 0.9)),\n",
    "    ('ExportAuthorsAverageRating', pp.ExportAuthorsAverageRating('authors', 'authors_average_rating', authors)),\n",
    "    ('ExtraxtPopularShelves',pp.ExportBookShelves('popular_shelves', tags)),\n",
    "    ('DropUnusedCols2', pp.DropColumns(drop_cols2)),\n",
    "    ('EncodeCategories', pp.EncodeCategories(encoder))\n",
    "])\n",
    "\n",
    "model = books_ppl.fit(books)"
   ]
  },
  {
   "cell_type": "code",
   "execution_count": 31,
   "metadata": {},
   "outputs": [
    {
     "name": "stdout",
     "output_type": "stream",
     "text": [
      "(transform) Drop columns: ['isbn', 'series', 'country_code', 'language_code', 'asin', 'kindle_asin', 'similar_books', 'description', 'format', 'link', 'publisher', 'publication_day', 'isbn13', 'publication_month', 'edition_information', 'publication_year', 'url', 'image_url', 'ratings_count', 'work_id', 'title', 'title_without_series']\n",
      "(transform) Select books with: text_reviews_count >= 103.0\n",
      "transform) Export authors average rating\n",
      "(transform) ExportBookShelves, tag_col: popular_shelves, tags:['favorites', 'currently-reading', 'to-read']\n",
      "(transform) Drop columns: ['popular_shelves', 'authors']\n",
      "(transform) Category encoder OneHotEncoder(cols=[], drop_invariant=False, handle_missing='value',\n",
      "              handle_unknown='value', return_df=True, use_cat_names=False,\n",
      "              verbose=0)\n"
     ]
    }
   ],
   "source": [
    "books_transformed = books_ppl.transform(books)"
   ]
  },
  {
   "cell_type": "code",
   "execution_count": 32,
   "metadata": {},
   "outputs": [
    {
     "data": {
      "text/html": [
       "<div>\n",
       "<style scoped>\n",
       "    .dataframe tbody tr th:only-of-type {\n",
       "        vertical-align: middle;\n",
       "    }\n",
       "\n",
       "    .dataframe tbody tr th {\n",
       "        vertical-align: top;\n",
       "    }\n",
       "\n",
       "    .dataframe thead th {\n",
       "        text-align: right;\n",
       "    }\n",
       "</style>\n",
       "<table border=\"1\" class=\"dataframe\">\n",
       "  <thead>\n",
       "    <tr style=\"text-align: right;\">\n",
       "      <th></th>\n",
       "      <th>text_reviews_count</th>\n",
       "      <th>is_ebook</th>\n",
       "      <th>average_rating</th>\n",
       "      <th>num_pages</th>\n",
       "      <th>book_id</th>\n",
       "      <th>authors_average_rating</th>\n",
       "      <th>favorites</th>\n",
       "      <th>currently-reading</th>\n",
       "      <th>to-read</th>\n",
       "    </tr>\n",
       "  </thead>\n",
       "  <tbody>\n",
       "    <tr>\n",
       "      <th>4</th>\n",
       "      <td>428</td>\n",
       "      <td>False</td>\n",
       "      <td>3.71</td>\n",
       "      <td>351.0</td>\n",
       "      <td>22642971</td>\n",
       "      <td>3.89</td>\n",
       "      <td>49</td>\n",
       "      <td>67</td>\n",
       "      <td>9481</td>\n",
       "    </tr>\n",
       "    <tr>\n",
       "      <th>19</th>\n",
       "      <td>112</td>\n",
       "      <td>False</td>\n",
       "      <td>4.10</td>\n",
       "      <td>402.0</td>\n",
       "      <td>10806009</td>\n",
       "      <td>4.02</td>\n",
       "      <td>393</td>\n",
       "      <td>31</td>\n",
       "      <td>1639</td>\n",
       "    </tr>\n",
       "    <tr>\n",
       "      <th>26</th>\n",
       "      <td>276</td>\n",
       "      <td>False</td>\n",
       "      <td>3.86</td>\n",
       "      <td>237.0</td>\n",
       "      <td>9463563</td>\n",
       "      <td>3.86</td>\n",
       "      <td>53</td>\n",
       "      <td>65</td>\n",
       "      <td>13204</td>\n",
       "    </tr>\n",
       "  </tbody>\n",
       "</table>\n",
       "</div>"
      ],
      "text/plain": [
       "    text_reviews_count  is_ebook  average_rating  num_pages   book_id  \\\n",
       "4                  428     False            3.71      351.0  22642971   \n",
       "19                 112     False            4.10      402.0  10806009   \n",
       "26                 276     False            3.86      237.0   9463563   \n",
       "\n",
       "    authors_average_rating  favorites  currently-reading  to-read  \n",
       "4                     3.89         49                 67     9481  \n",
       "19                    4.02        393                 31     1639  \n",
       "26                    3.86         53                 65    13204  "
      ]
     },
     "execution_count": 32,
     "metadata": {},
     "output_type": "execute_result"
    }
   ],
   "source": [
    "books_transformed.head(3)"
   ]
  },
  {
   "cell_type": "markdown",
   "metadata": {},
   "source": [
    "## users/reviews"
   ]
  },
  {
   "cell_type": "code",
   "execution_count": 33,
   "metadata": {},
   "outputs": [
    {
     "data": {
      "text/plain": [
       "Index(['user_id', 'book_id', 'review_id', 'rating', 'review_text',\n",
       "       'date_added', 'date_updated', 'read_at', 'started_at', 'n_votes',\n",
       "       'n_comments'],\n",
       "      dtype='object')"
      ]
     },
     "execution_count": 33,
     "metadata": {},
     "output_type": "execute_result"
    }
   ],
   "source": [
    "reviews.columns"
   ]
  },
  {
   "cell_type": "code",
   "execution_count": 34,
   "metadata": {},
   "outputs": [
    {
     "name": "stdout",
     "output_type": "stream",
     "text": [
      "(fit) Drop columns: ['date_added', 'date_updated', 'read_at', 'started_at']\n"
     ]
    }
   ],
   "source": [
    "drop_cols1 = ['date_added', 'date_updated', 'read_at', 'started_at']\n",
    "\n",
    "reviews_ppl = Pipeline([\n",
    "    ('DropUnusedCols1', pp.DropColumns(drop_cols1)),\n",
    "])\n",
    "\n",
    "model = reviews_ppl.fit(reviews)"
   ]
  },
  {
   "cell_type": "code",
   "execution_count": 35,
   "metadata": {},
   "outputs": [
    {
     "name": "stdout",
     "output_type": "stream",
     "text": [
      "(transform) Drop columns: ['date_added', 'date_updated', 'read_at', 'started_at']\n"
     ]
    }
   ],
   "source": [
    "reviews_transformed = reviews_ppl.transform(reviews)"
   ]
  },
  {
   "cell_type": "code",
   "execution_count": 36,
   "metadata": {},
   "outputs": [
    {
     "data": {
      "text/html": [
       "<div>\n",
       "<style scoped>\n",
       "    .dataframe tbody tr th:only-of-type {\n",
       "        vertical-align: middle;\n",
       "    }\n",
       "\n",
       "    .dataframe tbody tr th {\n",
       "        vertical-align: top;\n",
       "    }\n",
       "\n",
       "    .dataframe thead th {\n",
       "        text-align: right;\n",
       "    }\n",
       "</style>\n",
       "<table border=\"1\" class=\"dataframe\">\n",
       "  <thead>\n",
       "    <tr style=\"text-align: right;\">\n",
       "      <th></th>\n",
       "      <th>user_id</th>\n",
       "      <th>book_id</th>\n",
       "      <th>review_id</th>\n",
       "      <th>rating</th>\n",
       "      <th>review_text</th>\n",
       "      <th>n_votes</th>\n",
       "      <th>n_comments</th>\n",
       "    </tr>\n",
       "  </thead>\n",
       "  <tbody>\n",
       "    <tr>\n",
       "      <th>0</th>\n",
       "      <td>8842281e1d1347389f2ab93d60773d4d</td>\n",
       "      <td>2767052</td>\n",
       "      <td>248c011811e945eca861b5c31a549291</td>\n",
       "      <td>5</td>\n",
       "      <td>I cracked and finally picked this up. Very enj...</td>\n",
       "      <td>24</td>\n",
       "      <td>25</td>\n",
       "    </tr>\n",
       "    <tr>\n",
       "      <th>1</th>\n",
       "      <td>7504b2aee1ecb5b2872d3da381c6c91e</td>\n",
       "      <td>23302416</td>\n",
       "      <td>84c0936a0f9868f38e75d2f9a5cb761e</td>\n",
       "      <td>5</td>\n",
       "      <td>I read this book because my fifth grade son wa...</td>\n",
       "      <td>0</td>\n",
       "      <td>0</td>\n",
       "    </tr>\n",
       "    <tr>\n",
       "      <th>2</th>\n",
       "      <td>f8a89075dc6de14857561522e729f82c</td>\n",
       "      <td>18053080</td>\n",
       "      <td>785c8db878f4009da9741dea51f641da</td>\n",
       "      <td>4</td>\n",
       "      <td>Though the book started out slow and only star...</td>\n",
       "      <td>0</td>\n",
       "      <td>0</td>\n",
       "    </tr>\n",
       "  </tbody>\n",
       "</table>\n",
       "</div>"
      ],
      "text/plain": [
       "                            user_id   book_id  \\\n",
       "0  8842281e1d1347389f2ab93d60773d4d   2767052   \n",
       "1  7504b2aee1ecb5b2872d3da381c6c91e  23302416   \n",
       "2  f8a89075dc6de14857561522e729f82c  18053080   \n",
       "\n",
       "                          review_id  rating  \\\n",
       "0  248c011811e945eca861b5c31a549291       5   \n",
       "1  84c0936a0f9868f38e75d2f9a5cb761e       5   \n",
       "2  785c8db878f4009da9741dea51f641da       4   \n",
       "\n",
       "                                         review_text  n_votes  n_comments  \n",
       "0  I cracked and finally picked this up. Very enj...       24          25  \n",
       "1  I read this book because my fifth grade son wa...        0           0  \n",
       "2  Though the book started out slow and only star...        0           0  "
      ]
     },
     "execution_count": 36,
     "metadata": {},
     "output_type": "execute_result"
    }
   ],
   "source": [
    "reviews_transformed.head(3)"
   ]
  },
  {
   "cell_type": "markdown",
   "metadata": {},
   "source": [
    "# Merge data"
   ]
  },
  {
   "cell_type": "code",
   "execution_count": 37,
   "metadata": {},
   "outputs": [],
   "source": [
    "data = pd.merge(books_transformed, reviews_transformed, on='book_id')"
   ]
  },
  {
   "cell_type": "code",
   "execution_count": 38,
   "metadata": {},
   "outputs": [
    {
     "data": {
      "text/html": [
       "<div>\n",
       "<style scoped>\n",
       "    .dataframe tbody tr th:only-of-type {\n",
       "        vertical-align: middle;\n",
       "    }\n",
       "\n",
       "    .dataframe tbody tr th {\n",
       "        vertical-align: top;\n",
       "    }\n",
       "\n",
       "    .dataframe thead th {\n",
       "        text-align: right;\n",
       "    }\n",
       "</style>\n",
       "<table border=\"1\" class=\"dataframe\">\n",
       "  <thead>\n",
       "    <tr style=\"text-align: right;\">\n",
       "      <th></th>\n",
       "      <th>text_reviews_count</th>\n",
       "      <th>is_ebook</th>\n",
       "      <th>average_rating</th>\n",
       "      <th>num_pages</th>\n",
       "      <th>book_id</th>\n",
       "      <th>authors_average_rating</th>\n",
       "      <th>favorites</th>\n",
       "      <th>currently-reading</th>\n",
       "      <th>to-read</th>\n",
       "      <th>user_id</th>\n",
       "      <th>review_id</th>\n",
       "      <th>rating</th>\n",
       "      <th>review_text</th>\n",
       "      <th>n_votes</th>\n",
       "      <th>n_comments</th>\n",
       "    </tr>\n",
       "  </thead>\n",
       "  <tbody>\n",
       "    <tr>\n",
       "      <th>0</th>\n",
       "      <td>428</td>\n",
       "      <td>False</td>\n",
       "      <td>3.71</td>\n",
       "      <td>351.0</td>\n",
       "      <td>22642971</td>\n",
       "      <td>3.89</td>\n",
       "      <td>49</td>\n",
       "      <td>67</td>\n",
       "      <td>9481</td>\n",
       "      <td>929a819434fe1182015b4b95c1149346</td>\n",
       "      <td>5e008fef7e2fb6a1c5aa460153467e8f</td>\n",
       "      <td>4</td>\n",
       "      <td>*4.5 stars* \\n I'm a big huge fan of the Acros...</td>\n",
       "      <td>0</td>\n",
       "      <td>0</td>\n",
       "    </tr>\n",
       "    <tr>\n",
       "      <th>1</th>\n",
       "      <td>428</td>\n",
       "      <td>False</td>\n",
       "      <td>3.71</td>\n",
       "      <td>351.0</td>\n",
       "      <td>22642971</td>\n",
       "      <td>3.89</td>\n",
       "      <td>49</td>\n",
       "      <td>67</td>\n",
       "      <td>9481</td>\n",
       "      <td>3aee9278dddcc99d8e0af367dff3d037</td>\n",
       "      <td>23182cfc18eb1be5c5eb55a51871e850</td>\n",
       "      <td>4</td>\n",
       "      <td>Thanks to Netgalley and the publishers for a c...</td>\n",
       "      <td>0</td>\n",
       "      <td>0</td>\n",
       "    </tr>\n",
       "    <tr>\n",
       "      <th>2</th>\n",
       "      <td>428</td>\n",
       "      <td>False</td>\n",
       "      <td>3.71</td>\n",
       "      <td>351.0</td>\n",
       "      <td>22642971</td>\n",
       "      <td>3.89</td>\n",
       "      <td>49</td>\n",
       "      <td>67</td>\n",
       "      <td>9481</td>\n",
       "      <td>8b089f0255ff3c591817b6d7bf3c61e6</td>\n",
       "      <td>9ae1da997e3c8474aa44c3fb5b563997</td>\n",
       "      <td>5</td>\n",
       "      <td>First of all, I just have to say that I absolu...</td>\n",
       "      <td>0</td>\n",
       "      <td>0</td>\n",
       "    </tr>\n",
       "  </tbody>\n",
       "</table>\n",
       "</div>"
      ],
      "text/plain": [
       "   text_reviews_count  is_ebook  average_rating  num_pages   book_id  \\\n",
       "0                 428     False            3.71      351.0  22642971   \n",
       "1                 428     False            3.71      351.0  22642971   \n",
       "2                 428     False            3.71      351.0  22642971   \n",
       "\n",
       "   authors_average_rating  favorites  currently-reading  to-read  \\\n",
       "0                    3.89         49                 67     9481   \n",
       "1                    3.89         49                 67     9481   \n",
       "2                    3.89         49                 67     9481   \n",
       "\n",
       "                            user_id                         review_id  rating  \\\n",
       "0  929a819434fe1182015b4b95c1149346  5e008fef7e2fb6a1c5aa460153467e8f       4   \n",
       "1  3aee9278dddcc99d8e0af367dff3d037  23182cfc18eb1be5c5eb55a51871e850       4   \n",
       "2  8b089f0255ff3c591817b6d7bf3c61e6  9ae1da997e3c8474aa44c3fb5b563997       5   \n",
       "\n",
       "                                         review_text  n_votes  n_comments  \n",
       "0  *4.5 stars* \\n I'm a big huge fan of the Acros...        0           0  \n",
       "1  Thanks to Netgalley and the publishers for a c...        0           0  \n",
       "2  First of all, I just have to say that I absolu...        0           0  "
      ]
     },
     "execution_count": 38,
     "metadata": {},
     "output_type": "execute_result"
    }
   ],
   "source": [
    "data.head(3)"
   ]
  },
  {
   "cell_type": "markdown",
   "metadata": {},
   "source": [
    "# Training"
   ]
  },
  {
   "cell_type": "markdown",
   "metadata": {},
   "source": [
    "## Train/Test split"
   ]
  },
  {
   "cell_type": "code",
   "execution_count": 45,
   "metadata": {},
   "outputs": [],
   "source": [
    "drop_cols = ['rating']\n",
    "\n",
    "X = data.drop(drop_cols, axis=1)"
   ]
  },
  {
   "cell_type": "code",
   "execution_count": 41,
   "metadata": {},
   "outputs": [],
   "source": [
    "y = data['rating']"
   ]
  },
  {
   "cell_type": "code",
   "execution_count": 43,
   "metadata": {},
   "outputs": [],
   "source": [
    "X_train, X_test, y_train, y_test = train_test_split(X, y, test_size=0.33, random_state=42)"
   ]
  }
 ],
 "metadata": {
  "kernelspec": {
   "display_name": ".venv",
   "language": "python",
   "name": ".venv"
  },
  "language_info": {
   "codemirror_mode": {
    "name": "ipython",
    "version": 3
   },
   "file_extension": ".py",
   "mimetype": "text/x-python",
   "name": "python",
   "nbconvert_exporter": "python",
   "pygments_lexer": "ipython3",
   "version": "3.7.5"
  }
 },
 "nbformat": 4,
 "nbformat_minor": 4
}
