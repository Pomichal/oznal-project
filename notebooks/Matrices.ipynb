{
 "cells": [
  {
   "cell_type": "markdown",
   "metadata": {},
   "source": [
    "TODO:\n",
    "- select only english books\n",
    "\n",
    "- train -> extract authors average rating\n",
    "- train -> create book/book matrice (review_count, rating_count, authors_avg_rating) + shelves (sum od shelves?)\n",
    "\n",
    "- add avg_rating of similar books (max X distance)\n",
    "\n",
    "rating | book_data, similar_books (avg rating, ..), reviews(most frequent sentiment, top words, ...)"
   ]
  },
  {
   "cell_type": "code",
   "execution_count": 168,
   "metadata": {},
   "outputs": [
    {
     "name": "stdout",
     "output_type": "stream",
     "text": [
      "The autoreload extension is already loaded. To reload it, use:\n",
      "  %reload_ext autoreload\n"
     ]
    }
   ],
   "source": [
    "# Enable module reloading\n",
    "%load_ext autoreload\n",
    "%autoreload 2"
   ]
  },
  {
   "cell_type": "code",
   "execution_count": 32,
   "metadata": {},
   "outputs": [],
   "source": [
    "import pandas as pd\n",
    "import matplotlib.pyplot as plt\n",
    "import seaborn as sns\n",
    "import numpy as np\n",
    "from IPython.display import display\n",
    "from sklearn.pipeline import Pipeline\n",
    "import category_encoders as ce\n",
    "from sklearn.base import TransformerMixin\n",
    "import json\n",
    "from sklearn.model_selection import train_test_split\n",
    "from sklearn.preprocessing import MinMaxScaler\n",
    "\n",
    "import sys\n",
    "sys.path.insert(1, '../')\n",
    "\n",
    "from src import preprocessing as pp\n",
    "from src import analysis\n",
    "\n",
    "pd.set_option('display.max_columns', None)\n",
    "\n",
    "plt.rcParams['figure.figsize'] = (10, 6)\n",
    "%config InlineBackend.figure_format='retina'\n",
    "plt.rcParams.update({'font.size': 15})"
   ]
  },
  {
   "cell_type": "markdown",
   "metadata": {},
   "source": [
    "# Load data"
   ]
  },
  {
   "cell_type": "code",
   "execution_count": 3,
   "metadata": {},
   "outputs": [],
   "source": [
    "books = pd.read_csv('../data/books.csv')\n",
    "reviews = pd.read_csv('../data/reviews.csv')\n",
    "authors = pd.read_csv('../data/authors.csv')"
   ]
  },
  {
   "cell_type": "code",
   "execution_count": 4,
   "metadata": {},
   "outputs": [],
   "source": [
    "intr = pd.read_csv('../data/interactions.csv', nrows=100)"
   ]
  },
  {
   "cell_type": "markdown",
   "metadata": {},
   "source": [
    "# Create subset of data\n",
    "\n",
    "We will work only with books with most reviews and with users, who wrote the most reviews"
   ]
  },
  {
   "cell_type": "code",
   "execution_count": 5,
   "metadata": {},
   "outputs": [],
   "source": [
    "top_n = 1000\n",
    "min_review_count = 10"
   ]
  },
  {
   "cell_type": "code",
   "execution_count": 6,
   "metadata": {},
   "outputs": [],
   "source": [
    "top_books = reviews.loc[:,'book_id'].value_counts().sort_values(ascending=False).index[:top_n]"
   ]
  },
  {
   "cell_type": "code",
   "execution_count": 7,
   "metadata": {},
   "outputs": [],
   "source": [
    "top_book_reviews = reviews[reviews.book_id.isin(top_books)]"
   ]
  },
  {
   "cell_type": "code",
   "execution_count": 8,
   "metadata": {},
   "outputs": [],
   "source": [
    "users = top_book_reviews.loc[:,'user_id'].value_counts().sort_values(ascending=False)\n",
    "\n",
    "top_users = users[users >= min_review_count].index"
   ]
  },
  {
   "cell_type": "code",
   "execution_count": 9,
   "metadata": {},
   "outputs": [
    {
     "data": {
      "text/plain": [
       "30365"
      ]
     },
     "execution_count": 9,
     "metadata": {},
     "output_type": "execute_result"
    }
   ],
   "source": [
    "len(top_users)"
   ]
  },
  {
   "cell_type": "code",
   "execution_count": 10,
   "metadata": {},
   "outputs": [],
   "source": [
    "top_reviews = reviews[reviews.user_id.isin(top_users) & reviews.book_id.isin(top_books)]"
   ]
  },
  {
   "cell_type": "markdown",
   "metadata": {},
   "source": [
    "## Train, validation, test split\n",
    "\n",
    "random split - maybe we will need to change this and use more precise split to prevent the cold start problem"
   ]
  },
  {
   "cell_type": "code",
   "execution_count": 11,
   "metadata": {},
   "outputs": [],
   "source": [
    "data = top_reviews"
   ]
  },
  {
   "cell_type": "code",
   "execution_count": 12,
   "metadata": {},
   "outputs": [],
   "source": [
    "train, test = train_test_split(data, test_size=0.01, random_state=42)"
   ]
  },
  {
   "cell_type": "code",
   "execution_count": 13,
   "metadata": {},
   "outputs": [],
   "source": [
    "val, test = train_test_split(test, test_size=0.1, random_state=42)"
   ]
  },
  {
   "cell_type": "code",
   "execution_count": 14,
   "metadata": {
    "scrolled": false
   },
   "outputs": [
    {
     "data": {
      "text/plain": [
       "(843221, 7666, 852)"
      ]
     },
     "execution_count": 14,
     "metadata": {},
     "output_type": "execute_result"
    }
   ],
   "source": [
    "len(train), len(val), len(test)"
   ]
  },
  {
   "cell_type": "markdown",
   "metadata": {},
   "source": [
    "# Preprocessing pipeline"
   ]
  },
  {
   "cell_type": "code",
   "execution_count": 15,
   "metadata": {},
   "outputs": [
    {
     "data": {
      "text/html": [
       "<div>\n",
       "<style scoped>\n",
       "    .dataframe tbody tr th:only-of-type {\n",
       "        vertical-align: middle;\n",
       "    }\n",
       "\n",
       "    .dataframe tbody tr th {\n",
       "        vertical-align: top;\n",
       "    }\n",
       "\n",
       "    .dataframe thead th {\n",
       "        text-align: right;\n",
       "    }\n",
       "</style>\n",
       "<table border=\"1\" class=\"dataframe\">\n",
       "  <thead>\n",
       "    <tr style=\"text-align: right;\">\n",
       "      <th></th>\n",
       "      <th>user_id</th>\n",
       "      <th>book_id</th>\n",
       "      <th>review_id</th>\n",
       "      <th>rating</th>\n",
       "      <th>review_text</th>\n",
       "      <th>date_added</th>\n",
       "      <th>date_updated</th>\n",
       "      <th>read_at</th>\n",
       "      <th>started_at</th>\n",
       "      <th>n_votes</th>\n",
       "      <th>n_comments</th>\n",
       "    </tr>\n",
       "  </thead>\n",
       "  <tbody>\n",
       "    <tr>\n",
       "      <th>2224648</th>\n",
       "      <td>64aba3e21f822eaeafaef5887c955c50</td>\n",
       "      <td>7747064</td>\n",
       "      <td>dc993309713c5b04fa93af6e3236c82b</td>\n",
       "      <td>4</td>\n",
       "      <td>4.0 Sterne \\n Hat mir etwas besser gefallen al...</td>\n",
       "      <td>Tue Nov 06 06:21:31 -0800 2012</td>\n",
       "      <td>Mon Nov 19 04:31:49 -0800 2012</td>\n",
       "      <td>Sat Nov 17 00:00:00 -0800 2012</td>\n",
       "      <td>Mon Nov 12 00:00:00 -0800 2012</td>\n",
       "      <td>0</td>\n",
       "      <td>0</td>\n",
       "    </tr>\n",
       "    <tr>\n",
       "      <th>1574935</th>\n",
       "      <td>3a50d6c6c3c0be86ae166eaa5b4b2b82</td>\n",
       "      <td>23203106</td>\n",
       "      <td>873ff598584c871b21d40ed8f9db8c7e</td>\n",
       "      <td>0</td>\n",
       "      <td>Hello, beautiful cover.</td>\n",
       "      <td>Thu Aug 20 00:16:06 -0700 2015</td>\n",
       "      <td>Thu Aug 20 00:21:18 -0700 2015</td>\n",
       "      <td>NaN</td>\n",
       "      <td>NaN</td>\n",
       "      <td>10</td>\n",
       "      <td>2</td>\n",
       "    </tr>\n",
       "    <tr>\n",
       "      <th>1449120</th>\n",
       "      <td>8a1929c26541a4ea997d7bf17e5c2c67</td>\n",
       "      <td>12425532</td>\n",
       "      <td>62ac2827c8944d53bfc373f79b728783</td>\n",
       "      <td>3</td>\n",
       "      <td>Interesting concept and I found some the secon...</td>\n",
       "      <td>Thu Apr 05 23:42:27 -0700 2012</td>\n",
       "      <td>Tue Jun 21 17:01:19 -0700 2016</td>\n",
       "      <td>Thu Sep 20 00:00:00 -0700 2012</td>\n",
       "      <td>Thu Sep 20 00:00:00 -0700 2012</td>\n",
       "      <td>0</td>\n",
       "      <td>0</td>\n",
       "    </tr>\n",
       "  </tbody>\n",
       "</table>\n",
       "</div>"
      ],
      "text/plain": [
       "                                  user_id   book_id  \\\n",
       "2224648  64aba3e21f822eaeafaef5887c955c50   7747064   \n",
       "1574935  3a50d6c6c3c0be86ae166eaa5b4b2b82  23203106   \n",
       "1449120  8a1929c26541a4ea997d7bf17e5c2c67  12425532   \n",
       "\n",
       "                                review_id  rating  \\\n",
       "2224648  dc993309713c5b04fa93af6e3236c82b       4   \n",
       "1574935  873ff598584c871b21d40ed8f9db8c7e       0   \n",
       "1449120  62ac2827c8944d53bfc373f79b728783       3   \n",
       "\n",
       "                                               review_text  \\\n",
       "2224648  4.0 Sterne \\n Hat mir etwas besser gefallen al...   \n",
       "1574935                            Hello, beautiful cover.   \n",
       "1449120  Interesting concept and I found some the secon...   \n",
       "\n",
       "                             date_added                    date_updated  \\\n",
       "2224648  Tue Nov 06 06:21:31 -0800 2012  Mon Nov 19 04:31:49 -0800 2012   \n",
       "1574935  Thu Aug 20 00:16:06 -0700 2015  Thu Aug 20 00:21:18 -0700 2015   \n",
       "1449120  Thu Apr 05 23:42:27 -0700 2012  Tue Jun 21 17:01:19 -0700 2016   \n",
       "\n",
       "                                read_at                      started_at  \\\n",
       "2224648  Sat Nov 17 00:00:00 -0800 2012  Mon Nov 12 00:00:00 -0800 2012   \n",
       "1574935                             NaN                             NaN   \n",
       "1449120  Thu Sep 20 00:00:00 -0700 2012  Thu Sep 20 00:00:00 -0700 2012   \n",
       "\n",
       "         n_votes  n_comments  \n",
       "2224648        0           0  \n",
       "1574935       10           2  \n",
       "1449120        0           0  "
      ]
     },
     "execution_count": 15,
     "metadata": {},
     "output_type": "execute_result"
    }
   ],
   "source": [
    "train.head(3)"
   ]
  },
  {
   "cell_type": "code",
   "execution_count": 169,
   "metadata": {},
   "outputs": [
    {
     "name": "stdout",
     "output_type": "stream",
     "text": [
      "(fit) ExportBookData, mean_cols: ['rating'] book_id_col: book_id dist_func: <function euclidean_distances at 0x7efcec15e3b0> n_most_similar: 5 mode: all\n"
     ]
    }
   ],
   "source": [
    "mean_cols = ['rating']\n",
    "\n",
    "ppl = Pipeline([\n",
    "    (\"ExportBookData\", pp.ExportBookData(mean_cols, mode='all'))\n",
    "])\n",
    "\n",
    "model = ppl.fit(train)"
   ]
  },
  {
   "cell_type": "code",
   "execution_count": 170,
   "metadata": {
    "scrolled": true
   },
   "outputs": [
    {
     "name": "stdout",
     "output_type": "stream",
     "text": [
      "(transform) ExportBookData, mean_cols: ['rating'] book_id_col: book_id dist_func: <function euclidean_distances at 0x7efcec15e3b0> n_most_similar: 5 mode: all\n"
     ]
    }
   ],
   "source": [
    "x = ppl.transform(train[:10])"
   ]
  },
  {
   "cell_type": "code",
   "execution_count": 171,
   "metadata": {},
   "outputs": [
    {
     "data": {
      "text/html": [
       "<div>\n",
       "<style scoped>\n",
       "    .dataframe tbody tr th:only-of-type {\n",
       "        vertical-align: middle;\n",
       "    }\n",
       "\n",
       "    .dataframe tbody tr th {\n",
       "        vertical-align: top;\n",
       "    }\n",
       "\n",
       "    .dataframe thead th {\n",
       "        text-align: right;\n",
       "    }\n",
       "</style>\n",
       "<table border=\"1\" class=\"dataframe\">\n",
       "  <thead>\n",
       "    <tr style=\"text-align: right;\">\n",
       "      <th></th>\n",
       "      <th>user_id</th>\n",
       "      <th>book_id</th>\n",
       "      <th>review_id</th>\n",
       "      <th>rating</th>\n",
       "      <th>review_text</th>\n",
       "      <th>date_added</th>\n",
       "      <th>date_updated</th>\n",
       "      <th>read_at</th>\n",
       "      <th>started_at</th>\n",
       "      <th>n_votes</th>\n",
       "      <th>n_comments</th>\n",
       "      <th>row_count</th>\n",
       "      <th>rating_book_avg</th>\n",
       "      <th>sim_0_row_count</th>\n",
       "      <th>sim_0_rating</th>\n",
       "      <th>sim_1_row_count</th>\n",
       "      <th>sim_1_rating</th>\n",
       "      <th>sim_2_row_count</th>\n",
       "      <th>sim_2_rating</th>\n",
       "      <th>sim_3_row_count</th>\n",
       "      <th>sim_3_rating</th>\n",
       "      <th>sim_4_row_count</th>\n",
       "      <th>sim_4_rating</th>\n",
       "    </tr>\n",
       "  </thead>\n",
       "  <tbody>\n",
       "    <tr>\n",
       "      <th>2224648</th>\n",
       "      <td>64aba3e21f822eaeafaef5887c955c50</td>\n",
       "      <td>7747064</td>\n",
       "      <td>dc993309713c5b04fa93af6e3236c82b</td>\n",
       "      <td>4</td>\n",
       "      <td>4.0 Sterne \\n Hat mir etwas besser gefallen al...</td>\n",
       "      <td>Tue Nov 06 06:21:31 -0800 2012</td>\n",
       "      <td>Mon Nov 19 04:31:49 -0800 2012</td>\n",
       "      <td>Sat Nov 17 00:00:00 -0800 2012</td>\n",
       "      <td>Mon Nov 12 00:00:00 -0800 2012</td>\n",
       "      <td>0</td>\n",
       "      <td>0</td>\n",
       "      <td>1158.0</td>\n",
       "      <td>4.022453</td>\n",
       "      <td>1122.0</td>\n",
       "      <td>4.037433</td>\n",
       "      <td>1182.0</td>\n",
       "      <td>4.000846</td>\n",
       "      <td>1063.0</td>\n",
       "      <td>4.027281</td>\n",
       "      <td>1054.0</td>\n",
       "      <td>4.039848</td>\n",
       "      <td>1177.0</td>\n",
       "      <td>3.983008</td>\n",
       "    </tr>\n",
       "    <tr>\n",
       "      <th>1574935</th>\n",
       "      <td>3a50d6c6c3c0be86ae166eaa5b4b2b82</td>\n",
       "      <td>23203106</td>\n",
       "      <td>873ff598584c871b21d40ed8f9db8c7e</td>\n",
       "      <td>0</td>\n",
       "      <td>Hello, beautiful cover.</td>\n",
       "      <td>Thu Aug 20 00:16:06 -0700 2015</td>\n",
       "      <td>Thu Aug 20 00:21:18 -0700 2015</td>\n",
       "      <td>NaN</td>\n",
       "      <td>NaN</td>\n",
       "      <td>10</td>\n",
       "      <td>2</td>\n",
       "      <td>609.0</td>\n",
       "      <td>2.981938</td>\n",
       "      <td>603.0</td>\n",
       "      <td>3.008292</td>\n",
       "      <td>595.0</td>\n",
       "      <td>3.013445</td>\n",
       "      <td>713.0</td>\n",
       "      <td>2.969144</td>\n",
       "      <td>717.0</td>\n",
       "      <td>2.970711</td>\n",
       "      <td>643.0</td>\n",
       "      <td>3.031104</td>\n",
       "    </tr>\n",
       "    <tr>\n",
       "      <th>1449120</th>\n",
       "      <td>8a1929c26541a4ea997d7bf17e5c2c67</td>\n",
       "      <td>12425532</td>\n",
       "      <td>62ac2827c8944d53bfc373f79b728783</td>\n",
       "      <td>3</td>\n",
       "      <td>Interesting concept and I found some the secon...</td>\n",
       "      <td>Thu Apr 05 23:42:27 -0700 2012</td>\n",
       "      <td>Tue Jun 21 17:01:19 -0700 2016</td>\n",
       "      <td>Thu Sep 20 00:00:00 -0700 2012</td>\n",
       "      <td>Thu Sep 20 00:00:00 -0700 2012</td>\n",
       "      <td>0</td>\n",
       "      <td>0</td>\n",
       "      <td>915.0</td>\n",
       "      <td>3.657923</td>\n",
       "      <td>886.0</td>\n",
       "      <td>3.673815</td>\n",
       "      <td>833.0</td>\n",
       "      <td>3.639856</td>\n",
       "      <td>915.0</td>\n",
       "      <td>3.692896</td>\n",
       "      <td>795.0</td>\n",
       "      <td>3.661635</td>\n",
       "      <td>996.0</td>\n",
       "      <td>3.627510</td>\n",
       "    </tr>\n",
       "  </tbody>\n",
       "</table>\n",
       "</div>"
      ],
      "text/plain": [
       "                                  user_id   book_id  \\\n",
       "2224648  64aba3e21f822eaeafaef5887c955c50   7747064   \n",
       "1574935  3a50d6c6c3c0be86ae166eaa5b4b2b82  23203106   \n",
       "1449120  8a1929c26541a4ea997d7bf17e5c2c67  12425532   \n",
       "\n",
       "                                review_id  rating  \\\n",
       "2224648  dc993309713c5b04fa93af6e3236c82b       4   \n",
       "1574935  873ff598584c871b21d40ed8f9db8c7e       0   \n",
       "1449120  62ac2827c8944d53bfc373f79b728783       3   \n",
       "\n",
       "                                               review_text  \\\n",
       "2224648  4.0 Sterne \\n Hat mir etwas besser gefallen al...   \n",
       "1574935                            Hello, beautiful cover.   \n",
       "1449120  Interesting concept and I found some the secon...   \n",
       "\n",
       "                             date_added                    date_updated  \\\n",
       "2224648  Tue Nov 06 06:21:31 -0800 2012  Mon Nov 19 04:31:49 -0800 2012   \n",
       "1574935  Thu Aug 20 00:16:06 -0700 2015  Thu Aug 20 00:21:18 -0700 2015   \n",
       "1449120  Thu Apr 05 23:42:27 -0700 2012  Tue Jun 21 17:01:19 -0700 2016   \n",
       "\n",
       "                                read_at                      started_at  \\\n",
       "2224648  Sat Nov 17 00:00:00 -0800 2012  Mon Nov 12 00:00:00 -0800 2012   \n",
       "1574935                             NaN                             NaN   \n",
       "1449120  Thu Sep 20 00:00:00 -0700 2012  Thu Sep 20 00:00:00 -0700 2012   \n",
       "\n",
       "         n_votes  n_comments  row_count  rating_book_avg  sim_0_row_count  \\\n",
       "2224648        0           0     1158.0         4.022453           1122.0   \n",
       "1574935       10           2      609.0         2.981938            603.0   \n",
       "1449120        0           0      915.0         3.657923            886.0   \n",
       "\n",
       "         sim_0_rating  sim_1_row_count  sim_1_rating  sim_2_row_count  \\\n",
       "2224648      4.037433           1182.0      4.000846           1063.0   \n",
       "1574935      3.008292            595.0      3.013445            713.0   \n",
       "1449120      3.673815            833.0      3.639856            915.0   \n",
       "\n",
       "         sim_2_rating  sim_3_row_count  sim_3_rating  sim_4_row_count  \\\n",
       "2224648      4.027281           1054.0      4.039848           1177.0   \n",
       "1574935      2.969144            717.0      2.970711            643.0   \n",
       "1449120      3.692896            795.0      3.661635            996.0   \n",
       "\n",
       "         sim_4_rating  \n",
       "2224648      3.983008  \n",
       "1574935      3.031104  \n",
       "1449120      3.627510  "
      ]
     },
     "execution_count": 171,
     "metadata": {},
     "output_type": "execute_result"
    }
   ],
   "source": [
    "x.head(3)"
   ]
  }
 ],
 "metadata": {
  "kernelspec": {
   "display_name": ".venv",
   "language": "python",
   "name": ".venv"
  },
  "language_info": {
   "codemirror_mode": {
    "name": "ipython",
    "version": 3
   },
   "file_extension": ".py",
   "mimetype": "text/x-python",
   "name": "python",
   "nbconvert_exporter": "python",
   "pygments_lexer": "ipython3",
   "version": "3.7.5"
  }
 },
 "nbformat": 4,
 "nbformat_minor": 4
}
