{
 "cells": [
  {
   "cell_type": "code",
   "execution_count": 1,
   "metadata": {
    "scrolled": true
   },
   "outputs": [],
   "source": [
    "import pandas as pd\n",
    "import matplotlib.pyplot as plt\n",
    "import seaborn as sns\n",
    "from IPython.display import display"
   ]
  },
  {
   "cell_type": "code",
   "execution_count": 9,
   "metadata": {},
   "outputs": [
    {
     "name": "stdout",
     "output_type": "stream",
     "text": [
      "The autoreload extension is already loaded. To reload it, use:\n",
      "  %reload_ext autoreload\n"
     ]
    }
   ],
   "source": [
    "import sys\n",
    "sys.path.insert(1, '../')\n",
    "\n",
    "from src import analysis, preprocessing\n",
    "\n",
    "# Enable module reloading\n",
    "%load_ext autoreload\n",
    "%autoreload 2\n",
    "\n",
    "pd.set_option('display.max_columns', None)"
   ]
  },
  {
   "cell_type": "code",
   "execution_count": 10,
   "metadata": {},
   "outputs": [],
   "source": [
    "single_col = analysis.SingleColAnalyser()\n",
    "col_trans = preprocessing.ColumnTransformer()"
   ]
  },
  {
   "cell_type": "markdown",
   "metadata": {},
   "source": [
    "# Books"
   ]
  },
  {
   "cell_type": "code",
   "execution_count": 11,
   "metadata": {},
   "outputs": [],
   "source": [
    "books = pd.read_csv('../data/books.csv')"
   ]
  },
  {
   "cell_type": "code",
   "execution_count": 5,
   "metadata": {},
   "outputs": [
    {
     "data": {
      "text/html": [
       "<div>\n",
       "<style scoped>\n",
       "    .dataframe tbody tr th:only-of-type {\n",
       "        vertical-align: middle;\n",
       "    }\n",
       "\n",
       "    .dataframe tbody tr th {\n",
       "        vertical-align: top;\n",
       "    }\n",
       "\n",
       "    .dataframe thead th {\n",
       "        text-align: right;\n",
       "    }\n",
       "</style>\n",
       "<table border=\"1\" class=\"dataframe\">\n",
       "  <thead>\n",
       "    <tr style=\"text-align: right;\">\n",
       "      <th></th>\n",
       "      <th>isbn</th>\n",
       "      <th>text_reviews_count</th>\n",
       "      <th>series</th>\n",
       "      <th>country_code</th>\n",
       "      <th>language_code</th>\n",
       "      <th>popular_shelves</th>\n",
       "      <th>asin</th>\n",
       "      <th>is_ebook</th>\n",
       "      <th>average_rating</th>\n",
       "      <th>kindle_asin</th>\n",
       "      <th>similar_books</th>\n",
       "      <th>description</th>\n",
       "      <th>format</th>\n",
       "      <th>link</th>\n",
       "      <th>authors</th>\n",
       "      <th>publisher</th>\n",
       "      <th>num_pages</th>\n",
       "      <th>publication_day</th>\n",
       "      <th>isbn13</th>\n",
       "      <th>publication_month</th>\n",
       "      <th>edition_information</th>\n",
       "      <th>publication_year</th>\n",
       "      <th>url</th>\n",
       "      <th>image_url</th>\n",
       "      <th>book_id</th>\n",
       "      <th>ratings_count</th>\n",
       "      <th>work_id</th>\n",
       "      <th>title</th>\n",
       "      <th>title_without_series</th>\n",
       "    </tr>\n",
       "  </thead>\n",
       "  <tbody>\n",
       "    <tr>\n",
       "      <th>0</th>\n",
       "      <td>NaN</td>\n",
       "      <td>1</td>\n",
       "      <td>['147734']</td>\n",
       "      <td>US</td>\n",
       "      <td>NaN</td>\n",
       "      <td>[{'count': '1057', 'name': 'to-read'}, {'count...</td>\n",
       "      <td>B0056A00P4</td>\n",
       "      <td>True</td>\n",
       "      <td>4.04</td>\n",
       "      <td>B0056A00P4</td>\n",
       "      <td>['519546', '1295074', '21407416']</td>\n",
       "      <td>This is the final tale in the bestselling auth...</td>\n",
       "      <td>NaN</td>\n",
       "      <td>https://www.goodreads.com/book/show/12182387-t...</td>\n",
       "      <td>[{'author_id': '50873', 'role': ''}, {'author_...</td>\n",
       "      <td>NaN</td>\n",
       "      <td>NaN</td>\n",
       "      <td>NaN</td>\n",
       "      <td>NaN</td>\n",
       "      <td>NaN</td>\n",
       "      <td>NaN</td>\n",
       "      <td>NaN</td>\n",
       "      <td>https://www.goodreads.com/book/show/12182387-t...</td>\n",
       "      <td>https://s.gr-assets.com/assets/nophoto/book/11...</td>\n",
       "      <td>12182387</td>\n",
       "      <td>4</td>\n",
       "      <td>285263</td>\n",
       "      <td>The Passion (Dark Visions, #3)</td>\n",
       "      <td>The Passion (Dark Visions, #3)</td>\n",
       "    </tr>\n",
       "    <tr>\n",
       "      <th>1</th>\n",
       "      <td>NaN</td>\n",
       "      <td>2</td>\n",
       "      <td>['425995']</td>\n",
       "      <td>US</td>\n",
       "      <td>NaN</td>\n",
       "      <td>[{'count': '1010', 'name': 'to-read'}, {'count...</td>\n",
       "      <td>B006KLYIAG</td>\n",
       "      <td>True</td>\n",
       "      <td>3.80</td>\n",
       "      <td>B006KLYIAG</td>\n",
       "      <td>['13400912', '13327517', '18107102', '15797097...</td>\n",
       "      <td>Life should be simple for Cassie.\\nFor the sma...</td>\n",
       "      <td>NaN</td>\n",
       "      <td>https://www.goodreads.com/book/show/20135365-h...</td>\n",
       "      <td>[{'author_id': '5395324', 'role': ''}]</td>\n",
       "      <td>NaN</td>\n",
       "      <td>NaN</td>\n",
       "      <td>NaN</td>\n",
       "      <td>NaN</td>\n",
       "      <td>NaN</td>\n",
       "      <td>NaN</td>\n",
       "      <td>NaN</td>\n",
       "      <td>https://www.goodreads.com/book/show/20135365-h...</td>\n",
       "      <td>https://s.gr-assets.com/assets/nophoto/book/11...</td>\n",
       "      <td>20135365</td>\n",
       "      <td>5</td>\n",
       "      <td>18450480</td>\n",
       "      <td>Hope's Daughter</td>\n",
       "      <td>Hope's Daughter</td>\n",
       "    </tr>\n",
       "    <tr>\n",
       "      <th>2</th>\n",
       "      <td>0698143760</td>\n",
       "      <td>17</td>\n",
       "      <td>['493993']</td>\n",
       "      <td>US</td>\n",
       "      <td>NaN</td>\n",
       "      <td>[{'count': '1799', 'name': 'fantasy'}, {'count...</td>\n",
       "      <td>NaN</td>\n",
       "      <td>True</td>\n",
       "      <td>3.80</td>\n",
       "      <td>NaN</td>\n",
       "      <td>['15728807', '17182499', '15673520', '16081758...</td>\n",
       "      <td>Wanted by no one.\\nHunted by everyone.\\nSixtee...</td>\n",
       "      <td>ebook</td>\n",
       "      <td>https://www.goodreads.com/book/show/21401181-h...</td>\n",
       "      <td>[{'author_id': '7314532', 'role': ''}]</td>\n",
       "      <td>Viking Children's</td>\n",
       "      <td>416.0</td>\n",
       "      <td>4.0</td>\n",
       "      <td>9780698143760</td>\n",
       "      <td>3.0</td>\n",
       "      <td>NaN</td>\n",
       "      <td>2014.0</td>\n",
       "      <td>https://www.goodreads.com/book/show/21401181-h...</td>\n",
       "      <td>https://images.gr-assets.com/books/1394747643m...</td>\n",
       "      <td>21401181</td>\n",
       "      <td>33</td>\n",
       "      <td>24802827</td>\n",
       "      <td>Half Bad (Half Life, #1)</td>\n",
       "      <td>Half Bad (Half Life, #1)</td>\n",
       "    </tr>\n",
       "  </tbody>\n",
       "</table>\n",
       "</div>"
      ],
      "text/plain": [
       "         isbn  text_reviews_count      series country_code language_code  \\\n",
       "0         NaN                   1  ['147734']           US           NaN   \n",
       "1         NaN                   2  ['425995']           US           NaN   \n",
       "2  0698143760                  17  ['493993']           US           NaN   \n",
       "\n",
       "                                     popular_shelves        asin  is_ebook  \\\n",
       "0  [{'count': '1057', 'name': 'to-read'}, {'count...  B0056A00P4      True   \n",
       "1  [{'count': '1010', 'name': 'to-read'}, {'count...  B006KLYIAG      True   \n",
       "2  [{'count': '1799', 'name': 'fantasy'}, {'count...         NaN      True   \n",
       "\n",
       "   average_rating kindle_asin  \\\n",
       "0            4.04  B0056A00P4   \n",
       "1            3.80  B006KLYIAG   \n",
       "2            3.80         NaN   \n",
       "\n",
       "                                       similar_books  \\\n",
       "0                  ['519546', '1295074', '21407416']   \n",
       "1  ['13400912', '13327517', '18107102', '15797097...   \n",
       "2  ['15728807', '17182499', '15673520', '16081758...   \n",
       "\n",
       "                                         description format  \\\n",
       "0  This is the final tale in the bestselling auth...    NaN   \n",
       "1  Life should be simple for Cassie.\\nFor the sma...    NaN   \n",
       "2  Wanted by no one.\\nHunted by everyone.\\nSixtee...  ebook   \n",
       "\n",
       "                                                link  \\\n",
       "0  https://www.goodreads.com/book/show/12182387-t...   \n",
       "1  https://www.goodreads.com/book/show/20135365-h...   \n",
       "2  https://www.goodreads.com/book/show/21401181-h...   \n",
       "\n",
       "                                             authors          publisher  \\\n",
       "0  [{'author_id': '50873', 'role': ''}, {'author_...                NaN   \n",
       "1             [{'author_id': '5395324', 'role': ''}]                NaN   \n",
       "2             [{'author_id': '7314532', 'role': ''}]  Viking Children's   \n",
       "\n",
       "   num_pages  publication_day         isbn13  publication_month  \\\n",
       "0        NaN              NaN            NaN                NaN   \n",
       "1        NaN              NaN            NaN                NaN   \n",
       "2      416.0              4.0  9780698143760                3.0   \n",
       "\n",
       "  edition_information  publication_year  \\\n",
       "0                 NaN               NaN   \n",
       "1                 NaN               NaN   \n",
       "2                 NaN            2014.0   \n",
       "\n",
       "                                                 url  \\\n",
       "0  https://www.goodreads.com/book/show/12182387-t...   \n",
       "1  https://www.goodreads.com/book/show/20135365-h...   \n",
       "2  https://www.goodreads.com/book/show/21401181-h...   \n",
       "\n",
       "                                           image_url   book_id  ratings_count  \\\n",
       "0  https://s.gr-assets.com/assets/nophoto/book/11...  12182387              4   \n",
       "1  https://s.gr-assets.com/assets/nophoto/book/11...  20135365              5   \n",
       "2  https://images.gr-assets.com/books/1394747643m...  21401181             33   \n",
       "\n",
       "    work_id                           title            title_without_series  \n",
       "0    285263  The Passion (Dark Visions, #3)  The Passion (Dark Visions, #3)  \n",
       "1  18450480                 Hope's Daughter                 Hope's Daughter  \n",
       "2  24802827        Half Bad (Half Life, #1)        Half Bad (Half Life, #1)  "
      ]
     },
     "execution_count": 5,
     "metadata": {},
     "output_type": "execute_result"
    }
   ],
   "source": [
    "books.head(3)"
   ]
  },
  {
   "cell_type": "code",
   "execution_count": 6,
   "metadata": {},
   "outputs": [
    {
     "data": {
      "text/html": [
       "<div>\n",
       "<style scoped>\n",
       "    .dataframe tbody tr th:only-of-type {\n",
       "        vertical-align: middle;\n",
       "    }\n",
       "\n",
       "    .dataframe tbody tr th {\n",
       "        vertical-align: top;\n",
       "    }\n",
       "\n",
       "    .dataframe thead th {\n",
       "        text-align: right;\n",
       "    }\n",
       "</style>\n",
       "<table border=\"1\" class=\"dataframe\">\n",
       "  <thead>\n",
       "    <tr style=\"text-align: right;\">\n",
       "      <th></th>\n",
       "      <th>isbn</th>\n",
       "      <th>text_reviews_count</th>\n",
       "      <th>series</th>\n",
       "      <th>country_code</th>\n",
       "      <th>language_code</th>\n",
       "      <th>popular_shelves</th>\n",
       "      <th>asin</th>\n",
       "      <th>is_ebook</th>\n",
       "      <th>average_rating</th>\n",
       "      <th>kindle_asin</th>\n",
       "      <th>similar_books</th>\n",
       "      <th>description</th>\n",
       "      <th>format</th>\n",
       "      <th>link</th>\n",
       "      <th>authors</th>\n",
       "      <th>publisher</th>\n",
       "      <th>num_pages</th>\n",
       "      <th>publication_day</th>\n",
       "      <th>isbn13</th>\n",
       "      <th>publication_month</th>\n",
       "      <th>edition_information</th>\n",
       "      <th>publication_year</th>\n",
       "      <th>url</th>\n",
       "      <th>image_url</th>\n",
       "      <th>book_id</th>\n",
       "      <th>ratings_count</th>\n",
       "      <th>work_id</th>\n",
       "      <th>title</th>\n",
       "      <th>title_without_series</th>\n",
       "    </tr>\n",
       "  </thead>\n",
       "  <tbody>\n",
       "    <tr>\n",
       "      <th>count</th>\n",
       "      <td>55555</td>\n",
       "      <td>93398.000000</td>\n",
       "      <td>93398</td>\n",
       "      <td>93398</td>\n",
       "      <td>63766</td>\n",
       "      <td>93398</td>\n",
       "      <td>17332</td>\n",
       "      <td>93398</td>\n",
       "      <td>93398.000000</td>\n",
       "      <td>45247</td>\n",
       "      <td>93398</td>\n",
       "      <td>89108</td>\n",
       "      <td>75389</td>\n",
       "      <td>93398</td>\n",
       "      <td>93398</td>\n",
       "      <td>74798</td>\n",
       "      <td>71695.000000</td>\n",
       "      <td>64937.000000</td>\n",
       "      <td>66580</td>\n",
       "      <td>71315.000000</td>\n",
       "      <td>7390</td>\n",
       "      <td>77895.000000</td>\n",
       "      <td>93398</td>\n",
       "      <td>93398</td>\n",
       "      <td>9.339800e+04</td>\n",
       "      <td>9.339800e+04</td>\n",
       "      <td>9.339800e+04</td>\n",
       "      <td>93398</td>\n",
       "      <td>93398</td>\n",
       "    </tr>\n",
       "    <tr>\n",
       "      <th>unique</th>\n",
       "      <td>55555</td>\n",
       "      <td>NaN</td>\n",
       "      <td>16885</td>\n",
       "      <td>1</td>\n",
       "      <td>73</td>\n",
       "      <td>44704</td>\n",
       "      <td>17332</td>\n",
       "      <td>2</td>\n",
       "      <td>NaN</td>\n",
       "      <td>23383</td>\n",
       "      <td>22069</td>\n",
       "      <td>70278</td>\n",
       "      <td>159</td>\n",
       "      <td>93398</td>\n",
       "      <td>25259</td>\n",
       "      <td>10257</td>\n",
       "      <td>NaN</td>\n",
       "      <td>NaN</td>\n",
       "      <td>66580</td>\n",
       "      <td>NaN</td>\n",
       "      <td>1905</td>\n",
       "      <td>NaN</td>\n",
       "      <td>93398</td>\n",
       "      <td>68495</td>\n",
       "      <td>NaN</td>\n",
       "      <td>NaN</td>\n",
       "      <td>NaN</td>\n",
       "      <td>55848</td>\n",
       "      <td>55848</td>\n",
       "    </tr>\n",
       "    <tr>\n",
       "      <th>top</th>\n",
       "      <td>0312282540</td>\n",
       "      <td>NaN</td>\n",
       "      <td>[]</td>\n",
       "      <td>US</td>\n",
       "      <td>eng</td>\n",
       "      <td>[{'count': '51038', 'name': 'favorites'}, {'co...</td>\n",
       "      <td>B00DL1DOIK</td>\n",
       "      <td>False</td>\n",
       "      <td>NaN</td>\n",
       "      <td>B00AI5AQPQ</td>\n",
       "      <td>[]</td>\n",
       "      <td>&lt;&gt;</td>\n",
       "      <td>Paperback</td>\n",
       "      <td>https://www.goodreads.com/book/show/13456490-p...</td>\n",
       "      <td>[{'author_id': '15872', 'role': ''}]</td>\n",
       "      <td>Simon Pulse</td>\n",
       "      <td>NaN</td>\n",
       "      <td>NaN</td>\n",
       "      <td>9781471402968</td>\n",
       "      <td>NaN</td>\n",
       "      <td>Unabridged</td>\n",
       "      <td>NaN</td>\n",
       "      <td>https://www.goodreads.com/book/show/13456490-p...</td>\n",
       "      <td>https://s.gr-assets.com/assets/nophoto/book/11...</td>\n",
       "      <td>NaN</td>\n",
       "      <td>NaN</td>\n",
       "      <td>NaN</td>\n",
       "      <td>Matilda</td>\n",
       "      <td>Matilda</td>\n",
       "    </tr>\n",
       "    <tr>\n",
       "      <th>freq</th>\n",
       "      <td>1</td>\n",
       "      <td>NaN</td>\n",
       "      <td>38758</td>\n",
       "      <td>93398</td>\n",
       "      <td>35989</td>\n",
       "      <td>65</td>\n",
       "      <td>1</td>\n",
       "      <td>65575</td>\n",
       "      <td>NaN</td>\n",
       "      <td>35</td>\n",
       "      <td>16580</td>\n",
       "      <td>24</td>\n",
       "      <td>35946</td>\n",
       "      <td>1</td>\n",
       "      <td>415</td>\n",
       "      <td>1740</td>\n",
       "      <td>NaN</td>\n",
       "      <td>NaN</td>\n",
       "      <td>1</td>\n",
       "      <td>NaN</td>\n",
       "      <td>539</td>\n",
       "      <td>NaN</td>\n",
       "      <td>1</td>\n",
       "      <td>24904</td>\n",
       "      <td>NaN</td>\n",
       "      <td>NaN</td>\n",
       "      <td>NaN</td>\n",
       "      <td>73</td>\n",
       "      <td>73</td>\n",
       "    </tr>\n",
       "    <tr>\n",
       "      <th>mean</th>\n",
       "      <td>NaN</td>\n",
       "      <td>101.913189</td>\n",
       "      <td>NaN</td>\n",
       "      <td>NaN</td>\n",
       "      <td>NaN</td>\n",
       "      <td>NaN</td>\n",
       "      <td>NaN</td>\n",
       "      <td>NaN</td>\n",
       "      <td>3.860503</td>\n",
       "      <td>NaN</td>\n",
       "      <td>NaN</td>\n",
       "      <td>NaN</td>\n",
       "      <td>NaN</td>\n",
       "      <td>NaN</td>\n",
       "      <td>NaN</td>\n",
       "      <td>NaN</td>\n",
       "      <td>298.943539</td>\n",
       "      <td>12.538907</td>\n",
       "      <td>NaN</td>\n",
       "      <td>6.330323</td>\n",
       "      <td>NaN</td>\n",
       "      <td>2010.706104</td>\n",
       "      <td>NaN</td>\n",
       "      <td>NaN</td>\n",
       "      <td>1.682098e+07</td>\n",
       "      <td>1.351242e+03</td>\n",
       "      <td>2.023518e+07</td>\n",
       "      <td>NaN</td>\n",
       "      <td>NaN</td>\n",
       "    </tr>\n",
       "    <tr>\n",
       "      <th>std</th>\n",
       "      <td>NaN</td>\n",
       "      <td>1159.965407</td>\n",
       "      <td>NaN</td>\n",
       "      <td>NaN</td>\n",
       "      <td>NaN</td>\n",
       "      <td>NaN</td>\n",
       "      <td>NaN</td>\n",
       "      <td>NaN</td>\n",
       "      <td>0.345687</td>\n",
       "      <td>NaN</td>\n",
       "      <td>NaN</td>\n",
       "      <td>NaN</td>\n",
       "      <td>NaN</td>\n",
       "      <td>NaN</td>\n",
       "      <td>NaN</td>\n",
       "      <td>NaN</td>\n",
       "      <td>240.386195</td>\n",
       "      <td>9.648199</td>\n",
       "      <td>NaN</td>\n",
       "      <td>3.310877</td>\n",
       "      <td>NaN</td>\n",
       "      <td>96.504383</td>\n",
       "      <td>NaN</td>\n",
       "      <td>NaN</td>\n",
       "      <td>9.993895e+06</td>\n",
       "      <td>2.885759e+04</td>\n",
       "      <td>1.688406e+07</td>\n",
       "      <td>NaN</td>\n",
       "      <td>NaN</td>\n",
       "    </tr>\n",
       "    <tr>\n",
       "      <th>min</th>\n",
       "      <td>NaN</td>\n",
       "      <td>0.000000</td>\n",
       "      <td>NaN</td>\n",
       "      <td>NaN</td>\n",
       "      <td>NaN</td>\n",
       "      <td>NaN</td>\n",
       "      <td>NaN</td>\n",
       "      <td>NaN</td>\n",
       "      <td>0.000000</td>\n",
       "      <td>NaN</td>\n",
       "      <td>NaN</td>\n",
       "      <td>NaN</td>\n",
       "      <td>NaN</td>\n",
       "      <td>NaN</td>\n",
       "      <td>NaN</td>\n",
       "      <td>NaN</td>\n",
       "      <td>0.000000</td>\n",
       "      <td>1.000000</td>\n",
       "      <td>NaN</td>\n",
       "      <td>1.000000</td>\n",
       "      <td>NaN</td>\n",
       "      <td>2.000000</td>\n",
       "      <td>NaN</td>\n",
       "      <td>NaN</td>\n",
       "      <td>5.000000e+01</td>\n",
       "      <td>0.000000e+00</td>\n",
       "      <td>6.200000e+01</td>\n",
       "      <td>NaN</td>\n",
       "      <td>NaN</td>\n",
       "    </tr>\n",
       "    <tr>\n",
       "      <th>25%</th>\n",
       "      <td>NaN</td>\n",
       "      <td>3.000000</td>\n",
       "      <td>NaN</td>\n",
       "      <td>NaN</td>\n",
       "      <td>NaN</td>\n",
       "      <td>NaN</td>\n",
       "      <td>NaN</td>\n",
       "      <td>NaN</td>\n",
       "      <td>3.660000</td>\n",
       "      <td>NaN</td>\n",
       "      <td>NaN</td>\n",
       "      <td>NaN</td>\n",
       "      <td>NaN</td>\n",
       "      <td>NaN</td>\n",
       "      <td>NaN</td>\n",
       "      <td>NaN</td>\n",
       "      <td>224.000000</td>\n",
       "      <td>3.000000</td>\n",
       "      <td>NaN</td>\n",
       "      <td>4.000000</td>\n",
       "      <td>NaN</td>\n",
       "      <td>2010.000000</td>\n",
       "      <td>NaN</td>\n",
       "      <td>NaN</td>\n",
       "      <td>8.887362e+06</td>\n",
       "      <td>1.500000e+01</td>\n",
       "      <td>3.600396e+06</td>\n",
       "      <td>NaN</td>\n",
       "      <td>NaN</td>\n",
       "    </tr>\n",
       "    <tr>\n",
       "      <th>50%</th>\n",
       "      <td>NaN</td>\n",
       "      <td>9.000000</td>\n",
       "      <td>NaN</td>\n",
       "      <td>NaN</td>\n",
       "      <td>NaN</td>\n",
       "      <td>NaN</td>\n",
       "      <td>NaN</td>\n",
       "      <td>NaN</td>\n",
       "      <td>3.870000</td>\n",
       "      <td>NaN</td>\n",
       "      <td>NaN</td>\n",
       "      <td>NaN</td>\n",
       "      <td>NaN</td>\n",
       "      <td>NaN</td>\n",
       "      <td>NaN</td>\n",
       "      <td>NaN</td>\n",
       "      <td>296.000000</td>\n",
       "      <td>11.000000</td>\n",
       "      <td>NaN</td>\n",
       "      <td>6.000000</td>\n",
       "      <td>NaN</td>\n",
       "      <td>2012.000000</td>\n",
       "      <td>NaN</td>\n",
       "      <td>NaN</td>\n",
       "      <td>1.733140e+07</td>\n",
       "      <td>4.800000e+01</td>\n",
       "      <td>1.750882e+07</td>\n",
       "      <td>NaN</td>\n",
       "      <td>NaN</td>\n",
       "    </tr>\n",
       "    <tr>\n",
       "      <th>75%</th>\n",
       "      <td>NaN</td>\n",
       "      <td>29.000000</td>\n",
       "      <td>NaN</td>\n",
       "      <td>NaN</td>\n",
       "      <td>NaN</td>\n",
       "      <td>NaN</td>\n",
       "      <td>NaN</td>\n",
       "      <td>NaN</td>\n",
       "      <td>4.090000</td>\n",
       "      <td>NaN</td>\n",
       "      <td>NaN</td>\n",
       "      <td>NaN</td>\n",
       "      <td>NaN</td>\n",
       "      <td>NaN</td>\n",
       "      <td>NaN</td>\n",
       "      <td>NaN</td>\n",
       "      <td>368.000000</td>\n",
       "      <td>21.000000</td>\n",
       "      <td>NaN</td>\n",
       "      <td>9.000000</td>\n",
       "      <td>NaN</td>\n",
       "      <td>2015.000000</td>\n",
       "      <td>NaN</td>\n",
       "      <td>NaN</td>\n",
       "      <td>2.483025e+07</td>\n",
       "      <td>1.840000e+02</td>\n",
       "      <td>2.766992e+07</td>\n",
       "      <td>NaN</td>\n",
       "      <td>NaN</td>\n",
       "    </tr>\n",
       "    <tr>\n",
       "      <th>max</th>\n",
       "      <td>NaN</td>\n",
       "      <td>142645.000000</td>\n",
       "      <td>NaN</td>\n",
       "      <td>NaN</td>\n",
       "      <td>NaN</td>\n",
       "      <td>NaN</td>\n",
       "      <td>NaN</td>\n",
       "      <td>NaN</td>\n",
       "      <td>5.000000</td>\n",
       "      <td>NaN</td>\n",
       "      <td>NaN</td>\n",
       "      <td>NaN</td>\n",
       "      <td>NaN</td>\n",
       "      <td>NaN</td>\n",
       "      <td>NaN</td>\n",
       "      <td>NaN</td>\n",
       "      <td>52015.000000</td>\n",
       "      <td>31.000000</td>\n",
       "      <td>NaN</td>\n",
       "      <td>12.000000</td>\n",
       "      <td>NaN</td>\n",
       "      <td>20045.000000</td>\n",
       "      <td>NaN</td>\n",
       "      <td>NaN</td>\n",
       "      <td>3.652450e+07</td>\n",
       "      <td>4.899965e+06</td>\n",
       "      <td>5.837702e+07</td>\n",
       "      <td>NaN</td>\n",
       "      <td>NaN</td>\n",
       "    </tr>\n",
       "  </tbody>\n",
       "</table>\n",
       "</div>"
      ],
      "text/plain": [
       "              isbn  text_reviews_count series country_code language_code  \\\n",
       "count        55555        93398.000000  93398        93398         63766   \n",
       "unique       55555                 NaN  16885            1            73   \n",
       "top     0312282540                 NaN     []           US           eng   \n",
       "freq             1                 NaN  38758        93398         35989   \n",
       "mean           NaN          101.913189    NaN          NaN           NaN   \n",
       "std            NaN         1159.965407    NaN          NaN           NaN   \n",
       "min            NaN            0.000000    NaN          NaN           NaN   \n",
       "25%            NaN            3.000000    NaN          NaN           NaN   \n",
       "50%            NaN            9.000000    NaN          NaN           NaN   \n",
       "75%            NaN           29.000000    NaN          NaN           NaN   \n",
       "max            NaN       142645.000000    NaN          NaN           NaN   \n",
       "\n",
       "                                          popular_shelves        asin  \\\n",
       "count                                               93398       17332   \n",
       "unique                                              44704       17332   \n",
       "top     [{'count': '51038', 'name': 'favorites'}, {'co...  B00DL1DOIK   \n",
       "freq                                                   65           1   \n",
       "mean                                                  NaN         NaN   \n",
       "std                                                   NaN         NaN   \n",
       "min                                                   NaN         NaN   \n",
       "25%                                                   NaN         NaN   \n",
       "50%                                                   NaN         NaN   \n",
       "75%                                                   NaN         NaN   \n",
       "max                                                   NaN         NaN   \n",
       "\n",
       "       is_ebook  average_rating kindle_asin similar_books description  \\\n",
       "count     93398    93398.000000       45247         93398       89108   \n",
       "unique        2             NaN       23383         22069       70278   \n",
       "top       False             NaN  B00AI5AQPQ            []          <>   \n",
       "freq      65575             NaN          35         16580          24   \n",
       "mean        NaN        3.860503         NaN           NaN         NaN   \n",
       "std         NaN        0.345687         NaN           NaN         NaN   \n",
       "min         NaN        0.000000         NaN           NaN         NaN   \n",
       "25%         NaN        3.660000         NaN           NaN         NaN   \n",
       "50%         NaN        3.870000         NaN           NaN         NaN   \n",
       "75%         NaN        4.090000         NaN           NaN         NaN   \n",
       "max         NaN        5.000000         NaN           NaN         NaN   \n",
       "\n",
       "           format                                               link  \\\n",
       "count       75389                                              93398   \n",
       "unique        159                                              93398   \n",
       "top     Paperback  https://www.goodreads.com/book/show/13456490-p...   \n",
       "freq        35946                                                  1   \n",
       "mean          NaN                                                NaN   \n",
       "std           NaN                                                NaN   \n",
       "min           NaN                                                NaN   \n",
       "25%           NaN                                                NaN   \n",
       "50%           NaN                                                NaN   \n",
       "75%           NaN                                                NaN   \n",
       "max           NaN                                                NaN   \n",
       "\n",
       "                                     authors    publisher     num_pages  \\\n",
       "count                                  93398        74798  71695.000000   \n",
       "unique                                 25259        10257           NaN   \n",
       "top     [{'author_id': '15872', 'role': ''}]  Simon Pulse           NaN   \n",
       "freq                                     415         1740           NaN   \n",
       "mean                                     NaN          NaN    298.943539   \n",
       "std                                      NaN          NaN    240.386195   \n",
       "min                                      NaN          NaN      0.000000   \n",
       "25%                                      NaN          NaN    224.000000   \n",
       "50%                                      NaN          NaN    296.000000   \n",
       "75%                                      NaN          NaN    368.000000   \n",
       "max                                      NaN          NaN  52015.000000   \n",
       "\n",
       "        publication_day         isbn13  publication_month edition_information  \\\n",
       "count      64937.000000          66580       71315.000000                7390   \n",
       "unique              NaN          66580                NaN                1905   \n",
       "top                 NaN  9781471402968                NaN          Unabridged   \n",
       "freq                NaN              1                NaN                 539   \n",
       "mean          12.538907            NaN           6.330323                 NaN   \n",
       "std            9.648199            NaN           3.310877                 NaN   \n",
       "min            1.000000            NaN           1.000000                 NaN   \n",
       "25%            3.000000            NaN           4.000000                 NaN   \n",
       "50%           11.000000            NaN           6.000000                 NaN   \n",
       "75%           21.000000            NaN           9.000000                 NaN   \n",
       "max           31.000000            NaN          12.000000                 NaN   \n",
       "\n",
       "        publication_year                                                url  \\\n",
       "count       77895.000000                                              93398   \n",
       "unique               NaN                                              93398   \n",
       "top                  NaN  https://www.goodreads.com/book/show/13456490-p...   \n",
       "freq                 NaN                                                  1   \n",
       "mean         2010.706104                                                NaN   \n",
       "std            96.504383                                                NaN   \n",
       "min             2.000000                                                NaN   \n",
       "25%          2010.000000                                                NaN   \n",
       "50%          2012.000000                                                NaN   \n",
       "75%          2015.000000                                                NaN   \n",
       "max         20045.000000                                                NaN   \n",
       "\n",
       "                                                image_url       book_id  \\\n",
       "count                                               93398  9.339800e+04   \n",
       "unique                                              68495           NaN   \n",
       "top     https://s.gr-assets.com/assets/nophoto/book/11...           NaN   \n",
       "freq                                                24904           NaN   \n",
       "mean                                                  NaN  1.682098e+07   \n",
       "std                                                   NaN  9.993895e+06   \n",
       "min                                                   NaN  5.000000e+01   \n",
       "25%                                                   NaN  8.887362e+06   \n",
       "50%                                                   NaN  1.733140e+07   \n",
       "75%                                                   NaN  2.483025e+07   \n",
       "max                                                   NaN  3.652450e+07   \n",
       "\n",
       "        ratings_count       work_id    title title_without_series  \n",
       "count    9.339800e+04  9.339800e+04    93398                93398  \n",
       "unique            NaN           NaN    55848                55848  \n",
       "top               NaN           NaN  Matilda              Matilda  \n",
       "freq              NaN           NaN       73                   73  \n",
       "mean     1.351242e+03  2.023518e+07      NaN                  NaN  \n",
       "std      2.885759e+04  1.688406e+07      NaN                  NaN  \n",
       "min      0.000000e+00  6.200000e+01      NaN                  NaN  \n",
       "25%      1.500000e+01  3.600396e+06      NaN                  NaN  \n",
       "50%      4.800000e+01  1.750882e+07      NaN                  NaN  \n",
       "75%      1.840000e+02  2.766992e+07      NaN                  NaN  \n",
       "max      4.899965e+06  5.837702e+07      NaN                  NaN  "
      ]
     },
     "execution_count": 6,
     "metadata": {},
     "output_type": "execute_result"
    }
   ],
   "source": [
    "books.describe(include='all')"
   ]
  },
  {
   "cell_type": "code",
   "execution_count": 7,
   "metadata": {},
   "outputs": [
    {
     "name": "stdout",
     "output_type": "stream",
     "text": [
      "<class 'pandas.core.frame.DataFrame'>\n",
      "RangeIndex: 93398 entries, 0 to 93397\n",
      "Data columns (total 29 columns):\n",
      " #   Column                Non-Null Count  Dtype  \n",
      "---  ------                --------------  -----  \n",
      " 0   isbn                  55555 non-null  object \n",
      " 1   text_reviews_count    93398 non-null  int64  \n",
      " 2   series                93398 non-null  object \n",
      " 3   country_code          93398 non-null  object \n",
      " 4   language_code         63766 non-null  object \n",
      " 5   popular_shelves       93398 non-null  object \n",
      " 6   asin                  17332 non-null  object \n",
      " 7   is_ebook              93398 non-null  bool   \n",
      " 8   average_rating        93398 non-null  float64\n",
      " 9   kindle_asin           45247 non-null  object \n",
      " 10  similar_books         93398 non-null  object \n",
      " 11  description           89108 non-null  object \n",
      " 12  format                75389 non-null  object \n",
      " 13  link                  93398 non-null  object \n",
      " 14  authors               93398 non-null  object \n",
      " 15  publisher             74798 non-null  object \n",
      " 16  num_pages             71695 non-null  float64\n",
      " 17  publication_day       64937 non-null  float64\n",
      " 18  isbn13                66580 non-null  object \n",
      " 19  publication_month     71315 non-null  float64\n",
      " 20  edition_information   7390 non-null   object \n",
      " 21  publication_year      77895 non-null  float64\n",
      " 22  url                   93398 non-null  object \n",
      " 23  image_url             93398 non-null  object \n",
      " 24  book_id               93398 non-null  int64  \n",
      " 25  ratings_count         93398 non-null  int64  \n",
      " 26  work_id               93398 non-null  int64  \n",
      " 27  title                 93398 non-null  object \n",
      " 28  title_without_series  93398 non-null  object \n",
      "dtypes: bool(1), float64(5), int64(4), object(19)\n",
      "memory usage: 20.0+ MB\n"
     ]
    }
   ],
   "source": [
    "books.info()"
   ]
  },
  {
   "cell_type": "markdown",
   "metadata": {},
   "source": [
    "The interesting numeric columns are (for our task):\n",
    "- text_reviews_count - it indicates, whether we are having enougn data (enough reviews/book)\n",
    "- rating_count - it may have correlation with text reviews sentiment etc.\n",
    "\n",
    "The interesting categorical columns are (for our task):\n",
    "- average_rating - it's a ordinal categorical value from 0 to 5\n",
    "- is_ebook - maybe it may have some correlation with number of rating\n",
    "- language_code - it can affect the number of English reviews\n",
    "\n",
    "Columns, whose may be interesting after preprocessing:\n",
    "- popular_shelves - books from the same category may have similar ratings (?)\n",
    "- authors - books from the same authors may have similar ratings"
   ]
  },
  {
   "cell_type": "code",
   "execution_count": 8,
   "metadata": {},
   "outputs": [
    {
     "data": {
      "text/plain": [
       "<matplotlib.axes._subplots.AxesSubplot at 0x7f8f0414d850>"
      ]
     },
     "execution_count": 8,
     "metadata": {},
     "output_type": "execute_result"
    },
    {
     "data": {
      "image/png": "[encoded data removed]",
      "text/plain": [
       "<Figure size 1080x288 with 1 Axes>"
      ]
     },
     "metadata": {
      "needs_background": "light"
     },
     "output_type": "display_data"
    }
   ],
   "source": [
    "plt.figure(figsize=(15,4))\n",
    "books.isna().sum().map(lambda x: (x / books.shape[0])* 100).plot(kind='bar',title = 'Ratio of missing values')"
   ]
  },
  {
   "cell_type": "markdown",
   "metadata": {},
   "source": [
    "There is a significant number of missing values by columns 'edition_information' and 'asin', but these properties don't seem to be useful by our task anyway."
   ]
  },
  {
   "cell_type": "markdown",
   "metadata": {},
   "source": [
    "## Text review count"
   ]
  },
  {
   "cell_type": "code",
   "execution_count": 10,
   "metadata": {},
   "outputs": [
    {
     "name": "stdout",
     "output_type": "stream",
     "text": [
      "count     93398.000000\n",
      "mean        101.913189\n",
      "std        1159.965407\n",
      "min           0.000000\n",
      "25%           3.000000\n",
      "50%           9.000000\n",
      "75%          29.000000\n",
      "max      142645.000000\n",
      "Name: text_reviews_count, dtype: float64\n",
      "\n",
      "missing values: 0/93398 (0.0%)\n",
      "outliers upper: 12626/93398 (13.518490759973448%)\n",
      "outliers lower: 0/93398 (0.0%)\n",
      "\n"
     ]
    },
    {
     "data": {
      "text/plain": [
       "(<Figure size 1080x360 with 2 Axes>,\n",
       " array([<matplotlib.axes._subplots.AxesSubplot object at 0x7f8f031e76d0>,\n",
       "        <matplotlib.axes._subplots.AxesSubplot object at 0x7f8f03195550>],\n",
       "       dtype=object))"
      ]
     },
     "execution_count": 10,
     "metadata": {},
     "output_type": "execute_result"
    },
    {
     "data": {
      "image/png": "[encoded data removed]",
      "text/plain": [
       "<Figure size 1080x360 with 2 Axes>"
      ]
     },
     "metadata": {
      "needs_background": "light"
     },
     "output_type": "display_data"
    }
   ],
   "source": [
    "single_col.analyze_numeric(books, 'text_reviews_count')"
   ]
  },
  {
   "cell_type": "markdown",
   "metadata": {},
   "source": [
    "There are huge differences between books, many of them are having number of reviews between 0-10 (more than half). And only the top 25% has at least 29 reviews."
   ]
  },
  {
   "cell_type": "markdown",
   "metadata": {},
   "source": [
    "## Rating count"
   ]
  },
  {
   "cell_type": "code",
   "execution_count": 11,
   "metadata": {},
   "outputs": [
    {
     "name": "stdout",
     "output_type": "stream",
     "text": [
      "count    9.339800e+04\n",
      "mean     1.351242e+03\n",
      "std      2.885759e+04\n",
      "min      0.000000e+00\n",
      "25%      1.500000e+01\n",
      "50%      4.800000e+01\n",
      "75%      1.840000e+02\n",
      "max      4.899965e+06\n",
      "Name: ratings_count, dtype: float64\n",
      "\n",
      "missing values: 0/93398 (0.0%)\n",
      "outliers upper: 13871/93398 (14.851495749373647%)\n",
      "outliers lower: 0/93398 (0.0%)\n",
      "\n"
     ]
    },
    {
     "data": {
      "text/plain": [
       "(<Figure size 1080x360 with 2 Axes>,\n",
       " array([<matplotlib.axes._subplots.AxesSubplot object at 0x7f8f03088df0>,\n",
       "        <matplotlib.axes._subplots.AxesSubplot object at 0x7f8f03048700>],\n",
       "       dtype=object))"
      ]
     },
     "execution_count": 11,
     "metadata": {},
     "output_type": "execute_result"
    },
    {
     "data": {
      "image/png": "[encoded data removed]",
      "text/plain": [
       "<Figure size 1080x360 with 2 Axes>"
      ]
     },
     "metadata": {
      "needs_background": "light"
     },
     "output_type": "display_data"
    }
   ],
   "source": [
    "single_col.analyze_numeric(books, 'ratings_count')"
   ]
  },
  {
   "cell_type": "markdown",
   "metadata": {},
   "source": [
    "Again - there are huge differences in the dataset. The half of the books have less than 48 ratings."
   ]
  },
  {
   "cell_type": "markdown",
   "metadata": {},
   "source": [
    "## Number of pages"
   ]
  },
  {
   "cell_type": "code",
   "execution_count": 42,
   "metadata": {},
   "outputs": [
    {
     "name": "stdout",
     "output_type": "stream",
     "text": [
      "count    71695.000000\n",
      "mean       298.943539\n",
      "std        240.386195\n",
      "min          0.000000\n",
      "25%        224.000000\n",
      "50%        296.000000\n",
      "75%        368.000000\n",
      "max      52015.000000\n",
      "Name: num_pages, dtype: float64\n",
      "\n",
      "missing values: 21703/93398 (0.23237114285102464%)\n",
      "outliers upper: 1322/93398 (1.4154478682627036%)\n",
      "outliers lower: 927/93398 (0.9925266065654511%)\n",
      "\n"
     ]
    },
    {
     "data": {
      "text/plain": [
       "(<Figure size 1080x360 with 2 Axes>,\n",
       " array([<matplotlib.axes._subplots.AxesSubplot object at 0x7f8efa036e50>,\n",
       "        <matplotlib.axes._subplots.AxesSubplot object at 0x7f8ef9ad5850>],\n",
       "       dtype=object))"
      ]
     },
     "execution_count": 42,
     "metadata": {},
     "output_type": "execute_result"
    },
    {
     "data": {
      "image/png": "[encoded data removed]",
      "text/plain": [
       "<Figure size 1080x360 with 2 Axes>"
      ]
     },
     "metadata": {
      "needs_background": "light"
     },
     "output_type": "display_data"
    }
   ],
   "source": [
    "single_col.analyze_numeric(books,'num_pages')"
   ]
  },
  {
   "cell_type": "markdown",
   "metadata": {},
   "source": [
    "There is a book with 52015 pages, which mades the graphs unreadable, we will take a look at that book and then try to analyse graphs without that specific book"
   ]
  },
  {
   "cell_type": "code",
   "execution_count": 45,
   "metadata": {},
   "outputs": [
    {
     "data": {
      "text/html": [
       "<div>\n",
       "<style scoped>\n",
       "    .dataframe tbody tr th:only-of-type {\n",
       "        vertical-align: middle;\n",
       "    }\n",
       "\n",
       "    .dataframe tbody tr th {\n",
       "        vertical-align: top;\n",
       "    }\n",
       "\n",
       "    .dataframe thead th {\n",
       "        text-align: right;\n",
       "    }\n",
       "</style>\n",
       "<table border=\"1\" class=\"dataframe\">\n",
       "  <thead>\n",
       "    <tr style=\"text-align: right;\">\n",
       "      <th></th>\n",
       "      <th>isbn</th>\n",
       "      <th>text_reviews_count</th>\n",
       "      <th>series</th>\n",
       "      <th>country_code</th>\n",
       "      <th>language_code</th>\n",
       "      <th>popular_shelves</th>\n",
       "      <th>asin</th>\n",
       "      <th>is_ebook</th>\n",
       "      <th>average_rating</th>\n",
       "      <th>kindle_asin</th>\n",
       "      <th>similar_books</th>\n",
       "      <th>description</th>\n",
       "      <th>format</th>\n",
       "      <th>link</th>\n",
       "      <th>authors</th>\n",
       "      <th>publisher</th>\n",
       "      <th>num_pages</th>\n",
       "      <th>publication_day</th>\n",
       "      <th>isbn13</th>\n",
       "      <th>publication_month</th>\n",
       "      <th>edition_information</th>\n",
       "      <th>publication_year</th>\n",
       "      <th>url</th>\n",
       "      <th>image_url</th>\n",
       "      <th>book_id</th>\n",
       "      <th>ratings_count</th>\n",
       "      <th>work_id</th>\n",
       "      <th>title</th>\n",
       "      <th>title_without_series</th>\n",
       "    </tr>\n",
       "  </thead>\n",
       "  <tbody>\n",
       "    <tr>\n",
       "      <th>30508</th>\n",
       "      <td>NaN</td>\n",
       "      <td>1</td>\n",
       "      <td>['387569']</td>\n",
       "      <td>US</td>\n",
       "      <td>eng</td>\n",
       "      <td>[{'count': '132', 'name': 'to-read'}, {'count'...</td>\n",
       "      <td>NaN</td>\n",
       "      <td>False</td>\n",
       "      <td>3.79</td>\n",
       "      <td>NaN</td>\n",
       "      <td>['9663929', '12923321', '13316241', '13429646'...</td>\n",
       "      <td>When Perry ends up in Venice on a European tou...</td>\n",
       "      <td>Audiobook</td>\n",
       "      <td>https://www.goodreads.com/book/show/20612029-p...</td>\n",
       "      <td>[{'author_id': '263547', 'role': ''}]</td>\n",
       "      <td>Recorded Books</td>\n",
       "      <td>52015.0</td>\n",
       "      <td>NaN</td>\n",
       "      <td>NaN</td>\n",
       "      <td>NaN</td>\n",
       "      <td>NaN</td>\n",
       "      <td>2012.0</td>\n",
       "      <td>https://www.goodreads.com/book/show/20612029-p...</td>\n",
       "      <td>https://s.gr-assets.com/assets/nophoto/book/11...</td>\n",
       "      <td>20612029</td>\n",
       "      <td>2</td>\n",
       "      <td>18729385</td>\n",
       "      <td>Perry's Killer Playlist (Perry &amp; Gobi, #2)</td>\n",
       "      <td>Perry's Killer Playlist (Perry &amp; Gobi, #2)</td>\n",
       "    </tr>\n",
       "  </tbody>\n",
       "</table>\n",
       "</div>"
      ],
      "text/plain": [
       "      isbn  text_reviews_count      series country_code language_code  \\\n",
       "30508  NaN                   1  ['387569']           US           eng   \n",
       "\n",
       "                                         popular_shelves asin  is_ebook  \\\n",
       "30508  [{'count': '132', 'name': 'to-read'}, {'count'...  NaN     False   \n",
       "\n",
       "       average_rating kindle_asin  \\\n",
       "30508            3.79         NaN   \n",
       "\n",
       "                                           similar_books  \\\n",
       "30508  ['9663929', '12923321', '13316241', '13429646'...   \n",
       "\n",
       "                                             description     format  \\\n",
       "30508  When Perry ends up in Venice on a European tou...  Audiobook   \n",
       "\n",
       "                                                    link  \\\n",
       "30508  https://www.goodreads.com/book/show/20612029-p...   \n",
       "\n",
       "                                     authors       publisher  num_pages  \\\n",
       "30508  [{'author_id': '263547', 'role': ''}]  Recorded Books    52015.0   \n",
       "\n",
       "       publication_day isbn13  publication_month edition_information  \\\n",
       "30508              NaN    NaN                NaN                 NaN   \n",
       "\n",
       "       publication_year                                                url  \\\n",
       "30508            2012.0  https://www.goodreads.com/book/show/20612029-p...   \n",
       "\n",
       "                                               image_url   book_id  \\\n",
       "30508  https://s.gr-assets.com/assets/nophoto/book/11...  20612029   \n",
       "\n",
       "       ratings_count   work_id                                       title  \\\n",
       "30508              2  18729385  Perry's Killer Playlist (Perry & Gobi, #2)   \n",
       "\n",
       "                             title_without_series  \n",
       "30508  Perry's Killer Playlist (Perry & Gobi, #2)  "
      ]
     },
     "execution_count": 45,
     "metadata": {},
     "output_type": "execute_result"
    }
   ],
   "source": [
    "books[books.num_pages > 50000]"
   ]
  },
  {
   "cell_type": "code",
   "execution_count": 46,
   "metadata": {},
   "outputs": [
    {
     "name": "stdout",
     "output_type": "stream",
     "text": [
      "count    71694.000000\n",
      "mean       298.222194\n",
      "std        143.109073\n",
      "min          0.000000\n",
      "25%        224.000000\n",
      "50%        296.000000\n",
      "75%        368.000000\n",
      "max       6750.000000\n",
      "Name: num_pages, dtype: float64\n",
      "\n",
      "missing values: 0/71694 (0.0%)\n",
      "outliers upper: 1321/71694 (1.8425530727815438%)\n",
      "outliers lower: 927/71694 (1.292995229726337%)\n",
      "\n"
     ]
    },
    {
     "data": {
      "text/plain": [
       "(<Figure size 1080x360 with 2 Axes>,\n",
       " array([<matplotlib.axes._subplots.AxesSubplot object at 0x7f8f02095880>,\n",
       "        <matplotlib.axes._subplots.AxesSubplot object at 0x7f8ef9e999a0>],\n",
       "       dtype=object))"
      ]
     },
     "execution_count": 46,
     "metadata": {},
     "output_type": "execute_result"
    },
    {
     "data": {
      "image/png": "[encoded data removed]",
      "text/plain": [
       "<Figure size 1080x360 with 2 Axes>"
      ]
     },
     "metadata": {
      "needs_background": "light"
     },
     "output_type": "display_data"
    }
   ],
   "source": [
    "single_col.analyze_numeric(books[books.num_pages < 50000],'num_pages')"
   ]
  },
  {
   "cell_type": "markdown",
   "metadata": {},
   "source": [
    "Maybe (but likely not) there exist some sort of correlation correlation between ratings and number of pages"
   ]
  },
  {
   "cell_type": "code",
   "execution_count": 54,
   "metadata": {},
   "outputs": [
    {
     "data": {
      "image/png": "[encoded data removed]",
      "text/plain": [
       "<Figure size 432x288 with 1 Axes>"
      ]
     },
     "metadata": {
      "needs_background": "light"
     },
     "output_type": "display_data"
    }
   ],
   "source": [
    "ax = sns.scatterplot(x=\"num_pages\", y=\"average_rating\", data=books)"
   ]
  },
  {
   "cell_type": "markdown",
   "metadata": {},
   "source": [
    "## Average rating\n",
    "\n",
    "Even if it's more a categoric property, it's ordinal, so we can try to analyse it similarily like numberic atributes"
   ]
  },
  {
   "cell_type": "code",
   "execution_count": 12,
   "metadata": {},
   "outputs": [
    {
     "name": "stdout",
     "output_type": "stream",
     "text": [
      "count    93398.000000\n",
      "mean         3.860503\n",
      "std          0.345687\n",
      "min          0.000000\n",
      "25%          3.660000\n",
      "50%          3.870000\n",
      "75%          4.090000\n",
      "max          5.000000\n",
      "Name: average_rating, dtype: float64\n",
      "\n",
      "missing values: 0/93398 (0.0%)\n",
      "outliers upper: 366/93398 (0.39187134628150494%)\n",
      "outliers lower: 1276/93398 (1.3661962782928971%)\n",
      "\n"
     ]
    },
    {
     "data": {
      "text/plain": [
       "(<Figure size 1080x360 with 2 Axes>,\n",
       " array([<matplotlib.axes._subplots.AxesSubplot object at 0x7f8f02f2c490>,\n",
       "        <matplotlib.axes._subplots.AxesSubplot object at 0x7f8f02eed9d0>],\n",
       "       dtype=object))"
      ]
     },
     "execution_count": 12,
     "metadata": {},
     "output_type": "execute_result"
    },
    {
     "data": {
      "image/png": "[encoded data removed]",
      "text/plain": [
       "<Figure size 1080x360 with 2 Axes>"
      ]
     },
     "metadata": {
      "needs_background": "light"
     },
     "output_type": "display_data"
    }
   ],
   "source": [
    "single_col.analyze_numeric(books, 'average_rating')"
   ]
  },
  {
   "cell_type": "markdown",
   "metadata": {},
   "source": [
    "The distribution of values here is more like normal distribution with median and mean around 3,86."
   ]
  },
  {
   "cell_type": "markdown",
   "metadata": {},
   "source": [
    "## Is ebook"
   ]
  },
  {
   "cell_type": "code",
   "execution_count": 13,
   "metadata": {
    "scrolled": false
   },
   "outputs": [
    {
     "name": "stdout",
     "output_type": "stream",
     "text": [
      "count     93398\n",
      "unique        2\n",
      "top       False\n",
      "freq      65575\n",
      "Name: is_ebook, dtype: object\n",
      "Ratio of True: 29.789717124563694%\n",
      "Ratio of False: 70.2102828754363%\n"
     ]
    },
    {
     "data": {
      "text/plain": [
       "<matplotlib.axes._subplots.AxesSubplot at 0x7f8f02dfd8e0>"
      ]
     },
     "execution_count": 13,
     "metadata": {},
     "output_type": "execute_result"
    },
    {
     "data": {
      "image/png": "[encoded data removed]",
      "text/plain": [
       "<Figure size 432x288 with 1 Axes>"
      ]
     },
     "metadata": {
      "needs_background": "light"
     },
     "output_type": "display_data"
    }
   ],
   "source": [
    "single_col.analyze_category(books,'is_ebook')"
   ]
  },
  {
   "cell_type": "code",
   "execution_count": 26,
   "metadata": {},
   "outputs": [
    {
     "data": {
      "image/png": "[encoded data removed]",
      "text/plain": [
       "<Figure size 432x288 with 1 Axes>"
      ]
     },
     "metadata": {
      "needs_background": "light"
     },
     "output_type": "display_data"
    }
   ],
   "source": [
    "ax = sns.scatterplot(x=\"is_ebook\", y=\"average_rating\", data=books)"
   ]
  },
  {
   "cell_type": "markdown",
   "metadata": {},
   "source": [
    "70% of books aren't e-books. In furhter analysis we will take a look at correlation between being an e-book and number of reviews"
   ]
  },
  {
   "cell_type": "markdown",
   "metadata": {},
   "source": [
    "## Popular shelves"
   ]
  },
  {
   "cell_type": "code",
   "execution_count": 49,
   "metadata": {},
   "outputs": [
    {
     "data": {
      "text/plain": [
       "\"[{'count': '51038', 'name': 'favorites'}, {'count': '36703', 'name': 'currently-reading'}, {'count': '33494', 'name': 'to-read'}, {'count': '26318', 'name': 'young-adult'}, {'count': '14025', 'name': 'fiction'}, {'count': '13168', 'name': 'dystopian'}, {'count': '11243', 'name': 'dystopia'}, {'count': '11000', 'name': 'fantasy'}, {'count': '10995', 'name': 'ya'}, {'count': '8926', 'name': 'science-fiction'}, {'count': '7245', 'name': 'books-i-own'}, {'count': '6345', 'name': 'sci-fi'}, {'count': '5094', 'name': 'series'}, {'count': '5069', 'name': 'owned'}, {'count': '4229', 'name': 'favourites'}, {'count': '3390', 'name': 'romance'}, {'count': '3200', 'name': 'adventure'}, {'count': '2911', 'name': 'hunger-games'}, {'count': '2017', 'name': 'book-club'}, {'count': '1999', 'name': 'kindle'}, {'count': '1779', 'name': 'teen'}, {'count': '1478', 'name': 'read-in-2012'}, {'count': '1465', 'name': 'post-apocalyptic'}, {'count': '1464', 'name': 'my-books'}, {'count': '1443', 'name': 'the-hunger-games'}, {'count': '1422', 'name': 'favorite-books'}, {'count': '1266', 'name': 'action'}, {'count': '1218', 'name': 're-read'}, {'count': '1215', 'name': 'suzanne-collins'}, {'count': '1161', 'name': 'all-time-favorites'}, {'count': '1143', 'name': 'ya-fiction'}, {'count': '1129', 'name': 'sci-fi-fantasy'}, {'count': '1125', 'name': 'survival'}, {'count': '1125', 'name': 'books'}, {'count': '1091', 'name': 'favorite'}, {'count': '1054', 'name': '5-stars'}, {'count': '1050', 'name': 'scifi'}, {'count': '936', 'name': 'i-own'}, {'count': '925', 'name': 'read-in-2011'}, {'count': '924', 'name': 'novels'}, {'count': '912', 'name': 'ebook'}, {'count': '890', 'name': 'audiobook'}, {'count': '878', 'name': 'young-adult-fiction'}, {'count': '803', 'name': 'thriller'}, {'count': '787', 'name': 'my-favorites'}, {'count': '777', 'name': 'audiobooks'}, {'count': '736', 'name': 'read-2012'}, {'count': '724', 'name': 'default'}, {'count': '701', 'name': 'futuristic'}, {'count': '690', 'name': 'ebooks'}, {'count': '679', 'name': 'library'}, {'count': '670', 'name': 'fantasy-sci-fi'}, {'count': '642', 'name': 'suspense'}, {'count': '618', 'name': 'reread'}, {'count': '617', 'name': 'shelfari-favorites'}, {'count': '616', 'name': 'faves'}, {'count': '598', 'name': 'read-in-2010'}, {'count': '578', 'name': 'my-library'}, {'count': '535', 'name': 'audio'}, {'count': '532', 'name': 'ya-lit'}, {'count': '531', 'name': 'ya-books'}, {'count': '527', 'name': 'teen-fiction'}, {'count': '524', 'name': 'favorite-series'}, {'count': '513', 'name': 'own-it'}, {'count': '507', 'name': 'finished'}, {'count': '495', 'name': 'action-adventure'}, {'count': '488', 'name': 'love'}, {'count': '486', 'name': 'love-triangle'}, {'count': '478', 'name': 'favs'}, {'count': '458', 'name': 'read-in-2013'}, {'count': '457', 'name': 'loved'}, {'count': '453', 'name': 'distopia'}, {'count': '447', 'name': 'coming-of-age'}, {'count': '446', 'name': 'dystopian-fiction'}, {'count': '443', 'name': 'english'}, {'count': '442', 'name': 'distopian'}, {'count': '441', 'name': 'borrowed'}, {'count': '430', 'name': 'to-buy'}, {'count': '426', 'name': 'novel'}, {'count': '412', 'name': 'favourite'}, {'count': '408', 'name': 'ya-fantasy'}, {'count': '408', 'name': 'read-more-than-once'}, {'count': '406', 'name': 'scifi-fantasy'}, {'count': '405', 'name': 'read-2011'}, {'count': '403', 'name': 'favourite-books'}, {'count': '390', 'name': 'future'}, {'count': '384', 'name': 'read-in-2014'}, {'count': '383', 'name': 'contemporary'}, {'count': '381', 'name': 'trilogy'}, {'count': '371', 'name': 'dystopias'}, {'count': '369', 'name': 'speculative-fiction'}, {'count': '368', 'name': 'ya-dystopian'}, {'count': '367', 'name': 'e-book'}, {'count': '364', 'name': 'reviewed'}, {'count': '357', 'name': '2012-reads'}, {'count': '353', 'name': 'finished-series'}, {'count': '350', 'name': 'sf'}, {'count': '350', 'name': 'completed-series'}, {'count': '345', 'name': 'on-my-shelf'}, {'count': '344', 'name': 'drama'}]\""
      ]
     },
     "execution_count": 49,
     "metadata": {},
     "output_type": "execute_result"
    }
   ],
   "source": [
    "books.popular_shelves.describe().top"
   ]
  },
  {
   "cell_type": "code",
   "execution_count": 14,
   "metadata": {},
   "outputs": [
    {
     "data": {
      "text/html": [
       "<div>\n",
       "<style scoped>\n",
       "    .dataframe tbody tr th:only-of-type {\n",
       "        vertical-align: middle;\n",
       "    }\n",
       "\n",
       "    .dataframe tbody tr th {\n",
       "        vertical-align: top;\n",
       "    }\n",
       "\n",
       "    .dataframe thead th {\n",
       "        text-align: right;\n",
       "    }\n",
       "</style>\n",
       "<table border=\"1\" class=\"dataframe\">\n",
       "  <thead>\n",
       "    <tr style=\"text-align: right;\">\n",
       "      <th></th>\n",
       "      <th>favorites</th>\n",
       "      <th>currently-reading</th>\n",
       "      <th>to-read</th>\n",
       "    </tr>\n",
       "  </thead>\n",
       "  <tbody>\n",
       "    <tr>\n",
       "      <th>0</th>\n",
       "      <td>36</td>\n",
       "      <td>18</td>\n",
       "      <td>1057</td>\n",
       "    </tr>\n",
       "    <tr>\n",
       "      <th>1</th>\n",
       "      <td>2</td>\n",
       "      <td>NaN</td>\n",
       "      <td>1010</td>\n",
       "    </tr>\n",
       "    <tr>\n",
       "      <th>2</th>\n",
       "      <td>686</td>\n",
       "      <td>NaN</td>\n",
       "      <td>309</td>\n",
       "    </tr>\n",
       "    <tr>\n",
       "      <th>3</th>\n",
       "      <td>186</td>\n",
       "      <td>195</td>\n",
       "      <td>7173</td>\n",
       "    </tr>\n",
       "    <tr>\n",
       "      <th>4</th>\n",
       "      <td>49</td>\n",
       "      <td>67</td>\n",
       "      <td>9481</td>\n",
       "    </tr>\n",
       "  </tbody>\n",
       "</table>\n",
       "</div>"
      ],
      "text/plain": [
       "  favorites currently-reading to-read\n",
       "0        36                18    1057\n",
       "1         2               NaN    1010\n",
       "2       686               NaN     309\n",
       "3       186               195    7173\n",
       "4        49                67    9481"
      ]
     },
     "execution_count": 14,
     "metadata": {},
     "output_type": "execute_result"
    }
   ],
   "source": [
    "col_trans.export_book_shelves(books.head(5), 'popular_shelves', ['favorites', 'currently-reading', 'to-read'])\n",
    "\n",
    "# TODO: add columns to books dataframe"
   ]
  },
  {
   "cell_type": "markdown",
   "metadata": {},
   "source": [
    "We possible can take the default shelves: favorite, currently-reading and to-read, they can indicating the popularity of a book...\n",
    "\n",
    "It's possible to checkout the total number of tags or maybe the sum of tags"
   ]
  },
  {
   "cell_type": "markdown",
   "metadata": {},
   "source": [
    "## Authors"
   ]
  },
  {
   "cell_type": "code",
   "execution_count": 20,
   "metadata": {},
   "outputs": [
    {
     "data": {
      "text/plain": [
       "0        [{'author_id': '50873', 'role': ''}, {'author_...\n",
       "1                   [{'author_id': '5395324', 'role': ''}]\n",
       "2                   [{'author_id': '7314532', 'role': ''}]\n",
       "3                    [{'author_id': '293603', 'role': ''}]\n",
       "4                   [{'author_id': '4018722', 'role': ''}]\n",
       "                               ...                        \n",
       "93393               [{'author_id': '3353516', 'role': ''}]\n",
       "93394               [{'author_id': '3081700', 'role': ''}]\n",
       "93395    [{'author_id': '348478', 'role': ''}, {'author...\n",
       "93396                 [{'author_id': '11664', 'role': ''}]\n",
       "93397               [{'author_id': '4633056', 'role': ''}]\n",
       "Name: authors, Length: 93398, dtype: object"
      ]
     },
     "execution_count": 20,
     "metadata": {},
     "output_type": "execute_result"
    }
   ],
   "source": [
    "books.authors"
   ]
  },
  {
   "cell_type": "markdown",
   "metadata": {},
   "source": [
    "The (average) popularity of authors book may indicate the possible rating of a new book from that concrete author"
   ]
  },
  {
   "cell_type": "markdown",
   "metadata": {},
   "source": [
    "## Similar books"
   ]
  },
  {
   "cell_type": "code",
   "execution_count": 21,
   "metadata": {},
   "outputs": [
    {
     "data": {
      "text/plain": [
       "0                        ['519546', '1295074', '21407416']\n",
       "1        ['13400912', '13327517', '18107102', '15797097...\n",
       "2        ['15728807', '17182499', '15673520', '16081758...\n",
       "3        ['25861113', '7430195', '18765937', '6120544',...\n",
       "4        ['20499652', '17934493', '13518102', '16210411...\n",
       "                               ...                        \n",
       "93393    ['11413298', '13508069', '7849034', '10552965'...\n",
       "93394    ['8574517', '6440071', '6625948', '7036227', '...\n",
       "93395    ['1957880', '2490879', '8030321', '13152142', ...\n",
       "93396    ['26802671', '20662291', '23615716', '23870836...\n",
       "93397    ['18868682', '18171572', '15795797', '16120595...\n",
       "Name: similar_books, Length: 93398, dtype: object"
      ]
     },
     "execution_count": 21,
     "metadata": {},
     "output_type": "execute_result"
    }
   ],
   "source": [
    "books.similar_books"
   ]
  },
  {
   "cell_type": "code",
   "execution_count": 39,
   "metadata": {},
   "outputs": [
    {
     "data": {
      "text/html": [
       "<div>\n",
       "<style scoped>\n",
       "    .dataframe tbody tr th:only-of-type {\n",
       "        vertical-align: middle;\n",
       "    }\n",
       "\n",
       "    .dataframe tbody tr th {\n",
       "        vertical-align: top;\n",
       "    }\n",
       "\n",
       "    .dataframe thead th {\n",
       "        text-align: right;\n",
       "    }\n",
       "</style>\n",
       "<table border=\"1\" class=\"dataframe\">\n",
       "  <thead>\n",
       "    <tr style=\"text-align: right;\">\n",
       "      <th></th>\n",
       "      <th>isbn</th>\n",
       "      <th>text_reviews_count</th>\n",
       "      <th>series</th>\n",
       "      <th>country_code</th>\n",
       "      <th>language_code</th>\n",
       "      <th>popular_shelves</th>\n",
       "      <th>asin</th>\n",
       "      <th>is_ebook</th>\n",
       "      <th>average_rating</th>\n",
       "      <th>kindle_asin</th>\n",
       "      <th>similar_books</th>\n",
       "      <th>description</th>\n",
       "      <th>format</th>\n",
       "      <th>link</th>\n",
       "      <th>authors</th>\n",
       "      <th>publisher</th>\n",
       "      <th>num_pages</th>\n",
       "      <th>publication_day</th>\n",
       "      <th>isbn13</th>\n",
       "      <th>publication_month</th>\n",
       "      <th>edition_information</th>\n",
       "      <th>publication_year</th>\n",
       "      <th>url</th>\n",
       "      <th>image_url</th>\n",
       "      <th>book_id</th>\n",
       "      <th>ratings_count</th>\n",
       "      <th>work_id</th>\n",
       "      <th>title</th>\n",
       "      <th>title_without_series</th>\n",
       "    </tr>\n",
       "  </thead>\n",
       "  <tbody>\n",
       "    <tr>\n",
       "      <th>49238</th>\n",
       "      <td>0671550527</td>\n",
       "      <td>75</td>\n",
       "      <td>['146158']</td>\n",
       "      <td>US</td>\n",
       "      <td>eng</td>\n",
       "      <td>[{'count': '1053', 'name': 'to-read'}, {'count...</td>\n",
       "      <td>NaN</td>\n",
       "      <td>False</td>\n",
       "      <td>3.93</td>\n",
       "      <td>NaN</td>\n",
       "      <td>['293982', '1651392', '1003291', '1159385', '1...</td>\n",
       "      <td>Alisa has fought every battle, against evil, a...</td>\n",
       "      <td>Paperback</td>\n",
       "      <td>https://www.goodreads.com/book/show/519546.Cre...</td>\n",
       "      <td>[{'author_id': '19954', 'role': ''}]</td>\n",
       "      <td>Archway Paperbacks</td>\n",
       "      <td>181.0</td>\n",
       "      <td>1.0</td>\n",
       "      <td>9780671550523</td>\n",
       "      <td>9.0</td>\n",
       "      <td>NaN</td>\n",
       "      <td>1996.0</td>\n",
       "      <td>https://www.goodreads.com/book/show/519546.Cre...</td>\n",
       "      <td>https://images.gr-assets.com/books/1378900883m...</td>\n",
       "      <td>519546</td>\n",
       "      <td>2688</td>\n",
       "      <td>133009</td>\n",
       "      <td>Creatures of Forever (The Last Vampire #6)</td>\n",
       "      <td>Creatures of Forever (The Last Vampire #6)</td>\n",
       "    </tr>\n",
       "  </tbody>\n",
       "</table>\n",
       "</div>"
      ],
      "text/plain": [
       "             isbn  text_reviews_count      series country_code language_code  \\\n",
       "49238  0671550527                  75  ['146158']           US           eng   \n",
       "\n",
       "                                         popular_shelves asin  is_ebook  \\\n",
       "49238  [{'count': '1053', 'name': 'to-read'}, {'count...  NaN     False   \n",
       "\n",
       "       average_rating kindle_asin  \\\n",
       "49238            3.93         NaN   \n",
       "\n",
       "                                           similar_books  \\\n",
       "49238  ['293982', '1651392', '1003291', '1159385', '1...   \n",
       "\n",
       "                                             description     format  \\\n",
       "49238  Alisa has fought every battle, against evil, a...  Paperback   \n",
       "\n",
       "                                                    link  \\\n",
       "49238  https://www.goodreads.com/book/show/519546.Cre...   \n",
       "\n",
       "                                    authors           publisher  num_pages  \\\n",
       "49238  [{'author_id': '19954', 'role': ''}]  Archway Paperbacks      181.0   \n",
       "\n",
       "       publication_day         isbn13  publication_month edition_information  \\\n",
       "49238              1.0  9780671550523                9.0                 NaN   \n",
       "\n",
       "       publication_year                                                url  \\\n",
       "49238            1996.0  https://www.goodreads.com/book/show/519546.Cre...   \n",
       "\n",
       "                                               image_url  book_id  \\\n",
       "49238  https://images.gr-assets.com/books/1378900883m...   519546   \n",
       "\n",
       "       ratings_count  work_id                                       title  \\\n",
       "49238           2688   133009  Creatures of Forever (The Last Vampire #6)   \n",
       "\n",
       "                             title_without_series  \n",
       "49238  Creatures of Forever (The Last Vampire #6)  "
      ]
     },
     "execution_count": 39,
     "metadata": {},
     "output_type": "execute_result"
    }
   ],
   "source": [
    "books[books['book_id'] == 519546]"
   ]
  },
  {
   "cell_type": "markdown",
   "metadata": {},
   "source": [
    "## Book id a work id"
   ]
  },
  {
   "cell_type": "code",
   "execution_count": 33,
   "metadata": {},
   "outputs": [
    {
     "data": {
      "text/plain": [
       "34916"
      ]
     },
     "execution_count": 33,
     "metadata": {},
     "output_type": "execute_result"
    }
   ],
   "source": [
    "books.work_id.nunique()"
   ]
  },
  {
   "cell_type": "code",
   "execution_count": 34,
   "metadata": {},
   "outputs": [
    {
     "data": {
      "text/plain": [
       "(93398, 29)"
      ]
     },
     "execution_count": 34,
     "metadata": {},
     "output_type": "execute_result"
    }
   ],
   "source": [
    "books.shape"
   ]
  },
  {
   "cell_type": "markdown",
   "metadata": {},
   "source": [
    "Rating of similar books may indicate the rating of concrete book, but in that case we need to know the rating for that specific person, which may not exist."
   ]
  },
  {
   "cell_type": "markdown",
   "metadata": {},
   "source": [
    "## Title"
   ]
  },
  {
   "cell_type": "code",
   "execution_count": 55,
   "metadata": {},
   "outputs": [
    {
     "data": {
      "text/plain": [
       "0                           The Passion (Dark Visions, #3)\n",
       "1                                          Hope's Daughter\n",
       "2                                 Half Bad (Half Life, #1)\n",
       "3        Twelfth Grade Kills (The Chronicles of Vladimi...\n",
       "4                                        The Body Electric\n",
       "                               ...                        \n",
       "93393                      Ölmem Gerekirse (Revenants, #3)\n",
       "93394              The Mockingbirds (The Mockingbirds, #1)\n",
       "93395                  Joel and Cat Set the Story Straight\n",
       "93396                                          Another Day\n",
       "93397                        Ondine (Ondine Quartet, #0.5)\n",
       "Name: title, Length: 93398, dtype: object"
      ]
     },
     "execution_count": 55,
     "metadata": {},
     "output_type": "execute_result"
    }
   ],
   "source": [
    "books.title"
   ]
  },
  {
   "cell_type": "markdown",
   "metadata": {},
   "source": [
    "It's likely can't be used in any way..."
   ]
  },
  {
   "cell_type": "markdown",
   "metadata": {},
   "source": [
    "## Description"
   ]
  },
  {
   "cell_type": "code",
   "execution_count": 29,
   "metadata": {},
   "outputs": [
    {
     "data": {
      "text/plain": [
       "\"This is the final tale in the bestselling author L.J. Smith's romantic horrortrilogy. Now, Kaitlyn Fairchild and her friends must put the powerful crystalto the test--to stop an experiment that has turned one of them into a psychicvampire. Kaitlyn must choose at last--Rob or Gabriel.\""
      ]
     },
     "execution_count": 29,
     "metadata": {},
     "output_type": "execute_result"
    }
   ],
   "source": [
    "books.description[0]"
   ]
  },
  {
   "cell_type": "code",
   "execution_count": 30,
   "metadata": {},
   "outputs": [
    {
     "data": {
      "text/plain": [
       "\"Life should be simple for Cassie.\\nFor the small population of Earth survivors who live on the Space Station Hope everything they do is planned and scheduled, down to the cyclical food menus, their roles in the station, even how many children they have.\\nDespite rigid controls directing her life, Cassie feels more out of synch than ever and worries she won't find a place for herself within the station community. Perhaps that's because she's hearing things inside her head that can't possibly be real. Or maybe it's the regular elopements of her peers, heading off to a romantic future in the Married Quarter of the space station, whilst she's never even been attracted to a boy - no matter how hard her best friend Ami pushes them at her. Then there are the odd questions her work placement partner Balik keeps raising. His questions are just as troubling for her as his distracting smiles and eyes that seem to see inside her.\\nAs Cassie draws closer to Balik she finds that everything else in her life begins to shift. He tells her things that call into question the system they live within. She can't believe he is right, but at the same time she finds it hard to deny the sincerity of his ideas. Could there be a connection between Cassie's problems and Balik's questions? The truth will drag them both to a terrifying and deadly conclusion beyond anything they could have imagined.\""
      ]
     },
     "execution_count": 30,
     "metadata": {},
     "output_type": "execute_result"
    }
   ],
   "source": [
    "books.description[1]"
   ]
  },
  {
   "cell_type": "code",
   "execution_count": 35,
   "metadata": {},
   "outputs": [
    {
     "data": {
      "text/plain": [
       "\"Five went by Land and Five went by Sea...the rest stayed in the City...this is their story.\\nMrs. Moore knew that leaving the city was the best chance that she and her students had to survive the EMP pulse but when half of her charges refused to leave she knows she has to stay and try and protect them. Fighting against time and the people in her group that refuse to face the reality of their situation will be a huge challenge. Even after finding a safe haven to wait out the destruction and chaos they are threatened and have to flee for their lives.\\nWith her group's numbers lessening at every turn she must lead them on the 1500 mile journey back to Canada. Their path will show them the best and worst of the new world. Facing the dangers of other survivors, rampant wild life and shrinking supplies, they must travel through a world tossed back in time. Will her survivalist knowledge and determination be enough to get her students home?\""
      ]
     },
     "execution_count": 35,
     "metadata": {},
     "output_type": "execute_result"
    }
   ],
   "source": [
    "books.description[200]"
   ]
  },
  {
   "cell_type": "markdown",
   "metadata": {},
   "source": [
    "Text analysis? Sentiment?? Frequent words? Keywords?"
   ]
  },
  {
   "cell_type": "markdown",
   "metadata": {},
   "source": [
    "# Reviews"
   ]
  },
  {
   "cell_type": "code",
   "execution_count": 24,
   "metadata": {},
   "outputs": [],
   "source": [
    "rev = pd.read_csv('../data/reviews.csv', nrows=1000)"
   ]
  },
  {
   "cell_type": "code",
   "execution_count": 15,
   "metadata": {},
   "outputs": [
    {
     "data": {
      "text/html": [
       "<div>\n",
       "<style scoped>\n",
       "    .dataframe tbody tr th:only-of-type {\n",
       "        vertical-align: middle;\n",
       "    }\n",
       "\n",
       "    .dataframe tbody tr th {\n",
       "        vertical-align: top;\n",
       "    }\n",
       "\n",
       "    .dataframe thead th {\n",
       "        text-align: right;\n",
       "    }\n",
       "</style>\n",
       "<table border=\"1\" class=\"dataframe\">\n",
       "  <thead>\n",
       "    <tr style=\"text-align: right;\">\n",
       "      <th></th>\n",
       "      <th>user_id</th>\n",
       "      <th>book_id</th>\n",
       "      <th>review_id</th>\n",
       "      <th>rating</th>\n",
       "      <th>review_text</th>\n",
       "      <th>date_added</th>\n",
       "      <th>date_updated</th>\n",
       "      <th>read_at</th>\n",
       "      <th>started_at</th>\n",
       "      <th>n_votes</th>\n",
       "      <th>n_comments</th>\n",
       "    </tr>\n",
       "  </thead>\n",
       "  <tbody>\n",
       "    <tr>\n",
       "      <th>0</th>\n",
       "      <td>8842281e1d1347389f2ab93d60773d4d</td>\n",
       "      <td>2767052</td>\n",
       "      <td>248c011811e945eca861b5c31a549291</td>\n",
       "      <td>5</td>\n",
       "      <td>I cracked and finally picked this up. Very enj...</td>\n",
       "      <td>Wed Jan 13 13:38:25 -0800 2010</td>\n",
       "      <td>Wed Mar 22 11:46:36 -0700 2017</td>\n",
       "      <td>Sun Mar 25 00:00:00 -0700 2012</td>\n",
       "      <td>Fri Mar 23 00:00:00 -0700 2012</td>\n",
       "      <td>24</td>\n",
       "      <td>25</td>\n",
       "    </tr>\n",
       "    <tr>\n",
       "      <th>1</th>\n",
       "      <td>7504b2aee1ecb5b2872d3da381c6c91e</td>\n",
       "      <td>23302416</td>\n",
       "      <td>84c0936a0f9868f38e75d2f9a5cb761e</td>\n",
       "      <td>5</td>\n",
       "      <td>I read this book because my fifth grade son wa...</td>\n",
       "      <td>Wed Jan 21 18:40:59 -0800 2015</td>\n",
       "      <td>Wed Oct 26 03:44:13 -0700 2016</td>\n",
       "      <td>NaN</td>\n",
       "      <td>NaN</td>\n",
       "      <td>0</td>\n",
       "      <td>0</td>\n",
       "    </tr>\n",
       "    <tr>\n",
       "      <th>2</th>\n",
       "      <td>f8a89075dc6de14857561522e729f82c</td>\n",
       "      <td>18053080</td>\n",
       "      <td>785c8db878f4009da9741dea51f641da</td>\n",
       "      <td>4</td>\n",
       "      <td>Though the book started out slow and only star...</td>\n",
       "      <td>Sat Jan 11 17:58:41 -0800 2014</td>\n",
       "      <td>Tue Dec 02 11:43:07 -0800 2014</td>\n",
       "      <td>Sat Apr 12 00:00:00 -0700 2014</td>\n",
       "      <td>Fri Apr 11 00:00:00 -0700 2014</td>\n",
       "      <td>0</td>\n",
       "      <td>0</td>\n",
       "    </tr>\n",
       "  </tbody>\n",
       "</table>\n",
       "</div>"
      ],
      "text/plain": [
       "                            user_id   book_id  \\\n",
       "0  8842281e1d1347389f2ab93d60773d4d   2767052   \n",
       "1  7504b2aee1ecb5b2872d3da381c6c91e  23302416   \n",
       "2  f8a89075dc6de14857561522e729f82c  18053080   \n",
       "\n",
       "                          review_id  rating  \\\n",
       "0  248c011811e945eca861b5c31a549291       5   \n",
       "1  84c0936a0f9868f38e75d2f9a5cb761e       5   \n",
       "2  785c8db878f4009da9741dea51f641da       4   \n",
       "\n",
       "                                         review_text  \\\n",
       "0  I cracked and finally picked this up. Very enj...   \n",
       "1  I read this book because my fifth grade son wa...   \n",
       "2  Though the book started out slow and only star...   \n",
       "\n",
       "                       date_added                    date_updated  \\\n",
       "0  Wed Jan 13 13:38:25 -0800 2010  Wed Mar 22 11:46:36 -0700 2017   \n",
       "1  Wed Jan 21 18:40:59 -0800 2015  Wed Oct 26 03:44:13 -0700 2016   \n",
       "2  Sat Jan 11 17:58:41 -0800 2014  Tue Dec 02 11:43:07 -0800 2014   \n",
       "\n",
       "                          read_at                      started_at  n_votes  \\\n",
       "0  Sun Mar 25 00:00:00 -0700 2012  Fri Mar 23 00:00:00 -0700 2012       24   \n",
       "1                             NaN                             NaN        0   \n",
       "2  Sat Apr 12 00:00:00 -0700 2014  Fri Apr 11 00:00:00 -0700 2014        0   \n",
       "\n",
       "   n_comments  \n",
       "0          25  \n",
       "1           0  \n",
       "2           0  "
      ]
     },
     "execution_count": 15,
     "metadata": {},
     "output_type": "execute_result"
    }
   ],
   "source": [
    "rev.head(3)"
   ]
  },
  {
   "cell_type": "code",
   "execution_count": 24,
   "metadata": {},
   "outputs": [
    {
     "data": {
      "text/html": [
       "<div>\n",
       "<style scoped>\n",
       "    .dataframe tbody tr th:only-of-type {\n",
       "        vertical-align: middle;\n",
       "    }\n",
       "\n",
       "    .dataframe tbody tr th {\n",
       "        vertical-align: top;\n",
       "    }\n",
       "\n",
       "    .dataframe thead th {\n",
       "        text-align: right;\n",
       "    }\n",
       "</style>\n",
       "<table border=\"1\" class=\"dataframe\">\n",
       "  <thead>\n",
       "    <tr style=\"text-align: right;\">\n",
       "      <th></th>\n",
       "      <th>user_id</th>\n",
       "      <th>book_id</th>\n",
       "      <th>review_id</th>\n",
       "      <th>rating</th>\n",
       "      <th>review_text</th>\n",
       "      <th>date_added</th>\n",
       "      <th>date_updated</th>\n",
       "      <th>read_at</th>\n",
       "      <th>started_at</th>\n",
       "      <th>n_votes</th>\n",
       "      <th>n_comments</th>\n",
       "    </tr>\n",
       "  </thead>\n",
       "  <tbody>\n",
       "    <tr>\n",
       "      <th>count</th>\n",
       "      <td>2389900</td>\n",
       "      <td>2.389900e+06</td>\n",
       "      <td>2389900</td>\n",
       "      <td>2.389900e+06</td>\n",
       "      <td>2388621</td>\n",
       "      <td>2389900</td>\n",
       "      <td>2389900</td>\n",
       "      <td>2041459</td>\n",
       "      <td>1579237</td>\n",
       "      <td>2.389900e+06</td>\n",
       "      <td>2.389900e+06</td>\n",
       "    </tr>\n",
       "    <tr>\n",
       "      <th>unique</th>\n",
       "      <td>209152</td>\n",
       "      <td>NaN</td>\n",
       "      <td>2389900</td>\n",
       "      <td>NaN</td>\n",
       "      <td>2296734</td>\n",
       "      <td>2371220</td>\n",
       "      <td>2340529</td>\n",
       "      <td>828792</td>\n",
       "      <td>88651</td>\n",
       "      <td>NaN</td>\n",
       "      <td>NaN</td>\n",
       "    </tr>\n",
       "    <tr>\n",
       "      <th>top</th>\n",
       "      <td>59151b639f247aa97fffd5c71701db29</td>\n",
       "      <td>NaN</td>\n",
       "      <td>1e5e0f68ce5ebe96268bb4d3852e081d</td>\n",
       "      <td>NaN</td>\n",
       "      <td>3.5</td>\n",
       "      <td>Sun Feb 01 00:00:00 -0800 2015</td>\n",
       "      <td>Sun Aug 04 08:29:24 -0700 2013</td>\n",
       "      <td>Fri Jan 01 00:00:00 -0800 2016</td>\n",
       "      <td>Fri Jan 01 00:00:00 -0800 2016</td>\n",
       "      <td>NaN</td>\n",
       "      <td>NaN</td>\n",
       "    </tr>\n",
       "    <tr>\n",
       "      <th>freq</th>\n",
       "      <td>2438</td>\n",
       "      <td>NaN</td>\n",
       "      <td>1</td>\n",
       "      <td>NaN</td>\n",
       "      <td>4284</td>\n",
       "      <td>34</td>\n",
       "      <td>37</td>\n",
       "      <td>5130</td>\n",
       "      <td>2274</td>\n",
       "      <td>NaN</td>\n",
       "      <td>NaN</td>\n",
       "    </tr>\n",
       "    <tr>\n",
       "      <th>mean</th>\n",
       "      <td>NaN</td>\n",
       "      <td>1.352580e+07</td>\n",
       "      <td>NaN</td>\n",
       "      <td>3.764296e+00</td>\n",
       "      <td>NaN</td>\n",
       "      <td>NaN</td>\n",
       "      <td>NaN</td>\n",
       "      <td>NaN</td>\n",
       "      <td>NaN</td>\n",
       "      <td>1.269322e+00</td>\n",
       "      <td>3.033106e-01</td>\n",
       "    </tr>\n",
       "    <tr>\n",
       "      <th>std</th>\n",
       "      <td>NaN</td>\n",
       "      <td>8.617060e+06</td>\n",
       "      <td>NaN</td>\n",
       "      <td>1.259770e+00</td>\n",
       "      <td>NaN</td>\n",
       "      <td>NaN</td>\n",
       "      <td>NaN</td>\n",
       "      <td>NaN</td>\n",
       "      <td>NaN</td>\n",
       "      <td>1.030308e+01</td>\n",
       "      <td>2.460205e+00</td>\n",
       "    </tr>\n",
       "    <tr>\n",
       "      <th>min</th>\n",
       "      <td>NaN</td>\n",
       "      <td>5.000000e+01</td>\n",
       "      <td>NaN</td>\n",
       "      <td>0.000000e+00</td>\n",
       "      <td>NaN</td>\n",
       "      <td>NaN</td>\n",
       "      <td>NaN</td>\n",
       "      <td>NaN</td>\n",
       "      <td>NaN</td>\n",
       "      <td>-3.000000e+00</td>\n",
       "      <td>-3.000000e+00</td>\n",
       "    </tr>\n",
       "    <tr>\n",
       "      <th>25%</th>\n",
       "      <td>NaN</td>\n",
       "      <td>7.238737e+06</td>\n",
       "      <td>NaN</td>\n",
       "      <td>3.000000e+00</td>\n",
       "      <td>NaN</td>\n",
       "      <td>NaN</td>\n",
       "      <td>NaN</td>\n",
       "      <td>NaN</td>\n",
       "      <td>NaN</td>\n",
       "      <td>0.000000e+00</td>\n",
       "      <td>0.000000e+00</td>\n",
       "    </tr>\n",
       "    <tr>\n",
       "      <th>50%</th>\n",
       "      <td>NaN</td>\n",
       "      <td>1.298713e+07</td>\n",
       "      <td>NaN</td>\n",
       "      <td>4.000000e+00</td>\n",
       "      <td>NaN</td>\n",
       "      <td>NaN</td>\n",
       "      <td>NaN</td>\n",
       "      <td>NaN</td>\n",
       "      <td>NaN</td>\n",
       "      <td>0.000000e+00</td>\n",
       "      <td>0.000000e+00</td>\n",
       "    </tr>\n",
       "    <tr>\n",
       "      <th>75%</th>\n",
       "      <td>NaN</td>\n",
       "      <td>1.869243e+07</td>\n",
       "      <td>NaN</td>\n",
       "      <td>5.000000e+00</td>\n",
       "      <td>NaN</td>\n",
       "      <td>NaN</td>\n",
       "      <td>NaN</td>\n",
       "      <td>NaN</td>\n",
       "      <td>NaN</td>\n",
       "      <td>1.000000e+00</td>\n",
       "      <td>0.000000e+00</td>\n",
       "    </tr>\n",
       "    <tr>\n",
       "      <th>max</th>\n",
       "      <td>NaN</td>\n",
       "      <td>3.652450e+07</td>\n",
       "      <td>NaN</td>\n",
       "      <td>5.000000e+00</td>\n",
       "      <td>NaN</td>\n",
       "      <td>NaN</td>\n",
       "      <td>NaN</td>\n",
       "      <td>NaN</td>\n",
       "      <td>NaN</td>\n",
       "      <td>3.942000e+03</td>\n",
       "      <td>9.220000e+02</td>\n",
       "    </tr>\n",
       "  </tbody>\n",
       "</table>\n",
       "</div>"
      ],
      "text/plain": [
       "                                 user_id       book_id  \\\n",
       "count                            2389900  2.389900e+06   \n",
       "unique                            209152           NaN   \n",
       "top     59151b639f247aa97fffd5c71701db29           NaN   \n",
       "freq                                2438           NaN   \n",
       "mean                                 NaN  1.352580e+07   \n",
       "std                                  NaN  8.617060e+06   \n",
       "min                                  NaN  5.000000e+01   \n",
       "25%                                  NaN  7.238737e+06   \n",
       "50%                                  NaN  1.298713e+07   \n",
       "75%                                  NaN  1.869243e+07   \n",
       "max                                  NaN  3.652450e+07   \n",
       "\n",
       "                               review_id        rating review_text  \\\n",
       "count                            2389900  2.389900e+06     2388621   \n",
       "unique                           2389900           NaN     2296734   \n",
       "top     1e5e0f68ce5ebe96268bb4d3852e081d           NaN         3.5   \n",
       "freq                                   1           NaN        4284   \n",
       "mean                                 NaN  3.764296e+00         NaN   \n",
       "std                                  NaN  1.259770e+00         NaN   \n",
       "min                                  NaN  0.000000e+00         NaN   \n",
       "25%                                  NaN  3.000000e+00         NaN   \n",
       "50%                                  NaN  4.000000e+00         NaN   \n",
       "75%                                  NaN  5.000000e+00         NaN   \n",
       "max                                  NaN  5.000000e+00         NaN   \n",
       "\n",
       "                            date_added                    date_updated  \\\n",
       "count                          2389900                         2389900   \n",
       "unique                         2371220                         2340529   \n",
       "top     Sun Feb 01 00:00:00 -0800 2015  Sun Aug 04 08:29:24 -0700 2013   \n",
       "freq                                34                              37   \n",
       "mean                               NaN                             NaN   \n",
       "std                                NaN                             NaN   \n",
       "min                                NaN                             NaN   \n",
       "25%                                NaN                             NaN   \n",
       "50%                                NaN                             NaN   \n",
       "75%                                NaN                             NaN   \n",
       "max                                NaN                             NaN   \n",
       "\n",
       "                               read_at                      started_at  \\\n",
       "count                          2041459                         1579237   \n",
       "unique                          828792                           88651   \n",
       "top     Fri Jan 01 00:00:00 -0800 2016  Fri Jan 01 00:00:00 -0800 2016   \n",
       "freq                              5130                            2274   \n",
       "mean                               NaN                             NaN   \n",
       "std                                NaN                             NaN   \n",
       "min                                NaN                             NaN   \n",
       "25%                                NaN                             NaN   \n",
       "50%                                NaN                             NaN   \n",
       "75%                                NaN                             NaN   \n",
       "max                                NaN                             NaN   \n",
       "\n",
       "             n_votes    n_comments  \n",
       "count   2.389900e+06  2.389900e+06  \n",
       "unique           NaN           NaN  \n",
       "top              NaN           NaN  \n",
       "freq             NaN           NaN  \n",
       "mean    1.269322e+00  3.033106e-01  \n",
       "std     1.030308e+01  2.460205e+00  \n",
       "min    -3.000000e+00 -3.000000e+00  \n",
       "25%     0.000000e+00  0.000000e+00  \n",
       "50%     0.000000e+00  0.000000e+00  \n",
       "75%     1.000000e+00  0.000000e+00  \n",
       "max     3.942000e+03  9.220000e+02  "
      ]
     },
     "execution_count": 24,
     "metadata": {},
     "output_type": "execute_result"
    }
   ],
   "source": [
    "rev.describe(include='all')"
   ]
  },
  {
   "cell_type": "code",
   "execution_count": 26,
   "metadata": {},
   "outputs": [
    {
     "name": "stdout",
     "output_type": "stream",
     "text": [
      "<class 'pandas.core.frame.DataFrame'>\n",
      "RangeIndex: 2389900 entries, 0 to 2389899\n",
      "Data columns (total 11 columns):\n",
      " #   Column        Dtype \n",
      "---  ------        ----- \n",
      " 0   user_id       object\n",
      " 1   book_id       int64 \n",
      " 2   review_id     object\n",
      " 3   rating        int64 \n",
      " 4   review_text   object\n",
      " 5   date_added    object\n",
      " 6   date_updated  object\n",
      " 7   read_at       object\n",
      " 8   started_at    object\n",
      " 9   n_votes       int64 \n",
      " 10  n_comments    int64 \n",
      "dtypes: int64(4), object(7)\n",
      "memory usage: 200.6+ MB\n"
     ]
    }
   ],
   "source": [
    "rev.info()"
   ]
  },
  {
   "cell_type": "markdown",
   "metadata": {},
   "source": [
    "The interesting numberic columns:\n",
    "- n_votes - this is the property, what we want to predict\n",
    "- rating - how the user rated the book\n",
    "\n",
    "The interesting columns, whose need preprocessing:\n",
    "- review_text"
   ]
  },
  {
   "cell_type": "code",
   "execution_count": 25,
   "metadata": {},
   "outputs": [
    {
     "data": {
      "text/plain": [
       "<matplotlib.axes._subplots.AxesSubplot at 0x7fb8cfb42d90>"
      ]
     },
     "execution_count": 25,
     "metadata": {},
     "output_type": "execute_result"
    },
    {
     "data": {
      "image/png": "[encoded data removed]",
      "text/plain": [
       "<Figure size 1080x288 with 1 Axes>"
      ]
     },
     "metadata": {
      "needs_background": "light"
     },
     "output_type": "display_data"
    }
   ],
   "source": [
    "plt.figure(figsize=(15,4))\n",
    "rev.isna().sum().map(lambda x: (x / rev.shape[0])* 100).plot(kind='bar',title = 'Ratio of missing values')"
   ]
  },
  {
   "cell_type": "markdown",
   "metadata": {},
   "source": [
    "## rating"
   ]
  },
  {
   "cell_type": "code",
   "execution_count": 32,
   "metadata": {},
   "outputs": [
    {
     "name": "stdout",
     "output_type": "stream",
     "text": [
      "count    2.389900e+06\n",
      "mean     3.764296e+00\n",
      "std      1.259770e+00\n",
      "min      0.000000e+00\n",
      "25%      3.000000e+00\n",
      "50%      4.000000e+00\n",
      "75%      5.000000e+00\n",
      "max      5.000000e+00\n",
      "Name: rating, dtype: float64\n",
      "Ratio of 5: 33.5698564793506%\n",
      "Ratio of 4: 32.80957362232729%\n",
      "Ratio of 2: 7.327001129754383%\n",
      "Ratio of 3: 19.91648186116574%\n",
      "Ratio of 1: 2.938574835767187%\n",
      "Ratio of 0: 3.4385120716347966%\n"
     ]
    },
    {
     "data": {
      "text/plain": [
       "<matplotlib.axes._subplots.AxesSubplot at 0x7fb8ccb6b580>"
      ]
     },
     "execution_count": 32,
     "metadata": {},
     "output_type": "execute_result"
    },
    {
     "data": {
      "image/png": "[encoded data removed]",
      "text/plain": [
       "<Figure size 432x288 with 1 Axes>"
      ]
     },
     "metadata": {
      "needs_background": "light"
     },
     "output_type": "display_data"
    }
   ],
   "source": [
    "single_col.analyze_category(rev, 'rating')"
   ]
  },
  {
   "cell_type": "markdown",
   "metadata": {},
   "source": [
    "# number of votes"
   ]
  },
  {
   "cell_type": "code",
   "execution_count": 33,
   "metadata": {},
   "outputs": [
    {
     "name": "stdout",
     "output_type": "stream",
     "text": [
      "count    2.389900e+06\n",
      "mean     1.269322e+00\n",
      "std      1.030308e+01\n",
      "min     -3.000000e+00\n",
      "25%      0.000000e+00\n",
      "50%      0.000000e+00\n",
      "75%      1.000000e+00\n",
      "max      3.942000e+03\n",
      "Name: n_votes, dtype: float64\n",
      "\n",
      "missing values: 0/2389900 (0.0%)\n",
      "outliers upper: 210471/2389900 (8.806686472237333%)\n",
      "outliers lower: 81/2389900 (0.003389263149085736%)\n",
      "\n"
     ]
    },
    {
     "data": {
      "text/plain": [
       "(<Figure size 1080x360 with 2 Axes>,\n",
       " array([<matplotlib.axes._subplots.AxesSubplot object at 0x7fb8ccb2b2e0>,\n",
       "        <matplotlib.axes._subplots.AxesSubplot object at 0x7fb8ccabfd60>],\n",
       "       dtype=object))"
      ]
     },
     "execution_count": 33,
     "metadata": {},
     "output_type": "execute_result"
    },
    {
     "data": {
      "image/png": "[encoded data removed]",
      "text/plain": [
       "<Figure size 1080x360 with 2 Axes>"
      ]
     },
     "metadata": {
      "needs_background": "light"
     },
     "output_type": "display_data"
    }
   ],
   "source": [
    "single_col.analyze_numeric(rev,'n_votes')"
   ]
  },
  {
   "cell_type": "markdown",
   "metadata": {},
   "source": [
    "## Interactions"
   ]
  },
  {
   "cell_type": "code",
   "execution_count": 36,
   "metadata": {},
   "outputs": [],
   "source": [
    "intr = pd.read_csv('../data/interactions.csv', nrows=100000)"
   ]
  },
  {
   "cell_type": "code",
   "execution_count": 50,
   "metadata": {},
   "outputs": [
    {
     "data": {
      "text/plain": [
       "<matplotlib.axes._subplots.AxesSubplot at 0x7febd7ac33a0>"
      ]
     },
     "execution_count": 50,
     "metadata": {},
     "output_type": "execute_result"
    },
    {
     "data": {
      "image/png": "[encoded data removed]",
      "text/plain": [
       "<Figure size 1080x288 with 1 Axes>"
      ]
     },
     "metadata": {
      "needs_background": "light"
     },
     "output_type": "display_data"
    }
   ],
   "source": [
    "plt.figure(figsize=(15,4))\n",
    "intr.isna().sum().map(lambda x: (x / intr.shape[0])* 100).plot(kind='bar',title = 'Ratio of missing values')"
   ]
  },
  {
   "cell_type": "code",
   "execution_count": 45,
   "metadata": {},
   "outputs": [
    {
     "data": {
      "text/html": [
       "<div>\n",
       "<style scoped>\n",
       "    .dataframe tbody tr th:only-of-type {\n",
       "        vertical-align: middle;\n",
       "    }\n",
       "\n",
       "    .dataframe tbody tr th {\n",
       "        vertical-align: top;\n",
       "    }\n",
       "\n",
       "    .dataframe thead th {\n",
       "        text-align: right;\n",
       "    }\n",
       "</style>\n",
       "<table border=\"1\" class=\"dataframe\">\n",
       "  <thead>\n",
       "    <tr style=\"text-align: right;\">\n",
       "      <th></th>\n",
       "      <th>user_id</th>\n",
       "      <th>book_id</th>\n",
       "      <th>review_id</th>\n",
       "      <th>is_read</th>\n",
       "      <th>rating</th>\n",
       "      <th>review_text_incomplete</th>\n",
       "      <th>date_added</th>\n",
       "      <th>date_updated</th>\n",
       "      <th>read_at</th>\n",
       "      <th>started_at</th>\n",
       "    </tr>\n",
       "  </thead>\n",
       "  <tbody>\n",
       "    <tr>\n",
       "      <th>0</th>\n",
       "      <td>8842281e1d1347389f2ab93d60773d4d</td>\n",
       "      <td>18667753</td>\n",
       "      <td>be53fe83a6fc83474052f84692f6e90a</td>\n",
       "      <td>False</td>\n",
       "      <td>0</td>\n",
       "      <td>NaN</td>\n",
       "      <td>Wed Mar 29 00:12:52 -0700 2017</td>\n",
       "      <td>Wed Mar 29 00:12:52 -0700 2017</td>\n",
       "      <td>NaN</td>\n",
       "      <td>NaN</td>\n",
       "    </tr>\n",
       "    <tr>\n",
       "      <th>1</th>\n",
       "      <td>8842281e1d1347389f2ab93d60773d4d</td>\n",
       "      <td>428263</td>\n",
       "      <td>2030f56879ebcc307a4b9cd8c83200e8</td>\n",
       "      <td>False</td>\n",
       "      <td>0</td>\n",
       "      <td>NaN</td>\n",
       "      <td>Mon Mar 27 22:01:42 -0700 2017</td>\n",
       "      <td>Mon Mar 27 22:01:42 -0700 2017</td>\n",
       "      <td>NaN</td>\n",
       "      <td>NaN</td>\n",
       "    </tr>\n",
       "    <tr>\n",
       "      <th>2</th>\n",
       "      <td>8842281e1d1347389f2ab93d60773d4d</td>\n",
       "      <td>11387515</td>\n",
       "      <td>2fd3cd1acb30b099c135e358669639da</td>\n",
       "      <td>False</td>\n",
       "      <td>0</td>\n",
       "      <td>NaN</td>\n",
       "      <td>Thu Jan 26 13:35:10 -0800 2017</td>\n",
       "      <td>Thu Jan 26 13:35:10 -0800 2017</td>\n",
       "      <td>NaN</td>\n",
       "      <td>NaN</td>\n",
       "    </tr>\n",
       "    <tr>\n",
       "      <th>3</th>\n",
       "      <td>8842281e1d1347389f2ab93d60773d4d</td>\n",
       "      <td>8684868</td>\n",
       "      <td>d29b8238762d70b7c2b67941bc81fbe0</td>\n",
       "      <td>True</td>\n",
       "      <td>3</td>\n",
       "      <td>NaN</td>\n",
       "      <td>Tue Dec 17 13:42:25 -0800 2013</td>\n",
       "      <td>Tue Dec 17 13:47:26 -0800 2013</td>\n",
       "      <td>Sun Dec 15 00:00:00 -0800 2013</td>\n",
       "      <td>Sat Dec 14 00:00:00 -0800 2013</td>\n",
       "    </tr>\n",
       "    <tr>\n",
       "      <th>4</th>\n",
       "      <td>8842281e1d1347389f2ab93d60773d4d</td>\n",
       "      <td>8423493</td>\n",
       "      <td>357c8c178fd0e06cff5c025649231672</td>\n",
       "      <td>True</td>\n",
       "      <td>2</td>\n",
       "      <td>NaN</td>\n",
       "      <td>Sun Dec 08 01:26:12 -0800 2013</td>\n",
       "      <td>Tue Dec 27 05:37:48 -0800 2016</td>\n",
       "      <td>Tue Dec 10 00:00:00 -0800 2013</td>\n",
       "      <td>NaN</td>\n",
       "    </tr>\n",
       "    <tr>\n",
       "      <th>5</th>\n",
       "      <td>8842281e1d1347389f2ab93d60773d4d</td>\n",
       "      <td>87976</td>\n",
       "      <td>e6306259819c47f278e78d32a1b73ddf</td>\n",
       "      <td>True</td>\n",
       "      <td>5</td>\n",
       "      <td>NaN</td>\n",
       "      <td>Wed Oct 17 17:49:11 -0700 2012</td>\n",
       "      <td>Wed Oct 17 17:49:11 -0700 2012</td>\n",
       "      <td>NaN</td>\n",
       "      <td>NaN</td>\n",
       "    </tr>\n",
       "    <tr>\n",
       "      <th>6</th>\n",
       "      <td>8842281e1d1347389f2ab93d60773d4d</td>\n",
       "      <td>18116</td>\n",
       "      <td>8aa100c7b681e9fedbe2c6bd2c25696a</td>\n",
       "      <td>True</td>\n",
       "      <td>5</td>\n",
       "      <td>NaN</td>\n",
       "      <td>Fri Apr 29 13:14:05 -0700 2011</td>\n",
       "      <td>Fri Apr 29 13:14:05 -0700 2011</td>\n",
       "      <td>NaN</td>\n",
       "      <td>NaN</td>\n",
       "    </tr>\n",
       "    <tr>\n",
       "      <th>7</th>\n",
       "      <td>8842281e1d1347389f2ab93d60773d4d</td>\n",
       "      <td>2767052</td>\n",
       "      <td>248c011811e945eca861b5c31a549291</td>\n",
       "      <td>True</td>\n",
       "      <td>5</td>\n",
       "      <td>I cracked and finally picked this up. Very enj...</td>\n",
       "      <td>Wed Jan 13 13:38:25 -0800 2010</td>\n",
       "      <td>Wed Mar 22 11:46:36 -0700 2017</td>\n",
       "      <td>Sun Mar 25 00:00:00 -0700 2012</td>\n",
       "      <td>Fri Mar 23 00:00:00 -0700 2012</td>\n",
       "    </tr>\n",
       "    <tr>\n",
       "      <th>8</th>\n",
       "      <td>8842281e1d1347389f2ab93d60773d4d</td>\n",
       "      <td>119324</td>\n",
       "      <td>ec40ca421b13ee6ae810613319681ecb</td>\n",
       "      <td>True</td>\n",
       "      <td>5</td>\n",
       "      <td>NaN</td>\n",
       "      <td>Wed Dec 26 17:20:57 -0800 2007</td>\n",
       "      <td>Wed Mar 22 11:45:53 -0700 2017</td>\n",
       "      <td>Wed Jan 02 13:19:47 -0800 2008</td>\n",
       "      <td>NaN</td>\n",
       "    </tr>\n",
       "    <tr>\n",
       "      <th>9</th>\n",
       "      <td>8842281e1d1347389f2ab93d60773d4d</td>\n",
       "      <td>50</td>\n",
       "      <td>825490f5c1a288921599ca2565947163</td>\n",
       "      <td>True</td>\n",
       "      <td>5</td>\n",
       "      <td>NaN</td>\n",
       "      <td>Tue Aug 29 11:20:01 -0700 2006</td>\n",
       "      <td>Wed Mar 22 11:44:07 -0700 2017</td>\n",
       "      <td>NaN</td>\n",
       "      <td>NaN</td>\n",
       "    </tr>\n",
       "  </tbody>\n",
       "</table>\n",
       "</div>"
      ],
      "text/plain": [
       "                            user_id   book_id  \\\n",
       "0  8842281e1d1347389f2ab93d60773d4d  18667753   \n",
       "1  8842281e1d1347389f2ab93d60773d4d    428263   \n",
       "2  8842281e1d1347389f2ab93d60773d4d  11387515   \n",
       "3  8842281e1d1347389f2ab93d60773d4d   8684868   \n",
       "4  8842281e1d1347389f2ab93d60773d4d   8423493   \n",
       "5  8842281e1d1347389f2ab93d60773d4d     87976   \n",
       "6  8842281e1d1347389f2ab93d60773d4d     18116   \n",
       "7  8842281e1d1347389f2ab93d60773d4d   2767052   \n",
       "8  8842281e1d1347389f2ab93d60773d4d    119324   \n",
       "9  8842281e1d1347389f2ab93d60773d4d        50   \n",
       "\n",
       "                          review_id  is_read  rating  \\\n",
       "0  be53fe83a6fc83474052f84692f6e90a    False       0   \n",
       "1  2030f56879ebcc307a4b9cd8c83200e8    False       0   \n",
       "2  2fd3cd1acb30b099c135e358669639da    False       0   \n",
       "3  d29b8238762d70b7c2b67941bc81fbe0     True       3   \n",
       "4  357c8c178fd0e06cff5c025649231672     True       2   \n",
       "5  e6306259819c47f278e78d32a1b73ddf     True       5   \n",
       "6  8aa100c7b681e9fedbe2c6bd2c25696a     True       5   \n",
       "7  248c011811e945eca861b5c31a549291     True       5   \n",
       "8  ec40ca421b13ee6ae810613319681ecb     True       5   \n",
       "9  825490f5c1a288921599ca2565947163     True       5   \n",
       "\n",
       "                              review_text_incomplete  \\\n",
       "0                                                NaN   \n",
       "1                                                NaN   \n",
       "2                                                NaN   \n",
       "3                                                NaN   \n",
       "4                                                NaN   \n",
       "5                                                NaN   \n",
       "6                                                NaN   \n",
       "7  I cracked and finally picked this up. Very enj...   \n",
       "8                                                NaN   \n",
       "9                                                NaN   \n",
       "\n",
       "                       date_added                    date_updated  \\\n",
       "0  Wed Mar 29 00:12:52 -0700 2017  Wed Mar 29 00:12:52 -0700 2017   \n",
       "1  Mon Mar 27 22:01:42 -0700 2017  Mon Mar 27 22:01:42 -0700 2017   \n",
       "2  Thu Jan 26 13:35:10 -0800 2017  Thu Jan 26 13:35:10 -0800 2017   \n",
       "3  Tue Dec 17 13:42:25 -0800 2013  Tue Dec 17 13:47:26 -0800 2013   \n",
       "4  Sun Dec 08 01:26:12 -0800 2013  Tue Dec 27 05:37:48 -0800 2016   \n",
       "5  Wed Oct 17 17:49:11 -0700 2012  Wed Oct 17 17:49:11 -0700 2012   \n",
       "6  Fri Apr 29 13:14:05 -0700 2011  Fri Apr 29 13:14:05 -0700 2011   \n",
       "7  Wed Jan 13 13:38:25 -0800 2010  Wed Mar 22 11:46:36 -0700 2017   \n",
       "8  Wed Dec 26 17:20:57 -0800 2007  Wed Mar 22 11:45:53 -0700 2017   \n",
       "9  Tue Aug 29 11:20:01 -0700 2006  Wed Mar 22 11:44:07 -0700 2017   \n",
       "\n",
       "                          read_at                      started_at  \n",
       "0                             NaN                             NaN  \n",
       "1                             NaN                             NaN  \n",
       "2                             NaN                             NaN  \n",
       "3  Sun Dec 15 00:00:00 -0800 2013  Sat Dec 14 00:00:00 -0800 2013  \n",
       "4  Tue Dec 10 00:00:00 -0800 2013                             NaN  \n",
       "5                             NaN                             NaN  \n",
       "6                             NaN                             NaN  \n",
       "7  Sun Mar 25 00:00:00 -0700 2012  Fri Mar 23 00:00:00 -0700 2012  \n",
       "8  Wed Jan 02 13:19:47 -0800 2008                             NaN  \n",
       "9                             NaN                             NaN  "
      ]
     },
     "execution_count": 45,
     "metadata": {},
     "output_type": "execute_result"
    }
   ],
   "source": [
    "intr.head(10)"
   ]
  },
  {
   "cell_type": "code",
   "execution_count": 36,
   "metadata": {},
   "outputs": [
    {
     "data": {
      "text/html": [
       "<div>\n",
       "<style scoped>\n",
       "    .dataframe tbody tr th:only-of-type {\n",
       "        vertical-align: middle;\n",
       "    }\n",
       "\n",
       "    .dataframe tbody tr th {\n",
       "        vertical-align: top;\n",
       "    }\n",
       "\n",
       "    .dataframe thead th {\n",
       "        text-align: right;\n",
       "    }\n",
       "</style>\n",
       "<table border=\"1\" class=\"dataframe\">\n",
       "  <thead>\n",
       "    <tr style=\"text-align: right;\">\n",
       "      <th></th>\n",
       "      <th>user_id</th>\n",
       "      <th>book_id</th>\n",
       "      <th>review_id</th>\n",
       "      <th>is_read</th>\n",
       "      <th>rating</th>\n",
       "      <th>review_text_incomplete</th>\n",
       "      <th>date_added</th>\n",
       "      <th>date_updated</th>\n",
       "      <th>read_at</th>\n",
       "      <th>started_at</th>\n",
       "    </tr>\n",
       "  </thead>\n",
       "  <tbody>\n",
       "    <tr>\n",
       "      <th>count</th>\n",
       "      <td>100000</td>\n",
       "      <td>1.000000e+05</td>\n",
       "      <td>100000</td>\n",
       "      <td>100000</td>\n",
       "      <td>100000.000000</td>\n",
       "      <td>7922</td>\n",
       "      <td>100000</td>\n",
       "      <td>100000</td>\n",
       "      <td>22055</td>\n",
       "      <td>17772</td>\n",
       "    </tr>\n",
       "    <tr>\n",
       "      <th>unique</th>\n",
       "      <td>1302</td>\n",
       "      <td>NaN</td>\n",
       "      <td>100000</td>\n",
       "      <td>2</td>\n",
       "      <td>NaN</td>\n",
       "      <td>7821</td>\n",
       "      <td>98934</td>\n",
       "      <td>98635</td>\n",
       "      <td>15447</td>\n",
       "      <td>10702</td>\n",
       "    </tr>\n",
       "    <tr>\n",
       "      <th>top</th>\n",
       "      <td>f8a89075dc6de14857561522e729f82c</td>\n",
       "      <td>NaN</td>\n",
       "      <td>5c394e8593ddfa2db1bcad40816e8296</td>\n",
       "      <td>False</td>\n",
       "      <td>NaN</td>\n",
       "      <td>This book is on the bibliography of books chal...</td>\n",
       "      <td>Fri Jun 08 12:48:05 -0700 2012</td>\n",
       "      <td>Mon Jul 01 01:03:41 -0700 2013</td>\n",
       "      <td>Fri Jan 01 00:00:00 -0800 2016</td>\n",
       "      <td>Sat Jun 03 00:00:00 -0700 2017</td>\n",
       "    </tr>\n",
       "    <tr>\n",
       "      <th>freq</th>\n",
       "      <td>2528</td>\n",
       "      <td>NaN</td>\n",
       "      <td>1</td>\n",
       "      <td>55082</td>\n",
       "      <td>NaN</td>\n",
       "      <td>26</td>\n",
       "      <td>12</td>\n",
       "      <td>34</td>\n",
       "      <td>130</td>\n",
       "      <td>29</td>\n",
       "    </tr>\n",
       "    <tr>\n",
       "      <th>mean</th>\n",
       "      <td>NaN</td>\n",
       "      <td>1.199138e+07</td>\n",
       "      <td>NaN</td>\n",
       "      <td>NaN</td>\n",
       "      <td>1.643070</td>\n",
       "      <td>NaN</td>\n",
       "      <td>NaN</td>\n",
       "      <td>NaN</td>\n",
       "      <td>NaN</td>\n",
       "      <td>NaN</td>\n",
       "    </tr>\n",
       "    <tr>\n",
       "      <th>std</th>\n",
       "      <td>NaN</td>\n",
       "      <td>8.973618e+06</td>\n",
       "      <td>NaN</td>\n",
       "      <td>NaN</td>\n",
       "      <td>2.022175</td>\n",
       "      <td>NaN</td>\n",
       "      <td>NaN</td>\n",
       "      <td>NaN</td>\n",
       "      <td>NaN</td>\n",
       "      <td>NaN</td>\n",
       "    </tr>\n",
       "    <tr>\n",
       "      <th>min</th>\n",
       "      <td>NaN</td>\n",
       "      <td>5.000000e+01</td>\n",
       "      <td>NaN</td>\n",
       "      <td>NaN</td>\n",
       "      <td>0.000000</td>\n",
       "      <td>NaN</td>\n",
       "      <td>NaN</td>\n",
       "      <td>NaN</td>\n",
       "      <td>NaN</td>\n",
       "      <td>NaN</td>\n",
       "    </tr>\n",
       "    <tr>\n",
       "      <th>25%</th>\n",
       "      <td>NaN</td>\n",
       "      <td>5.135798e+06</td>\n",
       "      <td>NaN</td>\n",
       "      <td>NaN</td>\n",
       "      <td>0.000000</td>\n",
       "      <td>NaN</td>\n",
       "      <td>NaN</td>\n",
       "      <td>NaN</td>\n",
       "      <td>NaN</td>\n",
       "      <td>NaN</td>\n",
       "    </tr>\n",
       "    <tr>\n",
       "      <th>50%</th>\n",
       "      <td>NaN</td>\n",
       "      <td>1.138430e+07</td>\n",
       "      <td>NaN</td>\n",
       "      <td>NaN</td>\n",
       "      <td>0.000000</td>\n",
       "      <td>NaN</td>\n",
       "      <td>NaN</td>\n",
       "      <td>NaN</td>\n",
       "      <td>NaN</td>\n",
       "      <td>NaN</td>\n",
       "    </tr>\n",
       "    <tr>\n",
       "      <th>75%</th>\n",
       "      <td>NaN</td>\n",
       "      <td>1.792690e+07</td>\n",
       "      <td>NaN</td>\n",
       "      <td>NaN</td>\n",
       "      <td>4.000000</td>\n",
       "      <td>NaN</td>\n",
       "      <td>NaN</td>\n",
       "      <td>NaN</td>\n",
       "      <td>NaN</td>\n",
       "      <td>NaN</td>\n",
       "    </tr>\n",
       "    <tr>\n",
       "      <th>max</th>\n",
       "      <td>NaN</td>\n",
       "      <td>3.639851e+07</td>\n",
       "      <td>NaN</td>\n",
       "      <td>NaN</td>\n",
       "      <td>5.000000</td>\n",
       "      <td>NaN</td>\n",
       "      <td>NaN</td>\n",
       "      <td>NaN</td>\n",
       "      <td>NaN</td>\n",
       "      <td>NaN</td>\n",
       "    </tr>\n",
       "  </tbody>\n",
       "</table>\n",
       "</div>"
      ],
      "text/plain": [
       "                                 user_id       book_id  \\\n",
       "count                             100000  1.000000e+05   \n",
       "unique                              1302           NaN   \n",
       "top     f8a89075dc6de14857561522e729f82c           NaN   \n",
       "freq                                2528           NaN   \n",
       "mean                                 NaN  1.199138e+07   \n",
       "std                                  NaN  8.973618e+06   \n",
       "min                                  NaN  5.000000e+01   \n",
       "25%                                  NaN  5.135798e+06   \n",
       "50%                                  NaN  1.138430e+07   \n",
       "75%                                  NaN  1.792690e+07   \n",
       "max                                  NaN  3.639851e+07   \n",
       "\n",
       "                               review_id is_read         rating  \\\n",
       "count                             100000  100000  100000.000000   \n",
       "unique                            100000       2            NaN   \n",
       "top     5c394e8593ddfa2db1bcad40816e8296   False            NaN   \n",
       "freq                                   1   55082            NaN   \n",
       "mean                                 NaN     NaN       1.643070   \n",
       "std                                  NaN     NaN       2.022175   \n",
       "min                                  NaN     NaN       0.000000   \n",
       "25%                                  NaN     NaN       0.000000   \n",
       "50%                                  NaN     NaN       0.000000   \n",
       "75%                                  NaN     NaN       4.000000   \n",
       "max                                  NaN     NaN       5.000000   \n",
       "\n",
       "                                   review_text_incomplete  \\\n",
       "count                                                7922   \n",
       "unique                                               7821   \n",
       "top     This book is on the bibliography of books chal...   \n",
       "freq                                                   26   \n",
       "mean                                                  NaN   \n",
       "std                                                   NaN   \n",
       "min                                                   NaN   \n",
       "25%                                                   NaN   \n",
       "50%                                                   NaN   \n",
       "75%                                                   NaN   \n",
       "max                                                   NaN   \n",
       "\n",
       "                            date_added                    date_updated  \\\n",
       "count                           100000                          100000   \n",
       "unique                           98934                           98635   \n",
       "top     Fri Jun 08 12:48:05 -0700 2012  Mon Jul 01 01:03:41 -0700 2013   \n",
       "freq                                12                              34   \n",
       "mean                               NaN                             NaN   \n",
       "std                                NaN                             NaN   \n",
       "min                                NaN                             NaN   \n",
       "25%                                NaN                             NaN   \n",
       "50%                                NaN                             NaN   \n",
       "75%                                NaN                             NaN   \n",
       "max                                NaN                             NaN   \n",
       "\n",
       "                               read_at                      started_at  \n",
       "count                            22055                           17772  \n",
       "unique                           15447                           10702  \n",
       "top     Fri Jan 01 00:00:00 -0800 2016  Sat Jun 03 00:00:00 -0700 2017  \n",
       "freq                               130                              29  \n",
       "mean                               NaN                             NaN  \n",
       "std                                NaN                             NaN  \n",
       "min                                NaN                             NaN  \n",
       "25%                                NaN                             NaN  \n",
       "50%                                NaN                             NaN  \n",
       "75%                                NaN                             NaN  \n",
       "max                                NaN                             NaN  "
      ]
     },
     "execution_count": 36,
     "metadata": {},
     "output_type": "execute_result"
    }
   ],
   "source": [
    "intr.describe(include='all')"
   ]
  },
  {
   "cell_type": "code",
   "execution_count": 37,
   "metadata": {},
   "outputs": [
    {
     "name": "stdout",
     "output_type": "stream",
     "text": [
      "count     100000\n",
      "unique         2\n",
      "top        False\n",
      "freq       55082\n",
      "Name: is_read, dtype: object\n",
      "Ratio of False: 55.082%\n",
      "Ratio of True: 44.918%\n"
     ]
    },
    {
     "data": {
      "text/plain": [
       "<matplotlib.axes._subplots.AxesSubplot at 0x7fb8c0580730>"
      ]
     },
     "execution_count": 37,
     "metadata": {},
     "output_type": "execute_result"
    },
    {
     "data": {
      "image/png": "[encoded data removed]",
      "text/plain": [
       "<Figure size 432x288 with 1 Axes>"
      ]
     },
     "metadata": {
      "needs_background": "light"
     },
     "output_type": "display_data"
    }
   ],
   "source": [
    "single_col.analyze_category(intr, 'is_read')"
   ]
  },
  {
   "cell_type": "code",
   "execution_count": 39,
   "metadata": {},
   "outputs": [
    {
     "name": "stdout",
     "output_type": "stream",
     "text": [
      "count    100000.000000\n",
      "mean          1.643070\n",
      "std           2.022175\n",
      "min           0.000000\n",
      "25%           0.000000\n",
      "50%           0.000000\n",
      "75%           4.000000\n",
      "max           5.000000\n",
      "Name: rating, dtype: float64\n",
      "Ratio of 0: 57.537%\n",
      "Ratio of 3: 9.876%\n",
      "Ratio of 2: 2.946%\n",
      "Ratio of 5: 13.211%\n",
      "Ratio of 4: 15.434%\n",
      "Ratio of 1: 0.996%\n"
     ]
    },
    {
     "data": {
      "text/plain": [
       "<matplotlib.axes._subplots.AxesSubplot at 0x7fb8c05f2fd0>"
      ]
     },
     "execution_count": 39,
     "metadata": {},
     "output_type": "execute_result"
    },
    {
     "data": {
      "image/png": "[encoded data removed]",
      "text/plain": [
       "<Figure size 432x288 with 1 Axes>"
      ]
     },
     "metadata": {
      "needs_background": "light"
     },
     "output_type": "display_data"
    }
   ],
   "source": [
    "single_col.analyze_category(intr, 'rating')"
   ]
  },
  {
   "cell_type": "markdown",
   "metadata": {},
   "source": [
    "0 indicates 'not provided'"
   ]
  },
  {
   "cell_type": "markdown",
   "metadata": {},
   "source": [
    "TODO: User interactions: number of ratings per user, ratings range, number of books,...\n",
    "\n",
    "author: number of books, average rating, number of ratings(?), ..."
   ]
  }
 ],
 "metadata": {
  "kernelspec": {
   "display_name": ".venv",
   "language": "python",
   "name": ".venv"
  },
  "language_info": {
   "codemirror_mode": {
    "name": "ipython",
    "version": 3
   },
   "file_extension": ".py",
   "mimetype": "text/x-python",
   "name": "python",
   "nbconvert_exporter": "python",
   "pygments_lexer": "ipython3",
   "version": "3.8.1"
  }
 },
 "nbformat": 4,
 "nbformat_minor": 2
}
